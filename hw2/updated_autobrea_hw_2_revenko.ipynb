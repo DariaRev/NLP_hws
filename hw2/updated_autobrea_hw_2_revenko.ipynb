{
  "cells": [
    {
      "cell_type": "code",
      "execution_count": 4,
      "metadata": {
        "colab": {
          "base_uri": "https://localhost:8080/"
        },
        "id": "ujpA0u-8WVtb",
        "outputId": "76e05859-7483-4e49-dbfd-07b0d3f16365"
      },
      "outputs": [
        {
          "output_type": "stream",
          "name": "stdout",
          "text": [
            "--2022-12-17 21:01:14--  https://jmcauley.ucsd.edu/data/amazon_v2/categoryFiles/Luxury_Beauty.json.gz\n",
            "Resolving jmcauley.ucsd.edu (jmcauley.ucsd.edu)... 137.110.160.73\n",
            "Connecting to jmcauley.ucsd.edu (jmcauley.ucsd.edu)|137.110.160.73|:443... connected.\n",
            "WARNING: cannot verify jmcauley.ucsd.edu's certificate, issued by ‘CN=InCommon RSA Server CA,OU=InCommon,O=Internet2,L=Ann Arbor,ST=MI,C=US’:\n",
            "  Unable to locally verify the issuer's authority.\n",
            "HTTP request sent, awaiting response... 200 OK\n",
            "Length: 73193215 (70M) [application/x-gzip]\n",
            "Saving to: ‘Luxury_Beauty.json.gz’\n",
            "\n",
            "Luxury_Beauty.json. 100%[===================>]  69.80M  75.5MB/s    in 0.9s    \n",
            "\n",
            "2022-12-17 21:01:15 (75.5 MB/s) - ‘Luxury_Beauty.json.gz’ saved [73193215/73193215]\n",
            "\n"
          ]
        }
      ],
      "source": [
        "!wget --no-check-certificate https://jmcauley.ucsd.edu/data/amazon_v2/categoryFiles/Luxury_Beauty.json.gz"
      ]
    },
    {
      "cell_type": "code",
      "execution_count": 5,
      "metadata": {
        "colab": {
          "base_uri": "https://localhost:8080/"
        },
        "id": "quiwRtChYCvx",
        "outputId": "470c2126-aeae-421a-e08a-e138aaf54108"
      },
      "outputs": [
        {
          "output_type": "stream",
          "name": "stdout",
          "text": [
            "--2022-12-17 21:01:17--  https://jmcauley.ucsd.edu/data/amazon_v2/metaFiles2/meta_Luxury_Beauty.json.gz\n",
            "Resolving jmcauley.ucsd.edu (jmcauley.ucsd.edu)... 137.110.160.73\n",
            "Connecting to jmcauley.ucsd.edu (jmcauley.ucsd.edu)|137.110.160.73|:443... connected.\n",
            "WARNING: cannot verify jmcauley.ucsd.edu's certificate, issued by ‘CN=InCommon RSA Server CA,OU=InCommon,O=Internet2,L=Ann Arbor,ST=MI,C=US’:\n",
            "  Unable to locally verify the issuer's authority.\n",
            "HTTP request sent, awaiting response... 200 OK\n",
            "Length: 7608964 (7.3M) [application/x-gzip]\n",
            "Saving to: ‘meta_Luxury_Beauty.json.gz’\n",
            "\n",
            "meta_Luxury_Beauty. 100%[===================>]   7.26M  27.2MB/s    in 0.3s    \n",
            "\n",
            "2022-12-17 21:01:17 (27.2 MB/s) - ‘meta_Luxury_Beauty.json.gz’ saved [7608964/7608964]\n",
            "\n"
          ]
        }
      ],
      "source": [
        "!wget --no-check-certificate https://jmcauley.ucsd.edu/data/amazon_v2/metaFiles2/meta_Luxury_Beauty.json.gz"
      ]
    },
    {
      "cell_type": "code",
      "execution_count": 6,
      "metadata": {
        "id": "eNxZANoVdvHs",
        "colab": {
          "base_uri": "https://localhost:8080/"
        },
        "outputId": "3211a089-fc8b-4e0d-bd97-73499caccf02"
      },
      "outputs": [
        {
          "output_type": "stream",
          "name": "stderr",
          "text": [
            "Installing mystem to /root/.local/bin/mystem from http://download.cdn.yandex.net/mystem/mystem-3.1-linux-64bit.tar.gz\n"
          ]
        }
      ],
      "source": [
        "from pymystem3 import Mystem\n",
        "mystem = Mystem()\n",
        "from string import punctuation"
      ]
    },
    {
      "cell_type": "code",
      "execution_count": 7,
      "metadata": {
        "colab": {
          "base_uri": "https://localhost:8080/",
          "height": 367
        },
        "id": "oxP9b6RBf2r0",
        "outputId": "03987174-3dd9-4fe4-8d11-a374fa3ed65f"
      },
      "outputs": [
        {
          "output_type": "stream",
          "name": "stdout",
          "text": [
            "Looking in indexes: https://pypi.org/simple, https://us-python.pkg.dev/colab-wheels/public/simple/\n",
            "Collecting pymystem3==0.1.10\n",
            "  Downloading pymystem3-0.1.10-py3-none-any.whl (10 kB)\n",
            "Requirement already satisfied: requests in /usr/local/lib/python3.8/dist-packages (from pymystem3==0.1.10) (2.23.0)\n",
            "Requirement already satisfied: idna<3,>=2.5 in /usr/local/lib/python3.8/dist-packages (from requests->pymystem3==0.1.10) (2.10)\n",
            "Requirement already satisfied: urllib3!=1.25.0,!=1.25.1,<1.26,>=1.21.1 in /usr/local/lib/python3.8/dist-packages (from requests->pymystem3==0.1.10) (1.24.3)\n",
            "Requirement already satisfied: chardet<4,>=3.0.2 in /usr/local/lib/python3.8/dist-packages (from requests->pymystem3==0.1.10) (3.0.4)\n",
            "Requirement already satisfied: certifi>=2017.4.17 in /usr/local/lib/python3.8/dist-packages (from requests->pymystem3==0.1.10) (2022.12.7)\n",
            "Installing collected packages: pymystem3\n",
            "  Attempting uninstall: pymystem3\n",
            "    Found existing installation: pymystem3 0.2.0\n",
            "    Uninstalling pymystem3-0.2.0:\n",
            "      Successfully uninstalled pymystem3-0.2.0\n",
            "Successfully installed pymystem3-0.1.10\n"
          ]
        },
        {
          "output_type": "display_data",
          "data": {
            "application/vnd.colab-display-data+json": {
              "pip_warning": {
                "packages": [
                  "pymystem3"
                ]
              }
            }
          },
          "metadata": {}
        }
      ],
      "source": [
        "!pip install pymystem3==0.1.10"
      ]
    },
    {
      "cell_type": "code",
      "execution_count": 8,
      "metadata": {
        "colab": {
          "base_uri": "https://localhost:8080/"
        },
        "id": "J_7lOdr7foyi",
        "outputId": "3e7f8a1e-4706-4760-9b9c-21142f0ebabc"
      },
      "outputs": [
        {
          "output_type": "stream",
          "name": "stdout",
          "text": [
            "--2022-12-17 21:01:30--  http://download.cdn.yandex.net/mystem/mystem-3.0-linux3.1-64bit.tar.gz\n",
            "Resolving download.cdn.yandex.net (download.cdn.yandex.net)... 5.45.205.245, 5.45.205.241, 5.45.205.242, ...\n",
            "Connecting to download.cdn.yandex.net (download.cdn.yandex.net)|5.45.205.245|:80... connected.\n",
            "HTTP request sent, awaiting response... 302 Found\n",
            "Location: http://cachev2-spb01.cdn.yandex.net/download.cdn.yandex.net/mystem/mystem-3.0-linux3.1-64bit.tar.gz?lid=122 [following]\n",
            "--2022-12-17 21:01:31--  http://cachev2-spb01.cdn.yandex.net/download.cdn.yandex.net/mystem/mystem-3.0-linux3.1-64bit.tar.gz?lid=122\n",
            "Resolving cachev2-spb01.cdn.yandex.net (cachev2-spb01.cdn.yandex.net)... 37.140.137.1, 2a02:6b8:0:2221::301\n",
            "Connecting to cachev2-spb01.cdn.yandex.net (cachev2-spb01.cdn.yandex.net)|37.140.137.1|:80... connected.\n",
            "HTTP request sent, awaiting response... 200 OK\n",
            "Length: 16457938 (16M) [application/octet-stream]\n",
            "Saving to: ‘mystem-3.0-linux3.1-64bit.tar.gz’\n",
            "\n",
            "mystem-3.0-linux3.1 100%[===================>]  15.70M  7.27MB/s    in 2.2s    \n",
            "\n",
            "2022-12-17 21:01:33 (7.27 MB/s) - ‘mystem-3.0-linux3.1-64bit.tar.gz’ saved [16457938/16457938]\n",
            "\n",
            "mystem\n"
          ]
        }
      ],
      "source": [
        "!wget http://download.cdn.yandex.net/mystem/mystem-3.0-linux3.1-64bit.tar.gz\n",
        "!tar -xvf mystem-3.0-linux3.1-64bit.tar.gz\n",
        "!cp mystem /root/.local/bin/mystem"
      ]
    },
    {
      "cell_type": "code",
      "execution_count": 9,
      "metadata": {
        "colab": {
          "base_uri": "https://localhost:8080/"
        },
        "id": "TpgY98KEaMaQ",
        "outputId": "7afec814-5b48-4f25-ba04-8a290770041e"
      },
      "outputs": [
        {
          "output_type": "stream",
          "name": "stderr",
          "text": [
            "/usr/local/lib/python3.8/dist-packages/torch/cuda/__init__.py:497: UserWarning: Can't initialize NVML\n",
            "  warnings.warn(\"Can't initialize NVML\")\n",
            "[nltk_data] Downloading package punkt to /root/nltk_data...\n",
            "[nltk_data]   Unzipping tokenizers/punkt.zip.\n",
            "[nltk_data] Downloading package stopwords to /root/nltk_data...\n",
            "[nltk_data]   Unzipping corpora/stopwords.zip.\n"
          ]
        }
      ],
      "source": [
        "import pandas as pd\n",
        "import gzip\n",
        "import json\n",
        "import spacy\n",
        "nlp = spacy.load('en_core_web_sm')\n",
        "from tqdm.auto import tqdm\n",
        "import nltk\n",
        "from nltk import word_tokenize\n",
        "from nltk.stem.snowball import SnowballStemmer\n",
        "nltk.download('punkt')\n",
        "nltk.download('stopwords')\n",
        "from nltk.corpus import stopwords\n",
        "stopwords = stopwords.words('english')"
      ]
    },
    {
      "cell_type": "markdown",
      "source": [
        "## Читаем данные"
      ],
      "metadata": {
        "id": "YUjzzlOOACv9"
      }
    },
    {
      "cell_type": "code",
      "execution_count": 10,
      "metadata": {
        "id": "zt_5aofFWiTT"
      },
      "outputs": [],
      "source": [
        "def parse(path):\n",
        "  g = gzip.open(path, 'rb')\n",
        "  for l in g:\n",
        "    yield json.loads(l)\n",
        "\n",
        "def getDF(path):\n",
        "  i = 0\n",
        "  df = {}\n",
        "  for d in parse(path):\n",
        "    df[i] = d\n",
        "    i += 1\n",
        "  return pd.DataFrame.from_dict(df, orient='index')\n",
        "\n",
        "df = getDF('Luxury_Beauty.json.gz')\n",
        "df_meta = getDF('meta_Luxury_Beauty.json.gz')"
      ]
    },
    {
      "cell_type": "code",
      "execution_count": 11,
      "metadata": {
        "colab": {
          "base_uri": "https://localhost:8080/",
          "height": 406
        },
        "id": "_RgxI0i3W1Co",
        "outputId": "57ca5555-d77a-402b-98eb-e1888d142eab"
      },
      "outputs": [
        {
          "output_type": "execute_result",
          "data": {
            "text/plain": [
              "   overall vote  verified   reviewTime      reviewerID        asin  \\\n",
              "0      2.0    3      True  06 15, 2010  A1Q6MUU0B2ZDQG  B00004U9V2   \n",
              "1      5.0   14      True   01 7, 2010  A3HO2SQDCZIE9S  B00004U9V2   \n",
              "2      5.0  NaN      True  04 18, 2018  A2EM03F99X3RJZ  B00004U9V2   \n",
              "3      5.0  NaN      True  04 18, 2018   A3Z74TDRGD0HU  B00004U9V2   \n",
              "4      5.0  NaN      True  04 17, 2018  A2UXFNW9RTL4VM  B00004U9V2   \n",
              "\n",
              "    reviewerName                                         reviewText  \\\n",
              "0      D. Poston  I bought two of these 8.5 fl oz hand cream, an...   \n",
              "1        chandra  Believe me, over the years I have tried many, ...   \n",
              "2      Maureen G                                  Great hand lotion   \n",
              "3        Terry K  This is the best for the severely dry skin on ...   \n",
              "4  Patricia Wood  The best non- oily hand cream ever. It heals o...   \n",
              "\n",
              "                         summary  unixReviewTime                  style image  \n",
              "0          dispensers don't work      1276560000                    NaN   NaN  \n",
              "1          Best hand cream ever.      1262822400                    NaN   NaN  \n",
              "2                     Five Stars      1524009600  {'Size:': ' 3.5 oz.'}   NaN  \n",
              "3                     Five Stars      1524009600  {'Size:': ' 3.5 oz.'}   NaN  \n",
              "4  I always have a backup ready.      1523923200  {'Size:': ' 3.5 oz.'}   NaN  "
            ],
            "text/html": [
              "\n",
              "  <div id=\"df-05483ec6-99e2-4d60-a807-2e8ac91473fa\">\n",
              "    <div class=\"colab-df-container\">\n",
              "      <div>\n",
              "<style scoped>\n",
              "    .dataframe tbody tr th:only-of-type {\n",
              "        vertical-align: middle;\n",
              "    }\n",
              "\n",
              "    .dataframe tbody tr th {\n",
              "        vertical-align: top;\n",
              "    }\n",
              "\n",
              "    .dataframe thead th {\n",
              "        text-align: right;\n",
              "    }\n",
              "</style>\n",
              "<table border=\"1\" class=\"dataframe\">\n",
              "  <thead>\n",
              "    <tr style=\"text-align: right;\">\n",
              "      <th></th>\n",
              "      <th>overall</th>\n",
              "      <th>vote</th>\n",
              "      <th>verified</th>\n",
              "      <th>reviewTime</th>\n",
              "      <th>reviewerID</th>\n",
              "      <th>asin</th>\n",
              "      <th>reviewerName</th>\n",
              "      <th>reviewText</th>\n",
              "      <th>summary</th>\n",
              "      <th>unixReviewTime</th>\n",
              "      <th>style</th>\n",
              "      <th>image</th>\n",
              "    </tr>\n",
              "  </thead>\n",
              "  <tbody>\n",
              "    <tr>\n",
              "      <th>0</th>\n",
              "      <td>2.0</td>\n",
              "      <td>3</td>\n",
              "      <td>True</td>\n",
              "      <td>06 15, 2010</td>\n",
              "      <td>A1Q6MUU0B2ZDQG</td>\n",
              "      <td>B00004U9V2</td>\n",
              "      <td>D. Poston</td>\n",
              "      <td>I bought two of these 8.5 fl oz hand cream, an...</td>\n",
              "      <td>dispensers don't work</td>\n",
              "      <td>1276560000</td>\n",
              "      <td>NaN</td>\n",
              "      <td>NaN</td>\n",
              "    </tr>\n",
              "    <tr>\n",
              "      <th>1</th>\n",
              "      <td>5.0</td>\n",
              "      <td>14</td>\n",
              "      <td>True</td>\n",
              "      <td>01 7, 2010</td>\n",
              "      <td>A3HO2SQDCZIE9S</td>\n",
              "      <td>B00004U9V2</td>\n",
              "      <td>chandra</td>\n",
              "      <td>Believe me, over the years I have tried many, ...</td>\n",
              "      <td>Best hand cream ever.</td>\n",
              "      <td>1262822400</td>\n",
              "      <td>NaN</td>\n",
              "      <td>NaN</td>\n",
              "    </tr>\n",
              "    <tr>\n",
              "      <th>2</th>\n",
              "      <td>5.0</td>\n",
              "      <td>NaN</td>\n",
              "      <td>True</td>\n",
              "      <td>04 18, 2018</td>\n",
              "      <td>A2EM03F99X3RJZ</td>\n",
              "      <td>B00004U9V2</td>\n",
              "      <td>Maureen G</td>\n",
              "      <td>Great hand lotion</td>\n",
              "      <td>Five Stars</td>\n",
              "      <td>1524009600</td>\n",
              "      <td>{'Size:': ' 3.5 oz.'}</td>\n",
              "      <td>NaN</td>\n",
              "    </tr>\n",
              "    <tr>\n",
              "      <th>3</th>\n",
              "      <td>5.0</td>\n",
              "      <td>NaN</td>\n",
              "      <td>True</td>\n",
              "      <td>04 18, 2018</td>\n",
              "      <td>A3Z74TDRGD0HU</td>\n",
              "      <td>B00004U9V2</td>\n",
              "      <td>Terry K</td>\n",
              "      <td>This is the best for the severely dry skin on ...</td>\n",
              "      <td>Five Stars</td>\n",
              "      <td>1524009600</td>\n",
              "      <td>{'Size:': ' 3.5 oz.'}</td>\n",
              "      <td>NaN</td>\n",
              "    </tr>\n",
              "    <tr>\n",
              "      <th>4</th>\n",
              "      <td>5.0</td>\n",
              "      <td>NaN</td>\n",
              "      <td>True</td>\n",
              "      <td>04 17, 2018</td>\n",
              "      <td>A2UXFNW9RTL4VM</td>\n",
              "      <td>B00004U9V2</td>\n",
              "      <td>Patricia Wood</td>\n",
              "      <td>The best non- oily hand cream ever. It heals o...</td>\n",
              "      <td>I always have a backup ready.</td>\n",
              "      <td>1523923200</td>\n",
              "      <td>{'Size:': ' 3.5 oz.'}</td>\n",
              "      <td>NaN</td>\n",
              "    </tr>\n",
              "  </tbody>\n",
              "</table>\n",
              "</div>\n",
              "      <button class=\"colab-df-convert\" onclick=\"convertToInteractive('df-05483ec6-99e2-4d60-a807-2e8ac91473fa')\"\n",
              "              title=\"Convert this dataframe to an interactive table.\"\n",
              "              style=\"display:none;\">\n",
              "        \n",
              "  <svg xmlns=\"http://www.w3.org/2000/svg\" height=\"24px\"viewBox=\"0 0 24 24\"\n",
              "       width=\"24px\">\n",
              "    <path d=\"M0 0h24v24H0V0z\" fill=\"none\"/>\n",
              "    <path d=\"M18.56 5.44l.94 2.06.94-2.06 2.06-.94-2.06-.94-.94-2.06-.94 2.06-2.06.94zm-11 1L8.5 8.5l.94-2.06 2.06-.94-2.06-.94L8.5 2.5l-.94 2.06-2.06.94zm10 10l.94 2.06.94-2.06 2.06-.94-2.06-.94-.94-2.06-.94 2.06-2.06.94z\"/><path d=\"M17.41 7.96l-1.37-1.37c-.4-.4-.92-.59-1.43-.59-.52 0-1.04.2-1.43.59L10.3 9.45l-7.72 7.72c-.78.78-.78 2.05 0 2.83L4 21.41c.39.39.9.59 1.41.59.51 0 1.02-.2 1.41-.59l7.78-7.78 2.81-2.81c.8-.78.8-2.07 0-2.86zM5.41 20L4 18.59l7.72-7.72 1.47 1.35L5.41 20z\"/>\n",
              "  </svg>\n",
              "      </button>\n",
              "      \n",
              "  <style>\n",
              "    .colab-df-container {\n",
              "      display:flex;\n",
              "      flex-wrap:wrap;\n",
              "      gap: 12px;\n",
              "    }\n",
              "\n",
              "    .colab-df-convert {\n",
              "      background-color: #E8F0FE;\n",
              "      border: none;\n",
              "      border-radius: 50%;\n",
              "      cursor: pointer;\n",
              "      display: none;\n",
              "      fill: #1967D2;\n",
              "      height: 32px;\n",
              "      padding: 0 0 0 0;\n",
              "      width: 32px;\n",
              "    }\n",
              "\n",
              "    .colab-df-convert:hover {\n",
              "      background-color: #E2EBFA;\n",
              "      box-shadow: 0px 1px 2px rgba(60, 64, 67, 0.3), 0px 1px 3px 1px rgba(60, 64, 67, 0.15);\n",
              "      fill: #174EA6;\n",
              "    }\n",
              "\n",
              "    [theme=dark] .colab-df-convert {\n",
              "      background-color: #3B4455;\n",
              "      fill: #D2E3FC;\n",
              "    }\n",
              "\n",
              "    [theme=dark] .colab-df-convert:hover {\n",
              "      background-color: #434B5C;\n",
              "      box-shadow: 0px 1px 3px 1px rgba(0, 0, 0, 0.15);\n",
              "      filter: drop-shadow(0px 1px 2px rgba(0, 0, 0, 0.3));\n",
              "      fill: #FFFFFF;\n",
              "    }\n",
              "  </style>\n",
              "\n",
              "      <script>\n",
              "        const buttonEl =\n",
              "          document.querySelector('#df-05483ec6-99e2-4d60-a807-2e8ac91473fa button.colab-df-convert');\n",
              "        buttonEl.style.display =\n",
              "          google.colab.kernel.accessAllowed ? 'block' : 'none';\n",
              "\n",
              "        async function convertToInteractive(key) {\n",
              "          const element = document.querySelector('#df-05483ec6-99e2-4d60-a807-2e8ac91473fa');\n",
              "          const dataTable =\n",
              "            await google.colab.kernel.invokeFunction('convertToInteractive',\n",
              "                                                     [key], {});\n",
              "          if (!dataTable) return;\n",
              "\n",
              "          const docLinkHtml = 'Like what you see? Visit the ' +\n",
              "            '<a target=\"_blank\" href=https://colab.research.google.com/notebooks/data_table.ipynb>data table notebook</a>'\n",
              "            + ' to learn more about interactive tables.';\n",
              "          element.innerHTML = '';\n",
              "          dataTable['output_type'] = 'display_data';\n",
              "          await google.colab.output.renderOutput(dataTable, element);\n",
              "          const docLink = document.createElement('div');\n",
              "          docLink.innerHTML = docLinkHtml;\n",
              "          element.appendChild(docLink);\n",
              "        }\n",
              "      </script>\n",
              "    </div>\n",
              "  </div>\n",
              "  "
            ]
          },
          "metadata": {},
          "execution_count": 11
        }
      ],
      "source": [
        "df.head()"
      ]
    },
    {
      "cell_type": "code",
      "execution_count": 12,
      "metadata": {
        "colab": {
          "base_uri": "https://localhost:8080/"
        },
        "id": "Rkvw_B2_Xc9r",
        "outputId": "21631fe8-66b0-4467-f260-db15b3a339b5"
      },
      "outputs": [
        {
          "output_type": "stream",
          "name": "stdout",
          "text": [
            "<class 'pandas.core.frame.DataFrame'>\n",
            "Int64Index: 574628 entries, 0 to 574627\n",
            "Data columns (total 12 columns):\n",
            " #   Column          Non-Null Count   Dtype  \n",
            "---  ------          --------------   -----  \n",
            " 0   overall         574628 non-null  float64\n",
            " 1   vote            103689 non-null  object \n",
            " 2   verified        574628 non-null  bool   \n",
            " 3   reviewTime      574628 non-null  object \n",
            " 4   reviewerID      574628 non-null  object \n",
            " 5   asin            574628 non-null  object \n",
            " 6   reviewerName    574597 non-null  object \n",
            " 7   reviewText      574228 non-null  object \n",
            " 8   summary         574445 non-null  object \n",
            " 9   unixReviewTime  574628 non-null  int64  \n",
            " 10  style           251013 non-null  object \n",
            " 11  image           7418 non-null    object \n",
            "dtypes: bool(1), float64(1), int64(1), object(9)\n",
            "memory usage: 53.2+ MB\n"
          ]
        }
      ],
      "source": [
        "df.info()"
      ]
    },
    {
      "cell_type": "code",
      "execution_count": 13,
      "metadata": {
        "colab": {
          "base_uri": "https://localhost:8080/",
          "height": 687
        },
        "id": "Bd25Vvq3aGg8",
        "outputId": "6970491c-ce67-428f-b81e-cdf8656146fa"
      },
      "outputs": [
        {
          "output_type": "execute_result",
          "data": {
            "text/plain": [
              "  category tech1                                        description fit  \\\n",
              "0       []        [After a long day of handling thorny situation...       \n",
              "1       []        [If you haven't experienced the pleasures of b...       \n",
              "2       []        [Rich, black mineral mud, harvested from the b...       \n",
              "3       []        [This liquid soap with convenient pump dispens...       \n",
              "4       []        [Remember why you love your favorite blanket? ...       \n",
              "\n",
              "                                               title  \\\n",
              "0  Crabtree &amp; Evelyn - Gardener's Ultra-Moist...   \n",
              "1                                   AHAVA Bath Salts   \n",
              "2      AHAVA Dead Sea Mineral Mud, 8.5 oz, Pack of 4   \n",
              "3  Crabtree &amp; Evelyn Hand Soap, Gardeners, 10...   \n",
              "4                                 Soy Milk Hand Crme   \n",
              "\n",
              "                                            also_buy tech2 brand feature  \\\n",
              "0  [B00GHX7H0A, B00FRERO7G, B00R68QXCS, B000Z65AZ...                  []   \n",
              "1                                                 []                  []   \n",
              "2                                                 []                  []   \n",
              "3                                                 []                  []   \n",
              "4  [B000NZT6KM, B001BY229Q, B008J724QY, B0009YGKJ...                  []   \n",
              "\n",
              "                                        rank  \\\n",
              "0          4,324 in Beauty & Personal Care (   \n",
              "1      1,633,549 in Beauty & Personal Care (   \n",
              "2  1,806,710 in Beauty &amp; Personal Care (   \n",
              "3                                         []   \n",
              "4     42,464 in Beauty &amp; Personal Care (   \n",
              "\n",
              "                                           also_view  \\\n",
              "0  [B00FRERO7G, B00GHX7H0A, B07GFHJRMX, B00TJ3NBN...   \n",
              "1                                                 []   \n",
              "2                                                 []   \n",
              "3  [B00004U9V2, B00GHX7H0A, B00FRERO7G, B00R68QXC...   \n",
              "4                                                 []   \n",
              "\n",
              "                                             details       main_cat  \\\n",
              "0  {'\n",
              "    Product Dimensions: \n",
              "    ': '2.2 x 2.2 ...  Luxury Beauty   \n",
              "1  {'\n",
              "    Product Dimensions: \n",
              "    ': '3 x 3.5 x ...  Luxury Beauty   \n",
              "2  {'\n",
              "    Product Dimensions: \n",
              "    ': '5.1 x 3 x ...  Luxury Beauty   \n",
              "3  {'\n",
              "    Product Dimensions: \n",
              "    ': '2.6 x 2.6 ...  Luxury Beauty   \n",
              "4  {'\n",
              "    Product Dimensions: \n",
              "    ': '7.2 x 2.2 ...  Luxury Beauty   \n",
              "\n",
              "  similar_item date   price        asin  \\\n",
              "0                    $30.00  B00004U9V2   \n",
              "1                            B0000531EN   \n",
              "2                            B0000532JH   \n",
              "3                    $15.99  B00005A77F   \n",
              "4                    $18.00  B00005NDTD   \n",
              "\n",
              "                                            imageURL  \\\n",
              "0  [https://images-na.ssl-images-amazon.com/image...   \n",
              "1                                                 []   \n",
              "2  [https://images-na.ssl-images-amazon.com/image...   \n",
              "3  [https://images-na.ssl-images-amazon.com/image...   \n",
              "4  [https://images-na.ssl-images-amazon.com/image...   \n",
              "\n",
              "                                     imageURLHighRes  \n",
              "0  [https://images-na.ssl-images-amazon.com/image...  \n",
              "1                                                 []  \n",
              "2  [https://images-na.ssl-images-amazon.com/image...  \n",
              "3  [https://images-na.ssl-images-amazon.com/image...  \n",
              "4  [https://images-na.ssl-images-amazon.com/image...  "
            ],
            "text/html": [
              "\n",
              "  <div id=\"df-86fc7c2d-6e30-4f62-832b-5b654e450b6c\">\n",
              "    <div class=\"colab-df-container\">\n",
              "      <div>\n",
              "<style scoped>\n",
              "    .dataframe tbody tr th:only-of-type {\n",
              "        vertical-align: middle;\n",
              "    }\n",
              "\n",
              "    .dataframe tbody tr th {\n",
              "        vertical-align: top;\n",
              "    }\n",
              "\n",
              "    .dataframe thead th {\n",
              "        text-align: right;\n",
              "    }\n",
              "</style>\n",
              "<table border=\"1\" class=\"dataframe\">\n",
              "  <thead>\n",
              "    <tr style=\"text-align: right;\">\n",
              "      <th></th>\n",
              "      <th>category</th>\n",
              "      <th>tech1</th>\n",
              "      <th>description</th>\n",
              "      <th>fit</th>\n",
              "      <th>title</th>\n",
              "      <th>also_buy</th>\n",
              "      <th>tech2</th>\n",
              "      <th>brand</th>\n",
              "      <th>feature</th>\n",
              "      <th>rank</th>\n",
              "      <th>also_view</th>\n",
              "      <th>details</th>\n",
              "      <th>main_cat</th>\n",
              "      <th>similar_item</th>\n",
              "      <th>date</th>\n",
              "      <th>price</th>\n",
              "      <th>asin</th>\n",
              "      <th>imageURL</th>\n",
              "      <th>imageURLHighRes</th>\n",
              "    </tr>\n",
              "  </thead>\n",
              "  <tbody>\n",
              "    <tr>\n",
              "      <th>0</th>\n",
              "      <td>[]</td>\n",
              "      <td></td>\n",
              "      <td>[After a long day of handling thorny situation...</td>\n",
              "      <td></td>\n",
              "      <td>Crabtree &amp;amp; Evelyn - Gardener's Ultra-Moist...</td>\n",
              "      <td>[B00GHX7H0A, B00FRERO7G, B00R68QXCS, B000Z65AZ...</td>\n",
              "      <td></td>\n",
              "      <td></td>\n",
              "      <td>[]</td>\n",
              "      <td>4,324 in Beauty &amp; Personal Care (</td>\n",
              "      <td>[B00FRERO7G, B00GHX7H0A, B07GFHJRMX, B00TJ3NBN...</td>\n",
              "      <td>{'\n",
              "    Product Dimensions: \n",
              "    ': '2.2 x 2.2 ...</td>\n",
              "      <td>Luxury Beauty</td>\n",
              "      <td></td>\n",
              "      <td></td>\n",
              "      <td>$30.00</td>\n",
              "      <td>B00004U9V2</td>\n",
              "      <td>[https://images-na.ssl-images-amazon.com/image...</td>\n",
              "      <td>[https://images-na.ssl-images-amazon.com/image...</td>\n",
              "    </tr>\n",
              "    <tr>\n",
              "      <th>1</th>\n",
              "      <td>[]</td>\n",
              "      <td></td>\n",
              "      <td>[If you haven't experienced the pleasures of b...</td>\n",
              "      <td></td>\n",
              "      <td>AHAVA Bath Salts</td>\n",
              "      <td>[]</td>\n",
              "      <td></td>\n",
              "      <td></td>\n",
              "      <td>[]</td>\n",
              "      <td>1,633,549 in Beauty &amp; Personal Care (</td>\n",
              "      <td>[]</td>\n",
              "      <td>{'\n",
              "    Product Dimensions: \n",
              "    ': '3 x 3.5 x ...</td>\n",
              "      <td>Luxury Beauty</td>\n",
              "      <td></td>\n",
              "      <td></td>\n",
              "      <td></td>\n",
              "      <td>B0000531EN</td>\n",
              "      <td>[]</td>\n",
              "      <td>[]</td>\n",
              "    </tr>\n",
              "    <tr>\n",
              "      <th>2</th>\n",
              "      <td>[]</td>\n",
              "      <td></td>\n",
              "      <td>[Rich, black mineral mud, harvested from the b...</td>\n",
              "      <td></td>\n",
              "      <td>AHAVA Dead Sea Mineral Mud, 8.5 oz, Pack of 4</td>\n",
              "      <td>[]</td>\n",
              "      <td></td>\n",
              "      <td></td>\n",
              "      <td>[]</td>\n",
              "      <td>1,806,710 in Beauty &amp;amp; Personal Care (</td>\n",
              "      <td>[]</td>\n",
              "      <td>{'\n",
              "    Product Dimensions: \n",
              "    ': '5.1 x 3 x ...</td>\n",
              "      <td>Luxury Beauty</td>\n",
              "      <td></td>\n",
              "      <td></td>\n",
              "      <td></td>\n",
              "      <td>B0000532JH</td>\n",
              "      <td>[https://images-na.ssl-images-amazon.com/image...</td>\n",
              "      <td>[https://images-na.ssl-images-amazon.com/image...</td>\n",
              "    </tr>\n",
              "    <tr>\n",
              "      <th>3</th>\n",
              "      <td>[]</td>\n",
              "      <td></td>\n",
              "      <td>[This liquid soap with convenient pump dispens...</td>\n",
              "      <td></td>\n",
              "      <td>Crabtree &amp;amp; Evelyn Hand Soap, Gardeners, 10...</td>\n",
              "      <td>[]</td>\n",
              "      <td></td>\n",
              "      <td></td>\n",
              "      <td>[]</td>\n",
              "      <td>[]</td>\n",
              "      <td>[B00004U9V2, B00GHX7H0A, B00FRERO7G, B00R68QXC...</td>\n",
              "      <td>{'\n",
              "    Product Dimensions: \n",
              "    ': '2.6 x 2.6 ...</td>\n",
              "      <td>Luxury Beauty</td>\n",
              "      <td></td>\n",
              "      <td></td>\n",
              "      <td>$15.99</td>\n",
              "      <td>B00005A77F</td>\n",
              "      <td>[https://images-na.ssl-images-amazon.com/image...</td>\n",
              "      <td>[https://images-na.ssl-images-amazon.com/image...</td>\n",
              "    </tr>\n",
              "    <tr>\n",
              "      <th>4</th>\n",
              "      <td>[]</td>\n",
              "      <td></td>\n",
              "      <td>[Remember why you love your favorite blanket? ...</td>\n",
              "      <td></td>\n",
              "      <td>Soy Milk Hand Crme</td>\n",
              "      <td>[B000NZT6KM, B001BY229Q, B008J724QY, B0009YGKJ...</td>\n",
              "      <td></td>\n",
              "      <td></td>\n",
              "      <td>[]</td>\n",
              "      <td>42,464 in Beauty &amp;amp; Personal Care (</td>\n",
              "      <td>[]</td>\n",
              "      <td>{'\n",
              "    Product Dimensions: \n",
              "    ': '7.2 x 2.2 ...</td>\n",
              "      <td>Luxury Beauty</td>\n",
              "      <td></td>\n",
              "      <td></td>\n",
              "      <td>$18.00</td>\n",
              "      <td>B00005NDTD</td>\n",
              "      <td>[https://images-na.ssl-images-amazon.com/image...</td>\n",
              "      <td>[https://images-na.ssl-images-amazon.com/image...</td>\n",
              "    </tr>\n",
              "  </tbody>\n",
              "</table>\n",
              "</div>\n",
              "      <button class=\"colab-df-convert\" onclick=\"convertToInteractive('df-86fc7c2d-6e30-4f62-832b-5b654e450b6c')\"\n",
              "              title=\"Convert this dataframe to an interactive table.\"\n",
              "              style=\"display:none;\">\n",
              "        \n",
              "  <svg xmlns=\"http://www.w3.org/2000/svg\" height=\"24px\"viewBox=\"0 0 24 24\"\n",
              "       width=\"24px\">\n",
              "    <path d=\"M0 0h24v24H0V0z\" fill=\"none\"/>\n",
              "    <path d=\"M18.56 5.44l.94 2.06.94-2.06 2.06-.94-2.06-.94-.94-2.06-.94 2.06-2.06.94zm-11 1L8.5 8.5l.94-2.06 2.06-.94-2.06-.94L8.5 2.5l-.94 2.06-2.06.94zm10 10l.94 2.06.94-2.06 2.06-.94-2.06-.94-.94-2.06-.94 2.06-2.06.94z\"/><path d=\"M17.41 7.96l-1.37-1.37c-.4-.4-.92-.59-1.43-.59-.52 0-1.04.2-1.43.59L10.3 9.45l-7.72 7.72c-.78.78-.78 2.05 0 2.83L4 21.41c.39.39.9.59 1.41.59.51 0 1.02-.2 1.41-.59l7.78-7.78 2.81-2.81c.8-.78.8-2.07 0-2.86zM5.41 20L4 18.59l7.72-7.72 1.47 1.35L5.41 20z\"/>\n",
              "  </svg>\n",
              "      </button>\n",
              "      \n",
              "  <style>\n",
              "    .colab-df-container {\n",
              "      display:flex;\n",
              "      flex-wrap:wrap;\n",
              "      gap: 12px;\n",
              "    }\n",
              "\n",
              "    .colab-df-convert {\n",
              "      background-color: #E8F0FE;\n",
              "      border: none;\n",
              "      border-radius: 50%;\n",
              "      cursor: pointer;\n",
              "      display: none;\n",
              "      fill: #1967D2;\n",
              "      height: 32px;\n",
              "      padding: 0 0 0 0;\n",
              "      width: 32px;\n",
              "    }\n",
              "\n",
              "    .colab-df-convert:hover {\n",
              "      background-color: #E2EBFA;\n",
              "      box-shadow: 0px 1px 2px rgba(60, 64, 67, 0.3), 0px 1px 3px 1px rgba(60, 64, 67, 0.15);\n",
              "      fill: #174EA6;\n",
              "    }\n",
              "\n",
              "    [theme=dark] .colab-df-convert {\n",
              "      background-color: #3B4455;\n",
              "      fill: #D2E3FC;\n",
              "    }\n",
              "\n",
              "    [theme=dark] .colab-df-convert:hover {\n",
              "      background-color: #434B5C;\n",
              "      box-shadow: 0px 1px 3px 1px rgba(0, 0, 0, 0.15);\n",
              "      filter: drop-shadow(0px 1px 2px rgba(0, 0, 0, 0.3));\n",
              "      fill: #FFFFFF;\n",
              "    }\n",
              "  </style>\n",
              "\n",
              "      <script>\n",
              "        const buttonEl =\n",
              "          document.querySelector('#df-86fc7c2d-6e30-4f62-832b-5b654e450b6c button.colab-df-convert');\n",
              "        buttonEl.style.display =\n",
              "          google.colab.kernel.accessAllowed ? 'block' : 'none';\n",
              "\n",
              "        async function convertToInteractive(key) {\n",
              "          const element = document.querySelector('#df-86fc7c2d-6e30-4f62-832b-5b654e450b6c');\n",
              "          const dataTable =\n",
              "            await google.colab.kernel.invokeFunction('convertToInteractive',\n",
              "                                                     [key], {});\n",
              "          if (!dataTable) return;\n",
              "\n",
              "          const docLinkHtml = 'Like what you see? Visit the ' +\n",
              "            '<a target=\"_blank\" href=https://colab.research.google.com/notebooks/data_table.ipynb>data table notebook</a>'\n",
              "            + ' to learn more about interactive tables.';\n",
              "          element.innerHTML = '';\n",
              "          dataTable['output_type'] = 'display_data';\n",
              "          await google.colab.output.renderOutput(dataTable, element);\n",
              "          const docLink = document.createElement('div');\n",
              "          docLink.innerHTML = docLinkHtml;\n",
              "          element.appendChild(docLink);\n",
              "        }\n",
              "      </script>\n",
              "    </div>\n",
              "  </div>\n",
              "  "
            ]
          },
          "metadata": {},
          "execution_count": 13
        }
      ],
      "source": [
        "df_meta.head()"
      ]
    },
    {
      "cell_type": "code",
      "execution_count": 14,
      "metadata": {
        "colab": {
          "base_uri": "https://localhost:8080/"
        },
        "id": "MhLx4hfZaUoB",
        "outputId": "7f7e8c99-7f1f-4955-ebfe-7b7f2e82a3d9"
      },
      "outputs": [
        {
          "output_type": "stream",
          "name": "stdout",
          "text": [
            "<class 'pandas.core.frame.DataFrame'>\n",
            "Int64Index: 12299 entries, 0 to 12298\n",
            "Data columns (total 19 columns):\n",
            " #   Column           Non-Null Count  Dtype \n",
            "---  ------           --------------  ----- \n",
            " 0   category         12299 non-null  object\n",
            " 1   tech1            12299 non-null  object\n",
            " 2   description      12299 non-null  object\n",
            " 3   fit              12299 non-null  object\n",
            " 4   title            12299 non-null  object\n",
            " 5   also_buy         12299 non-null  object\n",
            " 6   tech2            12299 non-null  object\n",
            " 7   brand            12299 non-null  object\n",
            " 8   feature          12299 non-null  object\n",
            " 9   rank             12299 non-null  object\n",
            " 10  also_view        12299 non-null  object\n",
            " 11  details          12299 non-null  object\n",
            " 12  main_cat         12299 non-null  object\n",
            " 13  similar_item     12299 non-null  object\n",
            " 14  date             12299 non-null  object\n",
            " 15  price            12299 non-null  object\n",
            " 16  asin             12299 non-null  object\n",
            " 17  imageURL         12299 non-null  object\n",
            " 18  imageURLHighRes  12299 non-null  object\n",
            "dtypes: object(19)\n",
            "memory usage: 1.9+ MB\n"
          ]
        }
      ],
      "source": [
        "df_meta.info()"
      ]
    },
    {
      "cell_type": "markdown",
      "metadata": {
        "id": "kxLdFceIdny4"
      },
      "source": [
        "## Какими способами можно найти упоминания товаров в отзывах?\n",
        "\n",
        "1. Использовать tf-idf, где в качестве документа будет коллекция отзывов нв товар. Tf-idf покажет нам уникальные слова для товара. Оставим из них только существительные, но это могут быть существительные не только имеющие название товара, но и показывающие какие-то свойства, и нам надо их разделить, чтобы оставить только упоиминания товаров. Думаю, можно воспользоваться кластеризацией, разделить по семантическим признакам существительные и получить отдельно кластер с названиями товаров. Этот способ хорош тем, что нам не нужно делать много ручной работы, при этом в теории кластеры помогут с отделением NE от не NE. Проблема в том, что мы не можем быть уверены, что NE у нас разметятся правильно\n",
        "\n",
        "2. Можно посмотреть на самые частотные слова из отзывов для каждого из товаров, иногда наверное даже на биграммы. Думаю, можно взять не все отзывы, а какую-то часть, на которой можно это потренировать. Мое предположение в том, что, например для одного товара (допустим, крема для рук) часто будут в отзывах встречаться слова \"cream\" или \"hand cream\", а это то, что нам нужно. Далее можно найти пересечение самых частотных слов в тайтлах и самых частотных словах в отзывах. Это по идее и должны быть наши названия товаров. Конечно, тут тоже может попадаться мусор, но думаю так его будет меньше. \n",
        "\n",
        "3. Можно использовать word2vec, взять близкие по семантике слова к товарам красоты, или найти аналогии с самыми частотными словами в отзывах."
      ]
    },
    {
      "cell_type": "markdown",
      "metadata": {
        "id": "nQjuF0_s91EA"
      },
      "source": [
        "## Реализация\n",
        "\n",
        "Я постараюсь реализовать второй способ"
      ]
    },
    {
      "cell_type": "code",
      "execution_count": 12,
      "metadata": {
        "id": "1UrcRhMk-VLS"
      },
      "outputs": [],
      "source": [
        "df_reviews = df[['asin', 'reviewText']]"
      ]
    },
    {
      "cell_type": "code",
      "execution_count": 13,
      "metadata": {
        "colab": {
          "base_uri": "https://localhost:8080/",
          "height": 423
        },
        "id": "pHgniUXhiWKN",
        "outputId": "b35eaa7c-7559-4574-a699-42b752732916"
      },
      "outputs": [
        {
          "output_type": "execute_result",
          "data": {
            "text/plain": [
              "              asin                                         reviewText\n",
              "0       B00004U9V2  I bought two of these 8.5 fl oz hand cream, an...\n",
              "1       B00004U9V2  Believe me, over the years I have tried many, ...\n",
              "2       B00004U9V2                                  Great hand lotion\n",
              "3       B00004U9V2  This is the best for the severely dry skin on ...\n",
              "4       B00004U9V2  The best non- oily hand cream ever. It heals o...\n",
              "...            ...                                                ...\n",
              "574623  B01HIQEOLO          Great color and I prefer shellac over gel\n",
              "574624  B01HIQEOLO  Best shellac I have ever used.  It doesn't tak...\n",
              "574625  B01HIQEOLO                 Great polish and beautiful color!!\n",
              "574626  B01HJ2UY0W  The perfume is good, but the spray head broke ...\n",
              "574627  B01HJ2UY1G                                   Great fragrance.\n",
              "\n",
              "[574628 rows x 2 columns]"
            ],
            "text/html": [
              "\n",
              "  <div id=\"df-ac6b9f67-969e-457a-929c-cf36adab7c23\">\n",
              "    <div class=\"colab-df-container\">\n",
              "      <div>\n",
              "<style scoped>\n",
              "    .dataframe tbody tr th:only-of-type {\n",
              "        vertical-align: middle;\n",
              "    }\n",
              "\n",
              "    .dataframe tbody tr th {\n",
              "        vertical-align: top;\n",
              "    }\n",
              "\n",
              "    .dataframe thead th {\n",
              "        text-align: right;\n",
              "    }\n",
              "</style>\n",
              "<table border=\"1\" class=\"dataframe\">\n",
              "  <thead>\n",
              "    <tr style=\"text-align: right;\">\n",
              "      <th></th>\n",
              "      <th>asin</th>\n",
              "      <th>reviewText</th>\n",
              "    </tr>\n",
              "  </thead>\n",
              "  <tbody>\n",
              "    <tr>\n",
              "      <th>0</th>\n",
              "      <td>B00004U9V2</td>\n",
              "      <td>I bought two of these 8.5 fl oz hand cream, an...</td>\n",
              "    </tr>\n",
              "    <tr>\n",
              "      <th>1</th>\n",
              "      <td>B00004U9V2</td>\n",
              "      <td>Believe me, over the years I have tried many, ...</td>\n",
              "    </tr>\n",
              "    <tr>\n",
              "      <th>2</th>\n",
              "      <td>B00004U9V2</td>\n",
              "      <td>Great hand lotion</td>\n",
              "    </tr>\n",
              "    <tr>\n",
              "      <th>3</th>\n",
              "      <td>B00004U9V2</td>\n",
              "      <td>This is the best for the severely dry skin on ...</td>\n",
              "    </tr>\n",
              "    <tr>\n",
              "      <th>4</th>\n",
              "      <td>B00004U9V2</td>\n",
              "      <td>The best non- oily hand cream ever. It heals o...</td>\n",
              "    </tr>\n",
              "    <tr>\n",
              "      <th>...</th>\n",
              "      <td>...</td>\n",
              "      <td>...</td>\n",
              "    </tr>\n",
              "    <tr>\n",
              "      <th>574623</th>\n",
              "      <td>B01HIQEOLO</td>\n",
              "      <td>Great color and I prefer shellac over gel</td>\n",
              "    </tr>\n",
              "    <tr>\n",
              "      <th>574624</th>\n",
              "      <td>B01HIQEOLO</td>\n",
              "      <td>Best shellac I have ever used.  It doesn't tak...</td>\n",
              "    </tr>\n",
              "    <tr>\n",
              "      <th>574625</th>\n",
              "      <td>B01HIQEOLO</td>\n",
              "      <td>Great polish and beautiful color!!</td>\n",
              "    </tr>\n",
              "    <tr>\n",
              "      <th>574626</th>\n",
              "      <td>B01HJ2UY0W</td>\n",
              "      <td>The perfume is good, but the spray head broke ...</td>\n",
              "    </tr>\n",
              "    <tr>\n",
              "      <th>574627</th>\n",
              "      <td>B01HJ2UY1G</td>\n",
              "      <td>Great fragrance.</td>\n",
              "    </tr>\n",
              "  </tbody>\n",
              "</table>\n",
              "<p>574628 rows × 2 columns</p>\n",
              "</div>\n",
              "      <button class=\"colab-df-convert\" onclick=\"convertToInteractive('df-ac6b9f67-969e-457a-929c-cf36adab7c23')\"\n",
              "              title=\"Convert this dataframe to an interactive table.\"\n",
              "              style=\"display:none;\">\n",
              "        \n",
              "  <svg xmlns=\"http://www.w3.org/2000/svg\" height=\"24px\"viewBox=\"0 0 24 24\"\n",
              "       width=\"24px\">\n",
              "    <path d=\"M0 0h24v24H0V0z\" fill=\"none\"/>\n",
              "    <path d=\"M18.56 5.44l.94 2.06.94-2.06 2.06-.94-2.06-.94-.94-2.06-.94 2.06-2.06.94zm-11 1L8.5 8.5l.94-2.06 2.06-.94-2.06-.94L8.5 2.5l-.94 2.06-2.06.94zm10 10l.94 2.06.94-2.06 2.06-.94-2.06-.94-.94-2.06-.94 2.06-2.06.94z\"/><path d=\"M17.41 7.96l-1.37-1.37c-.4-.4-.92-.59-1.43-.59-.52 0-1.04.2-1.43.59L10.3 9.45l-7.72 7.72c-.78.78-.78 2.05 0 2.83L4 21.41c.39.39.9.59 1.41.59.51 0 1.02-.2 1.41-.59l7.78-7.78 2.81-2.81c.8-.78.8-2.07 0-2.86zM5.41 20L4 18.59l7.72-7.72 1.47 1.35L5.41 20z\"/>\n",
              "  </svg>\n",
              "      </button>\n",
              "      \n",
              "  <style>\n",
              "    .colab-df-container {\n",
              "      display:flex;\n",
              "      flex-wrap:wrap;\n",
              "      gap: 12px;\n",
              "    }\n",
              "\n",
              "    .colab-df-convert {\n",
              "      background-color: #E8F0FE;\n",
              "      border: none;\n",
              "      border-radius: 50%;\n",
              "      cursor: pointer;\n",
              "      display: none;\n",
              "      fill: #1967D2;\n",
              "      height: 32px;\n",
              "      padding: 0 0 0 0;\n",
              "      width: 32px;\n",
              "    }\n",
              "\n",
              "    .colab-df-convert:hover {\n",
              "      background-color: #E2EBFA;\n",
              "      box-shadow: 0px 1px 2px rgba(60, 64, 67, 0.3), 0px 1px 3px 1px rgba(60, 64, 67, 0.15);\n",
              "      fill: #174EA6;\n",
              "    }\n",
              "\n",
              "    [theme=dark] .colab-df-convert {\n",
              "      background-color: #3B4455;\n",
              "      fill: #D2E3FC;\n",
              "    }\n",
              "\n",
              "    [theme=dark] .colab-df-convert:hover {\n",
              "      background-color: #434B5C;\n",
              "      box-shadow: 0px 1px 3px 1px rgba(0, 0, 0, 0.15);\n",
              "      filter: drop-shadow(0px 1px 2px rgba(0, 0, 0, 0.3));\n",
              "      fill: #FFFFFF;\n",
              "    }\n",
              "  </style>\n",
              "\n",
              "      <script>\n",
              "        const buttonEl =\n",
              "          document.querySelector('#df-ac6b9f67-969e-457a-929c-cf36adab7c23 button.colab-df-convert');\n",
              "        buttonEl.style.display =\n",
              "          google.colab.kernel.accessAllowed ? 'block' : 'none';\n",
              "\n",
              "        async function convertToInteractive(key) {\n",
              "          const element = document.querySelector('#df-ac6b9f67-969e-457a-929c-cf36adab7c23');\n",
              "          const dataTable =\n",
              "            await google.colab.kernel.invokeFunction('convertToInteractive',\n",
              "                                                     [key], {});\n",
              "          if (!dataTable) return;\n",
              "\n",
              "          const docLinkHtml = 'Like what you see? Visit the ' +\n",
              "            '<a target=\"_blank\" href=https://colab.research.google.com/notebooks/data_table.ipynb>data table notebook</a>'\n",
              "            + ' to learn more about interactive tables.';\n",
              "          element.innerHTML = '';\n",
              "          dataTable['output_type'] = 'display_data';\n",
              "          await google.colab.output.renderOutput(dataTable, element);\n",
              "          const docLink = document.createElement('div');\n",
              "          docLink.innerHTML = docLinkHtml;\n",
              "          element.appendChild(docLink);\n",
              "        }\n",
              "      </script>\n",
              "    </div>\n",
              "  </div>\n",
              "  "
            ]
          },
          "metadata": {},
          "execution_count": 13
        }
      ],
      "source": [
        "df_reviews"
      ]
    },
    {
      "cell_type": "code",
      "execution_count": 14,
      "metadata": {
        "colab": {
          "base_uri": "https://localhost:8080/",
          "height": 423
        },
        "id": "ETuSOUiVhQ_v",
        "outputId": "ab227203-b9b1-43ce-8950-0480f06329fa"
      },
      "outputs": [
        {
          "output_type": "execute_result",
          "data": {
            "text/plain": [
              "              asin                                         reviewText\n",
              "0       B00004U9V2  I bought two of these 8.5 fl oz hand cream, an...\n",
              "1       B00004U9V2  Believe me, over the years I have tried many, ...\n",
              "2       B00004U9V2                                  Great hand lotion\n",
              "3       B00004U9V2  This is the best for the severely dry skin on ...\n",
              "4       B00004U9V2  The best non- oily hand cream ever. It heals o...\n",
              "...            ...                                                ...\n",
              "574623  B01HIQEOLO          Great color and I prefer shellac over gel\n",
              "574624  B01HIQEOLO  Best shellac I have ever used.  It doesn't tak...\n",
              "574625  B01HIQEOLO                 Great polish and beautiful color!!\n",
              "574626  B01HJ2UY0W  The perfume is good, but the spray head broke ...\n",
              "574627  B01HJ2UY1G                                   Great fragrance.\n",
              "\n",
              "[574228 rows x 2 columns]"
            ],
            "text/html": [
              "\n",
              "  <div id=\"df-dbfe0236-4c4f-4ac3-8822-faae5d9897c9\">\n",
              "    <div class=\"colab-df-container\">\n",
              "      <div>\n",
              "<style scoped>\n",
              "    .dataframe tbody tr th:only-of-type {\n",
              "        vertical-align: middle;\n",
              "    }\n",
              "\n",
              "    .dataframe tbody tr th {\n",
              "        vertical-align: top;\n",
              "    }\n",
              "\n",
              "    .dataframe thead th {\n",
              "        text-align: right;\n",
              "    }\n",
              "</style>\n",
              "<table border=\"1\" class=\"dataframe\">\n",
              "  <thead>\n",
              "    <tr style=\"text-align: right;\">\n",
              "      <th></th>\n",
              "      <th>asin</th>\n",
              "      <th>reviewText</th>\n",
              "    </tr>\n",
              "  </thead>\n",
              "  <tbody>\n",
              "    <tr>\n",
              "      <th>0</th>\n",
              "      <td>B00004U9V2</td>\n",
              "      <td>I bought two of these 8.5 fl oz hand cream, an...</td>\n",
              "    </tr>\n",
              "    <tr>\n",
              "      <th>1</th>\n",
              "      <td>B00004U9V2</td>\n",
              "      <td>Believe me, over the years I have tried many, ...</td>\n",
              "    </tr>\n",
              "    <tr>\n",
              "      <th>2</th>\n",
              "      <td>B00004U9V2</td>\n",
              "      <td>Great hand lotion</td>\n",
              "    </tr>\n",
              "    <tr>\n",
              "      <th>3</th>\n",
              "      <td>B00004U9V2</td>\n",
              "      <td>This is the best for the severely dry skin on ...</td>\n",
              "    </tr>\n",
              "    <tr>\n",
              "      <th>4</th>\n",
              "      <td>B00004U9V2</td>\n",
              "      <td>The best non- oily hand cream ever. It heals o...</td>\n",
              "    </tr>\n",
              "    <tr>\n",
              "      <th>...</th>\n",
              "      <td>...</td>\n",
              "      <td>...</td>\n",
              "    </tr>\n",
              "    <tr>\n",
              "      <th>574623</th>\n",
              "      <td>B01HIQEOLO</td>\n",
              "      <td>Great color and I prefer shellac over gel</td>\n",
              "    </tr>\n",
              "    <tr>\n",
              "      <th>574624</th>\n",
              "      <td>B01HIQEOLO</td>\n",
              "      <td>Best shellac I have ever used.  It doesn't tak...</td>\n",
              "    </tr>\n",
              "    <tr>\n",
              "      <th>574625</th>\n",
              "      <td>B01HIQEOLO</td>\n",
              "      <td>Great polish and beautiful color!!</td>\n",
              "    </tr>\n",
              "    <tr>\n",
              "      <th>574626</th>\n",
              "      <td>B01HJ2UY0W</td>\n",
              "      <td>The perfume is good, but the spray head broke ...</td>\n",
              "    </tr>\n",
              "    <tr>\n",
              "      <th>574627</th>\n",
              "      <td>B01HJ2UY1G</td>\n",
              "      <td>Great fragrance.</td>\n",
              "    </tr>\n",
              "  </tbody>\n",
              "</table>\n",
              "<p>574228 rows × 2 columns</p>\n",
              "</div>\n",
              "      <button class=\"colab-df-convert\" onclick=\"convertToInteractive('df-dbfe0236-4c4f-4ac3-8822-faae5d9897c9')\"\n",
              "              title=\"Convert this dataframe to an interactive table.\"\n",
              "              style=\"display:none;\">\n",
              "        \n",
              "  <svg xmlns=\"http://www.w3.org/2000/svg\" height=\"24px\"viewBox=\"0 0 24 24\"\n",
              "       width=\"24px\">\n",
              "    <path d=\"M0 0h24v24H0V0z\" fill=\"none\"/>\n",
              "    <path d=\"M18.56 5.44l.94 2.06.94-2.06 2.06-.94-2.06-.94-.94-2.06-.94 2.06-2.06.94zm-11 1L8.5 8.5l.94-2.06 2.06-.94-2.06-.94L8.5 2.5l-.94 2.06-2.06.94zm10 10l.94 2.06.94-2.06 2.06-.94-2.06-.94-.94-2.06-.94 2.06-2.06.94z\"/><path d=\"M17.41 7.96l-1.37-1.37c-.4-.4-.92-.59-1.43-.59-.52 0-1.04.2-1.43.59L10.3 9.45l-7.72 7.72c-.78.78-.78 2.05 0 2.83L4 21.41c.39.39.9.59 1.41.59.51 0 1.02-.2 1.41-.59l7.78-7.78 2.81-2.81c.8-.78.8-2.07 0-2.86zM5.41 20L4 18.59l7.72-7.72 1.47 1.35L5.41 20z\"/>\n",
              "  </svg>\n",
              "      </button>\n",
              "      \n",
              "  <style>\n",
              "    .colab-df-container {\n",
              "      display:flex;\n",
              "      flex-wrap:wrap;\n",
              "      gap: 12px;\n",
              "    }\n",
              "\n",
              "    .colab-df-convert {\n",
              "      background-color: #E8F0FE;\n",
              "      border: none;\n",
              "      border-radius: 50%;\n",
              "      cursor: pointer;\n",
              "      display: none;\n",
              "      fill: #1967D2;\n",
              "      height: 32px;\n",
              "      padding: 0 0 0 0;\n",
              "      width: 32px;\n",
              "    }\n",
              "\n",
              "    .colab-df-convert:hover {\n",
              "      background-color: #E2EBFA;\n",
              "      box-shadow: 0px 1px 2px rgba(60, 64, 67, 0.3), 0px 1px 3px 1px rgba(60, 64, 67, 0.15);\n",
              "      fill: #174EA6;\n",
              "    }\n",
              "\n",
              "    [theme=dark] .colab-df-convert {\n",
              "      background-color: #3B4455;\n",
              "      fill: #D2E3FC;\n",
              "    }\n",
              "\n",
              "    [theme=dark] .colab-df-convert:hover {\n",
              "      background-color: #434B5C;\n",
              "      box-shadow: 0px 1px 3px 1px rgba(0, 0, 0, 0.15);\n",
              "      filter: drop-shadow(0px 1px 2px rgba(0, 0, 0, 0.3));\n",
              "      fill: #FFFFFF;\n",
              "    }\n",
              "  </style>\n",
              "\n",
              "      <script>\n",
              "        const buttonEl =\n",
              "          document.querySelector('#df-dbfe0236-4c4f-4ac3-8822-faae5d9897c9 button.colab-df-convert');\n",
              "        buttonEl.style.display =\n",
              "          google.colab.kernel.accessAllowed ? 'block' : 'none';\n",
              "\n",
              "        async function convertToInteractive(key) {\n",
              "          const element = document.querySelector('#df-dbfe0236-4c4f-4ac3-8822-faae5d9897c9');\n",
              "          const dataTable =\n",
              "            await google.colab.kernel.invokeFunction('convertToInteractive',\n",
              "                                                     [key], {});\n",
              "          if (!dataTable) return;\n",
              "\n",
              "          const docLinkHtml = 'Like what you see? Visit the ' +\n",
              "            '<a target=\"_blank\" href=https://colab.research.google.com/notebooks/data_table.ipynb>data table notebook</a>'\n",
              "            + ' to learn more about interactive tables.';\n",
              "          element.innerHTML = '';\n",
              "          dataTable['output_type'] = 'display_data';\n",
              "          await google.colab.output.renderOutput(dataTable, element);\n",
              "          const docLink = document.createElement('div');\n",
              "          docLink.innerHTML = docLinkHtml;\n",
              "          element.appendChild(docLink);\n",
              "        }\n",
              "      </script>\n",
              "    </div>\n",
              "  </div>\n",
              "  "
            ]
          },
          "metadata": {},
          "execution_count": 14
        }
      ],
      "source": [
        "df_reviews.dropna()"
      ]
    },
    {
      "cell_type": "code",
      "execution_count": 15,
      "metadata": {
        "colab": {
          "base_uri": "https://localhost:8080/",
          "height": 384
        },
        "id": "IxivV613xdO0",
        "outputId": "6caa8b14-ae88-480d-ed9d-6104db3cc505"
      },
      "outputs": [
        {
          "output_type": "execute_result",
          "data": {
            "text/plain": [
              "    category tech1                                        description fit  \\\n",
              "3         []        [This liquid soap with convenient pump dispens...       \n",
              "191       []        [This liquid soap with convenient pump dispens...       \n",
              "\n",
              "                                                 title also_buy tech2 brand  \\\n",
              "3    Crabtree &amp; Evelyn Hand Soap, Gardeners, 10...       []               \n",
              "191  Crabtree &amp; Evelyn Hand Soap, Gardeners, 10...       []               \n",
              "\n",
              "    feature rank                                          also_view  \\\n",
              "3        []   []  [B00004U9V2, B00GHX7H0A, B00FRERO7G, B00R68QXC...   \n",
              "191      []   []  [B00004U9V2, B00GHX7H0A, B00FRERO7G, B00R68QXC...   \n",
              "\n",
              "                                               details       main_cat  \\\n",
              "3    {'\n",
              "    Product Dimensions: \n",
              "    ': '2.6 x 2.6 ...  Luxury Beauty   \n",
              "191  {'\n",
              "    Product Dimensions: \n",
              "    ': '2.6 x 2.6 ...  Luxury Beauty   \n",
              "\n",
              "    similar_item date   price        asin  \\\n",
              "3                      $15.99  B00005A77F   \n",
              "191                    $15.99  B00005A77F   \n",
              "\n",
              "                                              imageURL  \\\n",
              "3    [https://images-na.ssl-images-amazon.com/image...   \n",
              "191  [https://images-na.ssl-images-amazon.com/image...   \n",
              "\n",
              "                                       imageURLHighRes  \n",
              "3    [https://images-na.ssl-images-amazon.com/image...  \n",
              "191  [https://images-na.ssl-images-amazon.com/image...  "
            ],
            "text/html": [
              "\n",
              "  <div id=\"df-99306454-373d-48af-8280-549263d3bc7c\">\n",
              "    <div class=\"colab-df-container\">\n",
              "      <div>\n",
              "<style scoped>\n",
              "    .dataframe tbody tr th:only-of-type {\n",
              "        vertical-align: middle;\n",
              "    }\n",
              "\n",
              "    .dataframe tbody tr th {\n",
              "        vertical-align: top;\n",
              "    }\n",
              "\n",
              "    .dataframe thead th {\n",
              "        text-align: right;\n",
              "    }\n",
              "</style>\n",
              "<table border=\"1\" class=\"dataframe\">\n",
              "  <thead>\n",
              "    <tr style=\"text-align: right;\">\n",
              "      <th></th>\n",
              "      <th>category</th>\n",
              "      <th>tech1</th>\n",
              "      <th>description</th>\n",
              "      <th>fit</th>\n",
              "      <th>title</th>\n",
              "      <th>also_buy</th>\n",
              "      <th>tech2</th>\n",
              "      <th>brand</th>\n",
              "      <th>feature</th>\n",
              "      <th>rank</th>\n",
              "      <th>also_view</th>\n",
              "      <th>details</th>\n",
              "      <th>main_cat</th>\n",
              "      <th>similar_item</th>\n",
              "      <th>date</th>\n",
              "      <th>price</th>\n",
              "      <th>asin</th>\n",
              "      <th>imageURL</th>\n",
              "      <th>imageURLHighRes</th>\n",
              "    </tr>\n",
              "  </thead>\n",
              "  <tbody>\n",
              "    <tr>\n",
              "      <th>3</th>\n",
              "      <td>[]</td>\n",
              "      <td></td>\n",
              "      <td>[This liquid soap with convenient pump dispens...</td>\n",
              "      <td></td>\n",
              "      <td>Crabtree &amp;amp; Evelyn Hand Soap, Gardeners, 10...</td>\n",
              "      <td>[]</td>\n",
              "      <td></td>\n",
              "      <td></td>\n",
              "      <td>[]</td>\n",
              "      <td>[]</td>\n",
              "      <td>[B00004U9V2, B00GHX7H0A, B00FRERO7G, B00R68QXC...</td>\n",
              "      <td>{'\n",
              "    Product Dimensions: \n",
              "    ': '2.6 x 2.6 ...</td>\n",
              "      <td>Luxury Beauty</td>\n",
              "      <td></td>\n",
              "      <td></td>\n",
              "      <td>$15.99</td>\n",
              "      <td>B00005A77F</td>\n",
              "      <td>[https://images-na.ssl-images-amazon.com/image...</td>\n",
              "      <td>[https://images-na.ssl-images-amazon.com/image...</td>\n",
              "    </tr>\n",
              "    <tr>\n",
              "      <th>191</th>\n",
              "      <td>[]</td>\n",
              "      <td></td>\n",
              "      <td>[This liquid soap with convenient pump dispens...</td>\n",
              "      <td></td>\n",
              "      <td>Crabtree &amp;amp; Evelyn Hand Soap, Gardeners, 10...</td>\n",
              "      <td>[]</td>\n",
              "      <td></td>\n",
              "      <td></td>\n",
              "      <td>[]</td>\n",
              "      <td>[]</td>\n",
              "      <td>[B00004U9V2, B00GHX7H0A, B00FRERO7G, B00R68QXC...</td>\n",
              "      <td>{'\n",
              "    Product Dimensions: \n",
              "    ': '2.6 x 2.6 ...</td>\n",
              "      <td>Luxury Beauty</td>\n",
              "      <td></td>\n",
              "      <td></td>\n",
              "      <td>$15.99</td>\n",
              "      <td>B00005A77F</td>\n",
              "      <td>[https://images-na.ssl-images-amazon.com/image...</td>\n",
              "      <td>[https://images-na.ssl-images-amazon.com/image...</td>\n",
              "    </tr>\n",
              "  </tbody>\n",
              "</table>\n",
              "</div>\n",
              "      <button class=\"colab-df-convert\" onclick=\"convertToInteractive('df-99306454-373d-48af-8280-549263d3bc7c')\"\n",
              "              title=\"Convert this dataframe to an interactive table.\"\n",
              "              style=\"display:none;\">\n",
              "        \n",
              "  <svg xmlns=\"http://www.w3.org/2000/svg\" height=\"24px\"viewBox=\"0 0 24 24\"\n",
              "       width=\"24px\">\n",
              "    <path d=\"M0 0h24v24H0V0z\" fill=\"none\"/>\n",
              "    <path d=\"M18.56 5.44l.94 2.06.94-2.06 2.06-.94-2.06-.94-.94-2.06-.94 2.06-2.06.94zm-11 1L8.5 8.5l.94-2.06 2.06-.94-2.06-.94L8.5 2.5l-.94 2.06-2.06.94zm10 10l.94 2.06.94-2.06 2.06-.94-2.06-.94-.94-2.06-.94 2.06-2.06.94z\"/><path d=\"M17.41 7.96l-1.37-1.37c-.4-.4-.92-.59-1.43-.59-.52 0-1.04.2-1.43.59L10.3 9.45l-7.72 7.72c-.78.78-.78 2.05 0 2.83L4 21.41c.39.39.9.59 1.41.59.51 0 1.02-.2 1.41-.59l7.78-7.78 2.81-2.81c.8-.78.8-2.07 0-2.86zM5.41 20L4 18.59l7.72-7.72 1.47 1.35L5.41 20z\"/>\n",
              "  </svg>\n",
              "      </button>\n",
              "      \n",
              "  <style>\n",
              "    .colab-df-container {\n",
              "      display:flex;\n",
              "      flex-wrap:wrap;\n",
              "      gap: 12px;\n",
              "    }\n",
              "\n",
              "    .colab-df-convert {\n",
              "      background-color: #E8F0FE;\n",
              "      border: none;\n",
              "      border-radius: 50%;\n",
              "      cursor: pointer;\n",
              "      display: none;\n",
              "      fill: #1967D2;\n",
              "      height: 32px;\n",
              "      padding: 0 0 0 0;\n",
              "      width: 32px;\n",
              "    }\n",
              "\n",
              "    .colab-df-convert:hover {\n",
              "      background-color: #E2EBFA;\n",
              "      box-shadow: 0px 1px 2px rgba(60, 64, 67, 0.3), 0px 1px 3px 1px rgba(60, 64, 67, 0.15);\n",
              "      fill: #174EA6;\n",
              "    }\n",
              "\n",
              "    [theme=dark] .colab-df-convert {\n",
              "      background-color: #3B4455;\n",
              "      fill: #D2E3FC;\n",
              "    }\n",
              "\n",
              "    [theme=dark] .colab-df-convert:hover {\n",
              "      background-color: #434B5C;\n",
              "      box-shadow: 0px 1px 3px 1px rgba(0, 0, 0, 0.15);\n",
              "      filter: drop-shadow(0px 1px 2px rgba(0, 0, 0, 0.3));\n",
              "      fill: #FFFFFF;\n",
              "    }\n",
              "  </style>\n",
              "\n",
              "      <script>\n",
              "        const buttonEl =\n",
              "          document.querySelector('#df-99306454-373d-48af-8280-549263d3bc7c button.colab-df-convert');\n",
              "        buttonEl.style.display =\n",
              "          google.colab.kernel.accessAllowed ? 'block' : 'none';\n",
              "\n",
              "        async function convertToInteractive(key) {\n",
              "          const element = document.querySelector('#df-99306454-373d-48af-8280-549263d3bc7c');\n",
              "          const dataTable =\n",
              "            await google.colab.kernel.invokeFunction('convertToInteractive',\n",
              "                                                     [key], {});\n",
              "          if (!dataTable) return;\n",
              "\n",
              "          const docLinkHtml = 'Like what you see? Visit the ' +\n",
              "            '<a target=\"_blank\" href=https://colab.research.google.com/notebooks/data_table.ipynb>data table notebook</a>'\n",
              "            + ' to learn more about interactive tables.';\n",
              "          element.innerHTML = '';\n",
              "          dataTable['output_type'] = 'display_data';\n",
              "          await google.colab.output.renderOutput(dataTable, element);\n",
              "          const docLink = document.createElement('div');\n",
              "          docLink.innerHTML = docLinkHtml;\n",
              "          element.appendChild(docLink);\n",
              "        }\n",
              "      </script>\n",
              "    </div>\n",
              "  </div>\n",
              "  "
            ]
          },
          "metadata": {},
          "execution_count": 15
        }
      ],
      "source": [
        "df_meta[df_meta['asin']=='B00005A77F']"
      ]
    },
    {
      "cell_type": "code",
      "execution_count": 16,
      "metadata": {
        "id": "OChchjP1voq1"
      },
      "outputs": [],
      "source": [
        "di_meta_title = df_meta[['asin','title']].to_dict('split')"
      ]
    },
    {
      "cell_type": "code",
      "execution_count": 17,
      "metadata": {
        "id": "GUJoB9GpGO25"
      },
      "outputs": [],
      "source": [
        "li_revs = df_reviews.to_dict('split')"
      ]
    },
    {
      "cell_type": "code",
      "execution_count": 18,
      "metadata": {
        "colab": {
          "base_uri": "https://localhost:8080/"
        },
        "id": "1Vm3H5qDH36q",
        "outputId": "f790df86-0f5a-4a2c-ce4e-bd2f2680d5aa"
      },
      "outputs": [
        {
          "output_type": "execute_result",
          "data": {
            "text/plain": [
              "[['B00004U9V2',\n",
              "  \"I bought two of these 8.5 fl oz hand cream, and neither of the dispensers work.  The hand cream is wonderful, but very thick, so I don't see I can get much out by shaking it out, since the dispensers seem to be non-operable.\"],\n",
              " ['B00004U9V2',\n",
              "  'Believe me, over the years I have tried many, many different hand creams. I am one of those people whose hands get so dry they have little cracks all over them.\\n\\nOf all the hand creams, this is the best. It really moisturizes but doesn\\'t leave your hands feeling greasy. And it lasts. I think a lot of lotions just have too much water in them. It has a very nice, subtle scent. I have to avoid a lot of lotions just because the scent is too strong!\\n\\nI am overall very \"frugal\" but I think this cream is worth the money.'],\n",
              " ['B00004U9V2', 'Great hand lotion'],\n",
              " ['B00004U9V2', 'This is the best for the severely dry skin on my hands'],\n",
              " ['B00004U9V2', 'The best non- oily hand cream ever. It heals overnight.']]"
            ]
          },
          "metadata": {},
          "execution_count": 18
        }
      ],
      "source": [
        "li_revs['data'][:5]"
      ]
    },
    {
      "cell_type": "code",
      "execution_count": 19,
      "metadata": {
        "colab": {
          "base_uri": "https://localhost:8080/"
        },
        "id": "lhklhswJyTjl",
        "outputId": "2e9bd594-306a-4002-efc7-374f6293ff1c"
      },
      "outputs": [
        {
          "output_type": "execute_result",
          "data": {
            "text/plain": [
              "[['B00004U9V2',\n",
              "  \"Crabtree &amp; Evelyn - Gardener's Ultra-Moisturising Hand Therapy Pump - 250g/8.8 OZ\"],\n",
              " ['B0000531EN', 'AHAVA Bath Salts'],\n",
              " ['B0000532JH', 'AHAVA Dead Sea Mineral Mud, 8.5 oz, Pack of 4'],\n",
              " ['B00005A77F', 'Crabtree &amp; Evelyn Hand Soap, Gardeners, 10.1 fl. oz.'],\n",
              " ['B00005NDTD', 'Soy Milk Hand Crme']]"
            ]
          },
          "metadata": {},
          "execution_count": 19
        }
      ],
      "source": [
        "di_meta_title['data'][:5]"
      ]
    },
    {
      "cell_type": "code",
      "execution_count": 46,
      "metadata": {
        "id": "1g1F8S-2HYOG"
      },
      "outputs": [],
      "source": [
        "def connect_asins(li_revs: dict, meta = False) -> dict:\n",
        "    dict_revs = {}\n",
        "    revs_app = []\n",
        "    for elem in tqdm(li_revs['data']):\n",
        "        if elem[1] != 'nan':\n",
        "            if elem[0] not in list(dict_revs.keys()):\n",
        "                revs_app = [elem[1]]\n",
        "            else:\n",
        "                revs_app.append(elem[1])\n",
        "            if len(revs_app) < 50:\n",
        "                dict_revs[elem[0]] = revs_app\n",
        "            else:\n",
        "                dict_revs[elem[0]] = revs_app[:50]\n",
        "            if meta == True:\n",
        "                revs_app = []\n",
        "    return dict_revs"
      ]
    },
    {
      "cell_type": "code",
      "execution_count": 47,
      "metadata": {
        "colab": {
          "base_uri": "https://localhost:8080/",
          "height": 49,
          "referenced_widgets": [
            "7baba8ceb8ff4626a4808edabe753dc5",
            "a0187360d3824730a75ad92eeef9eb57",
            "8891ced4a27f4f158d0f397de55bd7c4",
            "a6eeec7c28ff4e66bad1bab596b156d3",
            "2e7a5b8645cd43cf87e9cd8a1adde329",
            "2619a906cdb440fa96f77d7c8e1405aa",
            "42b2e75f4cce41fba268cd33523ab298",
            "563c9dfd102042d0816f21890f9e1e89",
            "b606c622e515412b95823b8aef6807be",
            "7d56e37d2a284c7f93e5aab74209a409",
            "6c7d3f0393a840c2b5cd472a43fb62db"
          ]
        },
        "id": "dG6wHoXYwh1k",
        "outputId": "025546bc-7ffe-42cc-930e-169273ef6a2a"
      },
      "outputs": [
        {
          "output_type": "display_data",
          "data": {
            "text/plain": [
              "  0%|          | 0/574628 [00:00<?, ?it/s]"
            ],
            "application/vnd.jupyter.widget-view+json": {
              "version_major": 2,
              "version_minor": 0,
              "model_id": "7baba8ceb8ff4626a4808edabe753dc5"
            }
          },
          "metadata": {}
        }
      ],
      "source": [
        "dict_revs = connect_asins(li_revs)\n"
      ]
    },
    {
      "cell_type": "code",
      "execution_count": 15,
      "metadata": {
        "id": "z5amcoQki-vU"
      },
      "outputs": [],
      "source": [
        "import re\n",
        "from collections import Counter"
      ]
    },
    {
      "cell_type": "code",
      "execution_count": 16,
      "metadata": {
        "colab": {
          "base_uri": "https://localhost:8080/"
        },
        "id": "0HBKahyx98HO",
        "outputId": "49533d3b-f660-4062-b5c2-bc402bc00c6f"
      },
      "outputs": [
        {
          "output_type": "stream",
          "name": "stdout",
          "text": [
            "/usr/local/lib/python3.8/dist-packages/torch/cuda/__init__.py:497: UserWarning: Can't initialize NVML\n",
            "  warnings.warn(\"Can't initialize NVML\")\n",
            "2022-12-17 21:02:14.194622: E tensorflow/stream_executor/cuda/cuda_driver.cc:271] failed call to cuInit: CUDA_ERROR_NO_DEVICE: no CUDA-capable device is detected\n",
            "Looking in indexes: https://pypi.org/simple, https://us-python.pkg.dev/colab-wheels/public/simple/\n",
            "Collecting en-core-web-sm==3.4.1\n",
            "  Downloading https://github.com/explosion/spacy-models/releases/download/en_core_web_sm-3.4.1/en_core_web_sm-3.4.1-py3-none-any.whl (12.8 MB)\n",
            "\u001b[K     |████████████████████████████████| 12.8 MB 2.2 MB/s \n",
            "\u001b[?25hRequirement already satisfied: spacy<3.5.0,>=3.4.0 in /usr/local/lib/python3.8/dist-packages (from en-core-web-sm==3.4.1) (3.4.4)\n",
            "Requirement already satisfied: spacy-loggers<2.0.0,>=1.0.0 in /usr/local/lib/python3.8/dist-packages (from spacy<3.5.0,>=3.4.0->en-core-web-sm==3.4.1) (1.0.4)\n",
            "Requirement already satisfied: langcodes<4.0.0,>=3.2.0 in /usr/local/lib/python3.8/dist-packages (from spacy<3.5.0,>=3.4.0->en-core-web-sm==3.4.1) (3.3.0)\n",
            "Requirement already satisfied: jinja2 in /usr/local/lib/python3.8/dist-packages (from spacy<3.5.0,>=3.4.0->en-core-web-sm==3.4.1) (2.11.3)\n",
            "Requirement already satisfied: packaging>=20.0 in /usr/local/lib/python3.8/dist-packages (from spacy<3.5.0,>=3.4.0->en-core-web-sm==3.4.1) (21.3)\n",
            "Requirement already satisfied: requests<3.0.0,>=2.13.0 in /usr/local/lib/python3.8/dist-packages (from spacy<3.5.0,>=3.4.0->en-core-web-sm==3.4.1) (2.23.0)\n",
            "Requirement already satisfied: typer<0.8.0,>=0.3.0 in /usr/local/lib/python3.8/dist-packages (from spacy<3.5.0,>=3.4.0->en-core-web-sm==3.4.1) (0.7.0)\n",
            "Requirement already satisfied: srsly<3.0.0,>=2.4.3 in /usr/local/lib/python3.8/dist-packages (from spacy<3.5.0,>=3.4.0->en-core-web-sm==3.4.1) (2.4.5)\n",
            "Requirement already satisfied: wasabi<1.1.0,>=0.9.1 in /usr/local/lib/python3.8/dist-packages (from spacy<3.5.0,>=3.4.0->en-core-web-sm==3.4.1) (0.10.1)\n",
            "Requirement already satisfied: cymem<2.1.0,>=2.0.2 in /usr/local/lib/python3.8/dist-packages (from spacy<3.5.0,>=3.4.0->en-core-web-sm==3.4.1) (2.0.7)\n",
            "Requirement already satisfied: setuptools in /usr/local/lib/python3.8/dist-packages (from spacy<3.5.0,>=3.4.0->en-core-web-sm==3.4.1) (57.4.0)\n",
            "Requirement already satisfied: numpy>=1.15.0 in /usr/local/lib/python3.8/dist-packages (from spacy<3.5.0,>=3.4.0->en-core-web-sm==3.4.1) (1.21.6)\n",
            "Requirement already satisfied: catalogue<2.1.0,>=2.0.6 in /usr/local/lib/python3.8/dist-packages (from spacy<3.5.0,>=3.4.0->en-core-web-sm==3.4.1) (2.0.8)\n",
            "Requirement already satisfied: preshed<3.1.0,>=3.0.2 in /usr/local/lib/python3.8/dist-packages (from spacy<3.5.0,>=3.4.0->en-core-web-sm==3.4.1) (3.0.8)\n",
            "Requirement already satisfied: spacy-legacy<3.1.0,>=3.0.10 in /usr/local/lib/python3.8/dist-packages (from spacy<3.5.0,>=3.4.0->en-core-web-sm==3.4.1) (3.0.10)\n",
            "Requirement already satisfied: thinc<8.2.0,>=8.1.0 in /usr/local/lib/python3.8/dist-packages (from spacy<3.5.0,>=3.4.0->en-core-web-sm==3.4.1) (8.1.5)\n",
            "Requirement already satisfied: tqdm<5.0.0,>=4.38.0 in /usr/local/lib/python3.8/dist-packages (from spacy<3.5.0,>=3.4.0->en-core-web-sm==3.4.1) (4.64.1)\n",
            "Requirement already satisfied: pathy>=0.3.5 in /usr/local/lib/python3.8/dist-packages (from spacy<3.5.0,>=3.4.0->en-core-web-sm==3.4.1) (0.10.1)\n",
            "Requirement already satisfied: murmurhash<1.1.0,>=0.28.0 in /usr/local/lib/python3.8/dist-packages (from spacy<3.5.0,>=3.4.0->en-core-web-sm==3.4.1) (1.0.9)\n",
            "Requirement already satisfied: pydantic!=1.8,!=1.8.1,<1.11.0,>=1.7.4 in /usr/local/lib/python3.8/dist-packages (from spacy<3.5.0,>=3.4.0->en-core-web-sm==3.4.1) (1.10.2)\n",
            "Requirement already satisfied: smart-open<7.0.0,>=5.2.1 in /usr/local/lib/python3.8/dist-packages (from spacy<3.5.0,>=3.4.0->en-core-web-sm==3.4.1) (6.3.0)\n",
            "Requirement already satisfied: pyparsing!=3.0.5,>=2.0.2 in /usr/local/lib/python3.8/dist-packages (from packaging>=20.0->spacy<3.5.0,>=3.4.0->en-core-web-sm==3.4.1) (3.0.9)\n",
            "Requirement already satisfied: typing-extensions>=4.1.0 in /usr/local/lib/python3.8/dist-packages (from pydantic!=1.8,!=1.8.1,<1.11.0,>=1.7.4->spacy<3.5.0,>=3.4.0->en-core-web-sm==3.4.1) (4.4.0)\n",
            "Requirement already satisfied: idna<3,>=2.5 in /usr/local/lib/python3.8/dist-packages (from requests<3.0.0,>=2.13.0->spacy<3.5.0,>=3.4.0->en-core-web-sm==3.4.1) (2.10)\n",
            "Requirement already satisfied: chardet<4,>=3.0.2 in /usr/local/lib/python3.8/dist-packages (from requests<3.0.0,>=2.13.0->spacy<3.5.0,>=3.4.0->en-core-web-sm==3.4.1) (3.0.4)\n",
            "Requirement already satisfied: certifi>=2017.4.17 in /usr/local/lib/python3.8/dist-packages (from requests<3.0.0,>=2.13.0->spacy<3.5.0,>=3.4.0->en-core-web-sm==3.4.1) (2022.12.7)\n",
            "Requirement already satisfied: urllib3!=1.25.0,!=1.25.1,<1.26,>=1.21.1 in /usr/local/lib/python3.8/dist-packages (from requests<3.0.0,>=2.13.0->spacy<3.5.0,>=3.4.0->en-core-web-sm==3.4.1) (1.24.3)\n",
            "Requirement already satisfied: confection<1.0.0,>=0.0.1 in /usr/local/lib/python3.8/dist-packages (from thinc<8.2.0,>=8.1.0->spacy<3.5.0,>=3.4.0->en-core-web-sm==3.4.1) (0.0.3)\n",
            "Requirement already satisfied: blis<0.8.0,>=0.7.8 in /usr/local/lib/python3.8/dist-packages (from thinc<8.2.0,>=8.1.0->spacy<3.5.0,>=3.4.0->en-core-web-sm==3.4.1) (0.7.9)\n",
            "Requirement already satisfied: click<9.0.0,>=7.1.1 in /usr/local/lib/python3.8/dist-packages (from typer<0.8.0,>=0.3.0->spacy<3.5.0,>=3.4.0->en-core-web-sm==3.4.1) (7.1.2)\n",
            "Requirement already satisfied: MarkupSafe>=0.23 in /usr/local/lib/python3.8/dist-packages (from jinja2->spacy<3.5.0,>=3.4.0->en-core-web-sm==3.4.1) (2.0.1)\n",
            "\u001b[38;5;2m✔ Download and installation successful\u001b[0m\n",
            "You can now load the package via spacy.load('en_core_web_sm')\n"
          ]
        }
      ],
      "source": [
        "!pip install --quiet spacy\n",
        "!spacy download en_core_web_sm\n",
        "nlp = spacy.load('en_core_web_sm')"
      ]
    },
    {
      "cell_type": "markdown",
      "source": [
        "Мне важно было смотреть на все отзывы для одного товара. Ощущение, что так наши частотные слова будут чище, ведь мы изначально смотрим не на весь корпус, а только на один товар. Плюс так мы сможем использовать биграммы без применения tf-idf."
      ],
      "metadata": {
        "id": "wkLk2ExAAJTm"
      }
    },
    {
      "cell_type": "code",
      "source": [
        "from nltk.stem import WordNetLemmatizer \n",
        "nltk.download('wordnet')\n",
        "nltk.download('omw-1.4')\n",
        "lemmatizer = WordNetLemmatizer()"
      ],
      "metadata": {
        "colab": {
          "base_uri": "https://localhost:8080/"
        },
        "id": "X3h-ZYmVA9yE",
        "outputId": "26fccd3e-de6d-428a-c8c6-78a9e26c12c0"
      },
      "execution_count": 17,
      "outputs": [
        {
          "output_type": "stream",
          "name": "stderr",
          "text": [
            "[nltk_data] Downloading package wordnet to /root/nltk_data...\n",
            "[nltk_data] Downloading package omw-1.4 to /root/nltk_data...\n"
          ]
        }
      ]
    },
    {
      "cell_type": "code",
      "execution_count": 18,
      "metadata": {
        "id": "6OmcViqHckfM"
      },
      "outputs": [],
      "source": [
        "def preprocess_text(text: str) -> str:\n",
        "    lemmas = []\n",
        "    for word in text.split():\n",
        "        lemmas.append(lemmatizer.lemmatize(word))\n",
        "    text = [word.lower().strip(punctuation) for word in lemmas]\n",
        "    spaces = ['', ' ', '\\n', '\\t']\n",
        "    text = [word for word in text if word not in spaces]\n",
        "    stop_words = set(stopwords)\n",
        "    filtered_sentence = [w for w in text if not w.lower() in stop_words]\n",
        "    text = ' '.join(filtered_sentence)\n",
        "    text = re.sub(r\"\\s+\", \" \", text)\n",
        "    return text"
      ]
    },
    {
      "cell_type": "code",
      "execution_count": 48,
      "metadata": {
        "colab": {
          "base_uri": "https://localhost:8080/",
          "height": 49,
          "referenced_widgets": [
            "66aae0650b7f409e94b9ddbca1619725",
            "aa4c7358ed0d4a95abe72df808d36c70",
            "ad2cf186ddfe4ddf8bce57d9a9681a99",
            "33f76edd501a4d43862c27a68623f027",
            "7b4e6136d51e4119856d4982807cbc94",
            "555fae6386ff45168b1eb4e5ddb27752",
            "0e5f477ae7304293a8ca10ab05a53a60",
            "e75b35008eab4f5ebcfb24d77158d0bb",
            "2c744935d7c14614a98954a305bbb8c7",
            "714f3962021949faa7e35b3bfb55bba9",
            "d7b3f74885264e18a189352d4576281e"
          ]
        },
        "id": "uvIg-ET_gcH0",
        "outputId": "bfb17267-884b-4bb2-b070-3c5c842191e7"
      },
      "outputs": [
        {
          "output_type": "display_data",
          "data": {
            "text/plain": [
              "  0%|          | 0/12120 [00:00<?, ?it/s]"
            ],
            "application/vnd.jupyter.widget-view+json": {
              "version_major": 2,
              "version_minor": 0,
              "model_id": "66aae0650b7f409e94b9ddbca1619725"
            }
          },
          "metadata": {}
        }
      ],
      "source": [
        "dict_revs_preproc = {}\n",
        "for key, value in tqdm(dict_revs.items()):\n",
        "    valuee = []\n",
        "    for text in value:\n",
        "        if type(text)!=float:\n",
        "            text = preprocess_text(text)\n",
        "            text = nlp(text)\n",
        "            for tok in text:\n",
        "                valuee.append(tok.lemma_)\n",
        "    all_vals = Counter(valuee)\n",
        "    bigrams = zip(valuee, valuee[1:])\n",
        "    counts = Counter(bigrams)\n",
        "    all_counts = all_vals + counts\n",
        "\n",
        "    all_counts = all_counts.most_common(10)\n",
        "    dict_revs_preproc[key] = all_counts"
      ]
    },
    {
      "cell_type": "code",
      "execution_count": 19,
      "metadata": {
        "id": "4Gh0vyDS1S-g"
      },
      "outputs": [],
      "source": [
        "li_meta = df_meta['title'].tolist()"
      ]
    },
    {
      "cell_type": "code",
      "source": [
        "li_revs = df['reviewText'].tolist()"
      ],
      "metadata": {
        "id": "I1xfqhQEXhpi"
      },
      "execution_count": 20,
      "outputs": []
    },
    {
      "cell_type": "code",
      "source": [
        "li_meta[1]"
      ],
      "metadata": {
        "colab": {
          "base_uri": "https://localhost:8080/",
          "height": 37
        },
        "id": "Ad6n0bRv6ICK",
        "outputId": "cd39dd46-3fe1-4ad3-b59e-14ad7fb41984"
      },
      "execution_count": 27,
      "outputs": [
        {
          "output_type": "execute_result",
          "data": {
            "text/plain": [
              "'AHAVA Bath Salts'"
            ],
            "application/vnd.google.colaboratory.intrinsic+json": {
              "type": "string"
            }
          },
          "metadata": {},
          "execution_count": 27
        }
      ]
    },
    {
      "cell_type": "code",
      "source": [],
      "metadata": {
        "id": "4AOl_QUHA1AL"
      },
      "execution_count": null,
      "outputs": []
    },
    {
      "cell_type": "code",
      "execution_count": 84,
      "metadata": {
        "colab": {
          "base_uri": "https://localhost:8080/",
          "height": 49,
          "referenced_widgets": [
            "24c6d5fa06bf4751b977fcdde9d439a4",
            "6f37213ba40248339c9ec526d40e727e",
            "47aa4663930045e1800cd4e8b45ab7d0",
            "19b98d2ea2364f71ad25989e5ce5c7d2",
            "8ca81c54b6be4740a8adc368e5d6a41f",
            "1e263ce3f4a04323a4fa612a77d1f853",
            "79d96a47bbcf43108a9fabbf1482d59a",
            "0496c7932b2a43b09a72bb9e53e13034",
            "39b576e96da84ff885e2d16994d4166f",
            "cb19f9f8fb434a578a51c111ddc30d62",
            "8737277df2714b0bbad4a8cfaee25d43"
          ]
        },
        "id": "u9wwClg41aO-",
        "outputId": "0cd01200-758e-4314-f76f-818d19023b48"
      },
      "outputs": [
        {
          "output_type": "display_data",
          "data": {
            "text/plain": [
              "  0%|          | 0/12299 [00:00<?, ?it/s]"
            ],
            "application/vnd.jupyter.widget-view+json": {
              "version_major": 2,
              "version_minor": 0,
              "model_id": "24c6d5fa06bf4751b977fcdde9d439a4"
            }
          },
          "metadata": {}
        }
      ],
      "source": [
        "for elem in tqdm(li_meta):\n",
        "    text = preprocess_text(elem)\n",
        "    text = nlp(text)\n",
        "    for tok in text:\n",
        "        if tok.pos_ == \"NOUN\":\n",
        "            valuee.append(tok.lemma_)\n",
        "    bigrams = zip(valuee, valuee[1:])\n",
        "    counts = Counter(bigrams)\n",
        "    all_vals = Counter(valuee) \n",
        "    all_counts = all_vals + counts"
      ]
    },
    {
      "cell_type": "code",
      "source": [
        "li_common_titles = []\n",
        "for i,j in all_counts.most_common(50):\n",
        "    li_common_titles.append(i)"
      ],
      "metadata": {
        "id": "MuRe8l9i7g8W"
      },
      "execution_count": 182,
      "outputs": []
    },
    {
      "cell_type": "code",
      "execution_count": 86,
      "metadata": {
        "id": "y_6EBCRkilsr"
      },
      "outputs": [],
      "source": [
        "li_all = list(dict_revs_preproc.values())"
      ]
    },
    {
      "cell_type": "code",
      "execution_count": 88,
      "metadata": {
        "id": "AUPfGXX-sm4g"
      },
      "outputs": [],
      "source": [
        "set_words = []\n",
        "for elem in li_all:\n",
        "    for i,j in elem:\n",
        "        if i!= '-':\n",
        "            if type(i) == tuple:\n",
        "                i = ' '.join(i)\n",
        "            set_words.append(i)\n",
        "set_words = set(set_words)"
      ]
    },
    {
      "cell_type": "markdown",
      "source": [
        "Пересечение самых частотных тайтлов и слов в отзывах должно давать названия"
      ],
      "metadata": {
        "id": "kZTJrcsl8S8I"
      }
    },
    {
      "cell_type": "code",
      "source": [],
      "metadata": {
        "id": "38oGrD9n8Z89"
      },
      "execution_count": null,
      "outputs": []
    },
    {
      "cell_type": "code",
      "execution_count": null,
      "metadata": {
        "id": "eeRv_rHSswRe"
      },
      "outputs": [],
      "source": [
        "set_names = set(li_common_titles)& set_words"
      ]
    },
    {
      "cell_type": "code",
      "source": [
        "set_names = {'1',\n",
        " '1.7',\n",
        " '2',\n",
        " 'beauty',\n",
        " 'body',\n",
        " 'brush',\n",
        " 'butter',\n",
        " 'care',\n",
        " 'cleanser',\n",
        " 'cleansing',\n",
        " 'collection',\n",
        " 'color',\n",
        " 'conditioner',\n",
        " 'crabtree',\n",
        " 'cream',\n",
        " 'de',\n",
        " 'eau',\n",
        " 'eye',\n",
        " 'face',\n",
        " 'fl',\n",
        " 'gel',\n",
        " 'hair',\n",
        " 'hand',\n",
        " 'kit',\n",
        " \"l'occitane\",\n",
        " 'lip',\n",
        " 'lotion',\n",
        " 'man',\n",
        " 'mask',\n",
        " 'mineral',\n",
        " 'moisturizer',\n",
        " 'nail',\n",
        " 'oil',\n",
        " 'ounce',\n",
        " 'oz',\n",
        " 'parfum',\n",
        " 'powder',\n",
        " 'serum',\n",
        " 'set',\n",
        " 'shampoo',\n",
        " 'skin',\n",
        " 'spf',\n",
        " 'spray',\n",
        " 'treatment',\n",
        " 'wash'}"
      ],
      "metadata": {
        "id": "QJQPsA0PgDto"
      },
      "execution_count": 27,
      "outputs": []
    },
    {
      "cell_type": "markdown",
      "source": [
        "Получилось немного мусора, поэтому попробуем достать частотные сочетания через tf-idf"
      ],
      "metadata": {
        "id": "BXXUAQ7aRYqj"
      }
    },
    {
      "cell_type": "code",
      "source": [
        "import gensim"
      ],
      "metadata": {
        "id": "lHg56iD9e3B7"
      },
      "execution_count": 21,
      "outputs": []
    },
    {
      "cell_type": "code",
      "source": [
        "from sklearn.feature_extraction.text import TfidfVectorizer, CountVectorizer"
      ],
      "metadata": {
        "id": "Y7CtXppvPA0m"
      },
      "execution_count": 22,
      "outputs": []
    },
    {
      "cell_type": "code",
      "source": [
        "valuee_st = []\n",
        "\n",
        "for elem in tqdm(li_revs):\n",
        "    valuee = []\n",
        "    if type(elem) != float:\n",
        "        text = preprocess_text(elem)\n",
        "        text = nlp(text)\n",
        "        for tok in text:\n",
        "            if tok.pos_ == \"NOUN\":\n",
        "                valuee.append(tok.lemma_)\n",
        "    valuee_st.append(' '.join(valuee))"
      ],
      "metadata": {
        "colab": {
          "base_uri": "https://localhost:8080/",
          "height": 49,
          "referenced_widgets": [
            "2ad99a061e5047eaaa574b857b957044",
            "720d40f79fab4c5db259147b6b1b2743",
            "ad77937932874f1e90baab9a930c67e0",
            "5f3ef4c89736444497bd6124f6798756",
            "733a48f5f53147a1801a2e59675f52fd",
            "88bcb2627630493583c2532d4ac966ec",
            "12ac5266e93546feb9c0f0802260eed1",
            "3ed28d71e89f49fdbb1f139b116af9a7",
            "5839c215c1f24ead9d0e6ad10fa13e76",
            "11165f61a7b94201bf7480e2ea7cc717",
            "e6e79fa1fb05474a9a0b5bde67a7a342"
          ]
        },
        "id": "XoPsBngqXrZ4",
        "outputId": "ddffa8c2-35d3-4e73-dcaa-6086793ba274"
      },
      "execution_count": 23,
      "outputs": [
        {
          "output_type": "display_data",
          "data": {
            "text/plain": [
              "  0%|          | 0/574628 [00:00<?, ?it/s]"
            ],
            "application/vnd.jupyter.widget-view+json": {
              "version_major": 2,
              "version_minor": 0,
              "model_id": "2ad99a061e5047eaaa574b857b957044"
            }
          },
          "metadata": {}
        }
      ]
    },
    {
      "cell_type": "code",
      "source": [
        "corpus = [text.split(' ') for text in valuee_st]\n",
        "\n",
        "model = gensim.models.Word2Vec(corpus, window=2)"
      ],
      "metadata": {
        "id": "O2dAPg4kgnAi"
      },
      "execution_count": 24,
      "outputs": []
    },
    {
      "cell_type": "code",
      "source": [
        "synonyms = []\n",
        "\n",
        "for elem in set_names:\n",
        "  if model.wv.__contains__(elem):\n",
        "    for syn in model.wv.most_similar(elem, topn=3):\n",
        "      synonyms.append(syn[0])"
      ],
      "metadata": {
        "id": "LvMsE4JFgyYS"
      },
      "execution_count": 28,
      "outputs": []
    },
    {
      "cell_type": "code",
      "source": [
        "synonyms"
      ],
      "metadata": {
        "colab": {
          "base_uri": "https://localhost:8080/"
        },
        "id": "nrCEP7Dig4k5",
        "outputId": "1a8e4390-bed3-4add-d399-4cda7d669ecb"
      },
      "execution_count": 29,
      "outputs": [
        {
          "output_type": "execute_result",
          "data": {
            "text/plain": [
              "['guy',\n",
              " 'gentleman',\n",
              " 'dude',\n",
              " 'pur',\n",
              " 'mattifying',\n",
              " 'glo',\n",
              " 'skin',\n",
              " 'decollete',\n",
              " 'cloth',\n",
              " 'briar',\n",
              " 'nantucket',\n",
              " 'loccitane',\n",
              " 'creme',\n",
              " 'emollient',\n",
              " 'sooth',\n",
              " 'starter',\n",
              " 'pack',\n",
              " 'airline',\n",
              " 'bristle',\n",
              " 'boar',\n",
              " 'badger',\n",
              " 'conditioner',\n",
              " 'batiste',\n",
              " 'klorane',\n",
              " 'coconut',\n",
              " 'sebum',\n",
              " 'rosehip',\n",
              " 'eyelid',\n",
              " 'undereye',\n",
              " 'puffiness',\n",
              " 'prep',\n",
              " 'wet',\n",
              " 'harden',\n",
              " 'strand',\n",
              " 'bouncy',\n",
              " 'wavy',\n",
              " 'treat',\n",
              " 'session',\n",
              " 'remedy',\n",
              " 'zem',\n",
              " 'pseudo',\n",
              " 'ex',\n",
              " 'colour',\n",
              " 'shade',\n",
              " 'nude',\n",
              " 'cleanse',\n",
              " 'cleanser',\n",
              " 'cleaning',\n",
              " 'turbo',\n",
              " 'loofah',\n",
              " 'salt',\n",
              " 'veil',\n",
              " 'powdery',\n",
              " 'kabuki',\n",
              " 'mist',\n",
              " 'spritz',\n",
              " 'hairspray',\n",
              " 'washing',\n",
              " 'cleanse',\n",
              " 'rinse',\n",
              " 'loccitane',\n",
              " 'crabtree',\n",
              " 'sabon',\n",
              " 'cocoa',\n",
              " 'palmer',\n",
              " 'peanut',\n",
              " 'cleanse',\n",
              " 'cleansing',\n",
              " 'foaming',\n",
              " 'fingernail',\n",
              " 'manicure',\n",
              " 'toenail',\n",
              " 'lacoste',\n",
              " 'valley',\n",
              " 'frangrance',\n",
              " 'moisturizing',\n",
              " 'moisturize',\n",
              " 'absorb',\n",
              " 'masque',\n",
              " 'mud',\n",
              " 'fango',\n",
              " 'muppet',\n",
              " 'lover',\n",
              " 'edition',\n",
              " 'href=\"/clinique',\n",
              " 'organic',\n",
              " 'pangea',\n",
              " 'skincare',\n",
              " 'react',\n",
              " 'regime',\n",
              " 'toilette',\n",
              " 'issey',\n",
              " 'miyake',\n",
              " 'ml)</a',\n",
              " 'ml',\n",
              " 'oz.</a',\n",
              " 'face',\n",
              " 'redness',\n",
              " 'rosacea',\n",
              " 'sunblock',\n",
              " 'sunscreen',\n",
              " 'spectrum',\n",
              " 'emollient',\n",
              " 'calamine',\n",
              " 'moisturizer',\n",
              " 'ounce',\n",
              " 'ml',\n",
              " 'fl',\n",
              " 'vitamin',\n",
              " 'complex',\n",
              " 'retinol',\n",
              " 'compact',\n",
              " 'compartment',\n",
              " 'pouch',\n",
              " 'palm',\n",
              " 'slippery',\n",
              " 'fingertip',\n",
              " 'oz',\n",
              " 'ml',\n",
              " 'tube</a',\n",
              " 'chapstick',\n",
              " 'lipstick',\n",
              " 'chap',\n",
              " 'shampoo',\n",
              " 'masque',\n",
              " 'conditioning']"
            ]
          },
          "metadata": {},
          "execution_count": 29
        }
      ]
    },
    {
      "cell_type": "markdown",
      "source": [
        "Составим полный списко названий"
      ],
      "metadata": {
        "id": "xkX29vIlzJCc"
      }
    },
    {
      "cell_type": "code",
      "source": [
        "set_names"
      ],
      "metadata": {
        "colab": {
          "base_uri": "https://localhost:8080/"
        },
        "id": "HYl6ErjvzZ3c",
        "outputId": "370a75cf-8c01-48e9-d2cc-299816c14241"
      },
      "execution_count": 198,
      "outputs": [
        {
          "output_type": "execute_result",
          "data": {
            "text/plain": [
              "{'beauty',\n",
              " 'body',\n",
              " 'brush',\n",
              " 'butter',\n",
              " 'care',\n",
              " 'cleanser',\n",
              " 'cleansing',\n",
              " 'collection',\n",
              " 'color',\n",
              " 'conditioner',\n",
              " 'crabtree',\n",
              " 'cream',\n",
              " 'de',\n",
              " 'eau',\n",
              " 'eye',\n",
              " 'face',\n",
              " 'fl',\n",
              " 'gel',\n",
              " 'hair',\n",
              " 'hand',\n",
              " 'kit',\n",
              " \"l'occitane\",\n",
              " 'lip',\n",
              " 'lotion',\n",
              " 'man',\n",
              " 'mask',\n",
              " 'mineral',\n",
              " 'moisturizer',\n",
              " 'nail',\n",
              " 'oil',\n",
              " 'ounce',\n",
              " 'oz',\n",
              " 'parfum',\n",
              " 'powder',\n",
              " 'serum',\n",
              " 'set',\n",
              " 'shampoo',\n",
              " 'skin',\n",
              " 'spf',\n",
              " 'spray',\n",
              " 'treatment',\n",
              " 'wash'}"
            ]
          },
          "metadata": {},
          "execution_count": 198
        }
      ]
    },
    {
      "cell_type": "code",
      "source": [
        "li_names = ['brush', 'butter', 'cleanser', 'conditioner', 'cream', 'gel', 'hair','lip', 'lotion',  'mask', 'moisturizer', 'nail', 'oil', 'parfum', 'powder','serum','shampoo',\n",
        "            'spray', 'booster','sunscreen',  'sebum', 'mist','tonic','toilette', 'chapstick','lipstick']"
      ],
      "metadata": {
        "id": "VECW7oTEzfbh"
      },
      "execution_count": 2,
      "outputs": []
    },
    {
      "cell_type": "markdown",
      "source": [
        "Финальный список названий."
      ],
      "metadata": {
        "id": "_Gjybf2C0yYn"
      }
    },
    {
      "cell_type": "code",
      "source": [
        "li_names"
      ],
      "metadata": {
        "colab": {
          "base_uri": "https://localhost:8080/"
        },
        "id": "98YodR3p0wE5",
        "outputId": "fe2b1993-b938-42d9-b41e-ed3ee00d0dda"
      },
      "execution_count": 199,
      "outputs": [
        {
          "output_type": "execute_result",
          "data": {
            "text/plain": [
              "['brush',\n",
              " 'butter',\n",
              " 'cleanser',\n",
              " 'conditioner',\n",
              " 'cream',\n",
              " 'gel',\n",
              " 'hair',\n",
              " 'lip',\n",
              " 'lotion',\n",
              " 'mask',\n",
              " 'moisturizer',\n",
              " 'nail',\n",
              " 'oil',\n",
              " 'parfum',\n",
              " 'powder',\n",
              " 'serum',\n",
              " 'shampoo',\n",
              " 'spray',\n",
              " 'booster',\n",
              " 'sunscreen',\n",
              " 'sebum',\n",
              " 'mist',\n",
              " 'tonic',\n",
              " 'toilette',\n",
              " 'chapstick',\n",
              " 'lipstick']"
            ]
          },
          "metadata": {},
          "execution_count": 199
        }
      ]
    },
    {
      "cell_type": "markdown",
      "source": [],
      "metadata": {
        "id": "fU80vWXKfz3y"
      }
    },
    {
      "cell_type": "markdown",
      "source": [
        "## Собираем n-граммы"
      ],
      "metadata": {
        "id": "Xi_8F5-Tf6AF"
      }
    },
    {
      "cell_type": "code",
      "source": [
        "from nltk.util import ngrams\n",
        "from nltk.collocations import *"
      ],
      "metadata": {
        "id": "X8X9GMQQf5Ue"
      },
      "execution_count": 30,
      "outputs": []
    },
    {
      "cell_type": "code",
      "source": [
        "bigrams = []\n",
        "for text in corpus:\n",
        "    bigr = ngrams(text, 2)\n",
        "    for b in bigr:\n",
        "        bigrams.append(b)\n",
        "    "
      ],
      "metadata": {
        "id": "JdpU4541hfsJ"
      },
      "execution_count": 31,
      "outputs": []
    },
    {
      "cell_type": "code",
      "source": [
        "len(bigrams)"
      ],
      "metadata": {
        "colab": {
          "base_uri": "https://localhost:8080/"
        },
        "id": "PHDZvN-r1EwN",
        "outputId": "069529b8-5750-41e9-a67f-c3092f138c2b"
      },
      "execution_count": 205,
      "outputs": [
        {
          "output_type": "execute_result",
          "data": {
            "text/plain": [
              "4117562"
            ]
          },
          "metadata": {},
          "execution_count": 205
        }
      ]
    },
    {
      "cell_type": "code",
      "source": [
        "bigrams_count = Counter(bigrams).most_common()"
      ],
      "metadata": {
        "id": "VmQi3tytlHCT"
      },
      "execution_count": 32,
      "outputs": []
    },
    {
      "cell_type": "code",
      "source": [
        "bigrams_count"
      ],
      "metadata": {
        "id": "ZWiYjYif1Q_x"
      },
      "execution_count": null,
      "outputs": []
    },
    {
      "cell_type": "code",
      "source": [
        "bigrams_keywords = []\n",
        "\n",
        "for elem in bigrams:\n",
        "  for word in set_names:\n",
        "    if word in elem[0]:\n",
        "      bigrams_keywords.append(elem)"
      ],
      "metadata": {
        "id": "H_zBz0iio24B"
      },
      "execution_count": 34,
      "outputs": []
    },
    {
      "cell_type": "code",
      "source": [
        "bigram_measures = nltk.collocations.BigramAssocMeasures()\n",
        "finder = nltk.collocations.BigramCollocationFinder.from_documents([text.split(' ') for text in valuee_st])\n",
        "finder.apply_word_filter(lambda x: x not in set_names)"
      ],
      "metadata": {
        "id": "N10KR2EEnzPM"
      },
      "execution_count": 35,
      "outputs": []
    },
    {
      "cell_type": "code",
      "source": [
        "bigram_measures"
      ],
      "metadata": {
        "colab": {
          "base_uri": "https://localhost:8080/"
        },
        "id": "QwLhYz3u22b4",
        "outputId": "495741ad-0bbe-419f-8424-9bda05be3b3b"
      },
      "execution_count": 220,
      "outputs": [
        {
          "output_type": "execute_result",
          "data": {
            "text/plain": [
              "<nltk.metrics.association.BigramAssocMeasures at 0x7fe03539e370>"
            ]
          },
          "metadata": {},
          "execution_count": 220
        }
      ]
    },
    {
      "cell_type": "markdown",
      "source": [
        "## Ранжирование"
      ],
      "metadata": {
        "id": "KonrsI3fooC3"
      }
    },
    {
      "cell_type": "code",
      "source": [
        "finder.nbest(bigram_measures.likelihood_ratio, 15)"
      ],
      "metadata": {
        "colab": {
          "base_uri": "https://localhost:8080/"
        },
        "id": "2oh5N0XTofj1",
        "outputId": "b8dd7245-9a99-4945-b09e-dc4ac0235035"
      },
      "execution_count": 222,
      "outputs": [
        {
          "output_type": "execute_result",
          "data": {
            "text/plain": [
              "[('shampoo', 'conditioner'),\n",
              " ('face', 'wash'),\n",
              " ('body', 'wash'),\n",
              " ('skin', 'care'),\n",
              " ('hand', 'cream'),\n",
              " ('hair', 'skin'),\n",
              " ('skin', 'hair'),\n",
              " ('eye', 'cream'),\n",
              " ('body', 'lotion'),\n",
              " ('conditioner', 'hair'),\n",
              " ('nail', 'nail'),\n",
              " ('wash', 'face'),\n",
              " ('hair', 'hair'),\n",
              " ('lip', 'lip'),\n",
              " ('face', 'hair')]"
            ]
          },
          "metadata": {},
          "execution_count": 222
        }
      ]
    },
    {
      "cell_type": "code",
      "source": [
        "finder.nbest(bigram_measures.student_t, 15)"
      ],
      "metadata": {
        "colab": {
          "base_uri": "https://localhost:8080/"
        },
        "id": "hUmyou2MpEkw",
        "outputId": "cb992233-c736-4d9f-c401-dec7a8b4272a"
      },
      "execution_count": 223,
      "outputs": [
        {
          "output_type": "execute_result",
          "data": {
            "text/plain": [
              "[('shampoo', 'conditioner'),\n",
              " ('face', 'wash'),\n",
              " ('skin', 'care'),\n",
              " ('hand', 'cream'),\n",
              " ('hair', 'hair'),\n",
              " ('eye', 'cream'),\n",
              " ('body', 'wash'),\n",
              " ('conditioner', 'hair'),\n",
              " ('shampoo', 'hair'),\n",
              " ('hair', 'spray'),\n",
              " ('color', 'color'),\n",
              " ('body', 'lotion'),\n",
              " ('nail', 'nail'),\n",
              " ('wash', 'face'),\n",
              " ('wash', 'hair')]"
            ]
          },
          "metadata": {},
          "execution_count": 223
        }
      ]
    },
    {
      "cell_type": "code",
      "source": [
        "finder.nbest(bigram_measures.pmi, 15)"
      ],
      "metadata": {
        "colab": {
          "base_uri": "https://localhost:8080/"
        },
        "id": "a75eVwwlpL_v",
        "outputId": "b6e9a665-09d6-48c1-8fd9-9f59e8a0c756"
      },
      "execution_count": 224,
      "outputs": [
        {
          "output_type": "execute_result",
          "data": {
            "text/plain": [
              "[('eau', 'de'),\n",
              " ('fl', 'oz'),\n",
              " ('man', 'eau'),\n",
              " ('de', 'fl'),\n",
              " ('eau', 'ounce'),\n",
              " ('ounce', 'ounce'),\n",
              " ('fl', 'fl'),\n",
              " ('mineral', 'powder'),\n",
              " ('oz', 'oz'),\n",
              " ('body', 'wash'),\n",
              " ('shampoo', 'conditioner'),\n",
              " ('body', 'butter'),\n",
              " ('spf', 'spf'),\n",
              " ('parfum', 'parfum'),\n",
              " ('cleansing', 'conditioner')]"
            ]
          },
          "metadata": {},
          "execution_count": 224
        }
      ]
    },
    {
      "cell_type": "markdown",
      "source": [
        "Первые две отработали примерно одинаково, но мы видим, что третья сильно от них отличается. Хотя, можно увидеть body butter, что нам подходит. "
      ],
      "metadata": {
        "id": "jcZDdkVj3Tub"
      }
    },
    {
      "cell_type": "markdown",
      "source": [
        "Из невошедшего в первый вариант только эта часть снизу"
      ],
      "metadata": {
        "id": "-pUvVlm4Uga2"
      }
    },
    {
      "cell_type": "markdown",
      "source": [
        "## Выведем топ"
      ],
      "metadata": {
        "id": "cWshSrf-pZiU"
      }
    },
    {
      "cell_type": "code",
      "source": [
        "li_5 = li_names[:5]"
      ],
      "metadata": {
        "id": "F3h63HLFpPOR"
      },
      "execution_count": 72,
      "outputs": []
    },
    {
      "cell_type": "code",
      "source": [
        "t_scores = finder.score_ngrams(bigram_measures.student_t)"
      ],
      "metadata": {
        "id": "ZDJXQekS3sPv"
      },
      "execution_count": 37,
      "outputs": []
    },
    {
      "cell_type": "code",
      "source": [
        "t_scores"
      ],
      "metadata": {
        "id": "IqBYPIkkPYKc"
      },
      "execution_count": null,
      "outputs": []
    },
    {
      "cell_type": "code",
      "source": [
        "import collections"
      ],
      "metadata": {
        "id": "25Uj_SAmRtQX"
      },
      "execution_count": 51,
      "outputs": []
    },
    {
      "cell_type": "code",
      "source": [
        "di_5 = {item: [] for item in li_5}\n",
        "\n",
        "for i in t_scores:\n",
        "    for j, el in enumerate(li_5):\n",
        "        words = []\n",
        "        if el in i[0] and len(di_5[el]) < 10:\n",
        "                di_5[el].append(' '.join(i[0]))\n",
        "\n",
        "df_final = pd.DataFrame(di_5)\n",
        "df_final"
      ],
      "metadata": {
        "colab": {
          "base_uri": "https://localhost:8080/",
          "height": 363
        },
        "id": "B1r7BNRk8WqJ",
        "outputId": "a13c374c-9502-4260-b62b-b39ccc0ee17e"
      },
      "execution_count": 76,
      "outputs": [
        {
          "output_type": "execute_result",
          "data": {
            "text/plain": [
              "              brush         butter              cleanser  \\\n",
              "0       brush brush    body butter         cleanser skin   \n",
              "1        hair brush     lip butter         skin cleanser   \n",
              "2   cleansing brush    butter nail         face cleanser   \n",
              "3      powder brush   butter color     cleanser cleanser   \n",
              "4      brush powder   color butter         cleanser face   \n",
              "5        brush hair     butter lip          oil cleanser   \n",
              "6         kit brush    butter hand  cleanser moisturizer   \n",
              "7         brush set  butter butter          gel cleanser   \n",
              "8          brush de     butter oil        cream cleanser   \n",
              "9  brush collection     oil butter         wash cleanser   \n",
              "\n",
              "               conditioner            cream  \n",
              "0      shampoo conditioner       hand cream  \n",
              "1         conditioner hair        eye cream  \n",
              "2      conditioner shampoo       face cream  \n",
              "3         hair conditioner       cream skin  \n",
              "4    cleansing conditioner       cream hand  \n",
              "5  conditioner conditioner       body cream  \n",
              "6    conditioner treatment      cream cream  \n",
              "7          conditioner oil     cream lotion  \n",
              "8         conditioner mask  cleansing cream  \n",
              "9         mask conditioner       cream face  "
            ],
            "text/html": [
              "\n",
              "  <div id=\"df-140365ee-fd24-466e-b5aa-bc81080cabf4\">\n",
              "    <div class=\"colab-df-container\">\n",
              "      <div>\n",
              "<style scoped>\n",
              "    .dataframe tbody tr th:only-of-type {\n",
              "        vertical-align: middle;\n",
              "    }\n",
              "\n",
              "    .dataframe tbody tr th {\n",
              "        vertical-align: top;\n",
              "    }\n",
              "\n",
              "    .dataframe thead th {\n",
              "        text-align: right;\n",
              "    }\n",
              "</style>\n",
              "<table border=\"1\" class=\"dataframe\">\n",
              "  <thead>\n",
              "    <tr style=\"text-align: right;\">\n",
              "      <th></th>\n",
              "      <th>brush</th>\n",
              "      <th>butter</th>\n",
              "      <th>cleanser</th>\n",
              "      <th>conditioner</th>\n",
              "      <th>cream</th>\n",
              "    </tr>\n",
              "  </thead>\n",
              "  <tbody>\n",
              "    <tr>\n",
              "      <th>0</th>\n",
              "      <td>brush brush</td>\n",
              "      <td>body butter</td>\n",
              "      <td>cleanser skin</td>\n",
              "      <td>shampoo conditioner</td>\n",
              "      <td>hand cream</td>\n",
              "    </tr>\n",
              "    <tr>\n",
              "      <th>1</th>\n",
              "      <td>hair brush</td>\n",
              "      <td>lip butter</td>\n",
              "      <td>skin cleanser</td>\n",
              "      <td>conditioner hair</td>\n",
              "      <td>eye cream</td>\n",
              "    </tr>\n",
              "    <tr>\n",
              "      <th>2</th>\n",
              "      <td>cleansing brush</td>\n",
              "      <td>butter nail</td>\n",
              "      <td>face cleanser</td>\n",
              "      <td>conditioner shampoo</td>\n",
              "      <td>face cream</td>\n",
              "    </tr>\n",
              "    <tr>\n",
              "      <th>3</th>\n",
              "      <td>powder brush</td>\n",
              "      <td>butter color</td>\n",
              "      <td>cleanser cleanser</td>\n",
              "      <td>hair conditioner</td>\n",
              "      <td>cream skin</td>\n",
              "    </tr>\n",
              "    <tr>\n",
              "      <th>4</th>\n",
              "      <td>brush powder</td>\n",
              "      <td>color butter</td>\n",
              "      <td>cleanser face</td>\n",
              "      <td>cleansing conditioner</td>\n",
              "      <td>cream hand</td>\n",
              "    </tr>\n",
              "    <tr>\n",
              "      <th>5</th>\n",
              "      <td>brush hair</td>\n",
              "      <td>butter lip</td>\n",
              "      <td>oil cleanser</td>\n",
              "      <td>conditioner conditioner</td>\n",
              "      <td>body cream</td>\n",
              "    </tr>\n",
              "    <tr>\n",
              "      <th>6</th>\n",
              "      <td>kit brush</td>\n",
              "      <td>butter hand</td>\n",
              "      <td>cleanser moisturizer</td>\n",
              "      <td>conditioner treatment</td>\n",
              "      <td>cream cream</td>\n",
              "    </tr>\n",
              "    <tr>\n",
              "      <th>7</th>\n",
              "      <td>brush set</td>\n",
              "      <td>butter butter</td>\n",
              "      <td>gel cleanser</td>\n",
              "      <td>conditioner oil</td>\n",
              "      <td>cream lotion</td>\n",
              "    </tr>\n",
              "    <tr>\n",
              "      <th>8</th>\n",
              "      <td>brush de</td>\n",
              "      <td>butter oil</td>\n",
              "      <td>cream cleanser</td>\n",
              "      <td>conditioner mask</td>\n",
              "      <td>cleansing cream</td>\n",
              "    </tr>\n",
              "    <tr>\n",
              "      <th>9</th>\n",
              "      <td>brush collection</td>\n",
              "      <td>oil butter</td>\n",
              "      <td>wash cleanser</td>\n",
              "      <td>mask conditioner</td>\n",
              "      <td>cream face</td>\n",
              "    </tr>\n",
              "  </tbody>\n",
              "</table>\n",
              "</div>\n",
              "      <button class=\"colab-df-convert\" onclick=\"convertToInteractive('df-140365ee-fd24-466e-b5aa-bc81080cabf4')\"\n",
              "              title=\"Convert this dataframe to an interactive table.\"\n",
              "              style=\"display:none;\">\n",
              "        \n",
              "  <svg xmlns=\"http://www.w3.org/2000/svg\" height=\"24px\"viewBox=\"0 0 24 24\"\n",
              "       width=\"24px\">\n",
              "    <path d=\"M0 0h24v24H0V0z\" fill=\"none\"/>\n",
              "    <path d=\"M18.56 5.44l.94 2.06.94-2.06 2.06-.94-2.06-.94-.94-2.06-.94 2.06-2.06.94zm-11 1L8.5 8.5l.94-2.06 2.06-.94-2.06-.94L8.5 2.5l-.94 2.06-2.06.94zm10 10l.94 2.06.94-2.06 2.06-.94-2.06-.94-.94-2.06-.94 2.06-2.06.94z\"/><path d=\"M17.41 7.96l-1.37-1.37c-.4-.4-.92-.59-1.43-.59-.52 0-1.04.2-1.43.59L10.3 9.45l-7.72 7.72c-.78.78-.78 2.05 0 2.83L4 21.41c.39.39.9.59 1.41.59.51 0 1.02-.2 1.41-.59l7.78-7.78 2.81-2.81c.8-.78.8-2.07 0-2.86zM5.41 20L4 18.59l7.72-7.72 1.47 1.35L5.41 20z\"/>\n",
              "  </svg>\n",
              "      </button>\n",
              "      \n",
              "  <style>\n",
              "    .colab-df-container {\n",
              "      display:flex;\n",
              "      flex-wrap:wrap;\n",
              "      gap: 12px;\n",
              "    }\n",
              "\n",
              "    .colab-df-convert {\n",
              "      background-color: #E8F0FE;\n",
              "      border: none;\n",
              "      border-radius: 50%;\n",
              "      cursor: pointer;\n",
              "      display: none;\n",
              "      fill: #1967D2;\n",
              "      height: 32px;\n",
              "      padding: 0 0 0 0;\n",
              "      width: 32px;\n",
              "    }\n",
              "\n",
              "    .colab-df-convert:hover {\n",
              "      background-color: #E2EBFA;\n",
              "      box-shadow: 0px 1px 2px rgba(60, 64, 67, 0.3), 0px 1px 3px 1px rgba(60, 64, 67, 0.15);\n",
              "      fill: #174EA6;\n",
              "    }\n",
              "\n",
              "    [theme=dark] .colab-df-convert {\n",
              "      background-color: #3B4455;\n",
              "      fill: #D2E3FC;\n",
              "    }\n",
              "\n",
              "    [theme=dark] .colab-df-convert:hover {\n",
              "      background-color: #434B5C;\n",
              "      box-shadow: 0px 1px 3px 1px rgba(0, 0, 0, 0.15);\n",
              "      filter: drop-shadow(0px 1px 2px rgba(0, 0, 0, 0.3));\n",
              "      fill: #FFFFFF;\n",
              "    }\n",
              "  </style>\n",
              "\n",
              "      <script>\n",
              "        const buttonEl =\n",
              "          document.querySelector('#df-140365ee-fd24-466e-b5aa-bc81080cabf4 button.colab-df-convert');\n",
              "        buttonEl.style.display =\n",
              "          google.colab.kernel.accessAllowed ? 'block' : 'none';\n",
              "\n",
              "        async function convertToInteractive(key) {\n",
              "          const element = document.querySelector('#df-140365ee-fd24-466e-b5aa-bc81080cabf4');\n",
              "          const dataTable =\n",
              "            await google.colab.kernel.invokeFunction('convertToInteractive',\n",
              "                                                     [key], {});\n",
              "          if (!dataTable) return;\n",
              "\n",
              "          const docLinkHtml = 'Like what you see? Visit the ' +\n",
              "            '<a target=\"_blank\" href=https://colab.research.google.com/notebooks/data_table.ipynb>data table notebook</a>'\n",
              "            + ' to learn more about interactive tables.';\n",
              "          element.innerHTML = '';\n",
              "          dataTable['output_type'] = 'display_data';\n",
              "          await google.colab.output.renderOutput(dataTable, element);\n",
              "          const docLink = document.createElement('div');\n",
              "          docLink.innerHTML = docLinkHtml;\n",
              "          element.appendChild(docLink);\n",
              "        }\n",
              "      </script>\n",
              "    </div>\n",
              "  </div>\n",
              "  "
            ]
          },
          "metadata": {},
          "execution_count": 76
        }
      ]
    }
  ],
  "metadata": {
    "colab": {
      "provenance": []
    },
    "gpuClass": "standard",
    "kernelspec": {
      "display_name": "Python 3",
      "name": "python3"
    },
    "language_info": {
      "name": "python"
    },
    "widgets": {
      "application/vnd.jupyter.widget-state+json": {
        "7baba8ceb8ff4626a4808edabe753dc5": {
          "model_module": "@jupyter-widgets/controls",
          "model_name": "HBoxModel",
          "model_module_version": "1.5.0",
          "state": {
            "_dom_classes": [],
            "_model_module": "@jupyter-widgets/controls",
            "_model_module_version": "1.5.0",
            "_model_name": "HBoxModel",
            "_view_count": null,
            "_view_module": "@jupyter-widgets/controls",
            "_view_module_version": "1.5.0",
            "_view_name": "HBoxView",
            "box_style": "",
            "children": [
              "IPY_MODEL_a0187360d3824730a75ad92eeef9eb57",
              "IPY_MODEL_8891ced4a27f4f158d0f397de55bd7c4",
              "IPY_MODEL_a6eeec7c28ff4e66bad1bab596b156d3"
            ],
            "layout": "IPY_MODEL_2e7a5b8645cd43cf87e9cd8a1adde329"
          }
        },
        "a0187360d3824730a75ad92eeef9eb57": {
          "model_module": "@jupyter-widgets/controls",
          "model_name": "HTMLModel",
          "model_module_version": "1.5.0",
          "state": {
            "_dom_classes": [],
            "_model_module": "@jupyter-widgets/controls",
            "_model_module_version": "1.5.0",
            "_model_name": "HTMLModel",
            "_view_count": null,
            "_view_module": "@jupyter-widgets/controls",
            "_view_module_version": "1.5.0",
            "_view_name": "HTMLView",
            "description": "",
            "description_tooltip": null,
            "layout": "IPY_MODEL_2619a906cdb440fa96f77d7c8e1405aa",
            "placeholder": "​",
            "style": "IPY_MODEL_42b2e75f4cce41fba268cd33523ab298",
            "value": "100%"
          }
        },
        "8891ced4a27f4f158d0f397de55bd7c4": {
          "model_module": "@jupyter-widgets/controls",
          "model_name": "FloatProgressModel",
          "model_module_version": "1.5.0",
          "state": {
            "_dom_classes": [],
            "_model_module": "@jupyter-widgets/controls",
            "_model_module_version": "1.5.0",
            "_model_name": "FloatProgressModel",
            "_view_count": null,
            "_view_module": "@jupyter-widgets/controls",
            "_view_module_version": "1.5.0",
            "_view_name": "ProgressView",
            "bar_style": "success",
            "description": "",
            "description_tooltip": null,
            "layout": "IPY_MODEL_563c9dfd102042d0816f21890f9e1e89",
            "max": 574628,
            "min": 0,
            "orientation": "horizontal",
            "style": "IPY_MODEL_b606c622e515412b95823b8aef6807be",
            "value": 574628
          }
        },
        "a6eeec7c28ff4e66bad1bab596b156d3": {
          "model_module": "@jupyter-widgets/controls",
          "model_name": "HTMLModel",
          "model_module_version": "1.5.0",
          "state": {
            "_dom_classes": [],
            "_model_module": "@jupyter-widgets/controls",
            "_model_module_version": "1.5.0",
            "_model_name": "HTMLModel",
            "_view_count": null,
            "_view_module": "@jupyter-widgets/controls",
            "_view_module_version": "1.5.0",
            "_view_name": "HTMLView",
            "description": "",
            "description_tooltip": null,
            "layout": "IPY_MODEL_7d56e37d2a284c7f93e5aab74209a409",
            "placeholder": "​",
            "style": "IPY_MODEL_6c7d3f0393a840c2b5cd472a43fb62db",
            "value": " 574628/574628 [01:29&lt;00:00, 1441.15it/s]"
          }
        },
        "2e7a5b8645cd43cf87e9cd8a1adde329": {
          "model_module": "@jupyter-widgets/base",
          "model_name": "LayoutModel",
          "model_module_version": "1.2.0",
          "state": {
            "_model_module": "@jupyter-widgets/base",
            "_model_module_version": "1.2.0",
            "_model_name": "LayoutModel",
            "_view_count": null,
            "_view_module": "@jupyter-widgets/base",
            "_view_module_version": "1.2.0",
            "_view_name": "LayoutView",
            "align_content": null,
            "align_items": null,
            "align_self": null,
            "border": null,
            "bottom": null,
            "display": null,
            "flex": null,
            "flex_flow": null,
            "grid_area": null,
            "grid_auto_columns": null,
            "grid_auto_flow": null,
            "grid_auto_rows": null,
            "grid_column": null,
            "grid_gap": null,
            "grid_row": null,
            "grid_template_areas": null,
            "grid_template_columns": null,
            "grid_template_rows": null,
            "height": null,
            "justify_content": null,
            "justify_items": null,
            "left": null,
            "margin": null,
            "max_height": null,
            "max_width": null,
            "min_height": null,
            "min_width": null,
            "object_fit": null,
            "object_position": null,
            "order": null,
            "overflow": null,
            "overflow_x": null,
            "overflow_y": null,
            "padding": null,
            "right": null,
            "top": null,
            "visibility": null,
            "width": null
          }
        },
        "2619a906cdb440fa96f77d7c8e1405aa": {
          "model_module": "@jupyter-widgets/base",
          "model_name": "LayoutModel",
          "model_module_version": "1.2.0",
          "state": {
            "_model_module": "@jupyter-widgets/base",
            "_model_module_version": "1.2.0",
            "_model_name": "LayoutModel",
            "_view_count": null,
            "_view_module": "@jupyter-widgets/base",
            "_view_module_version": "1.2.0",
            "_view_name": "LayoutView",
            "align_content": null,
            "align_items": null,
            "align_self": null,
            "border": null,
            "bottom": null,
            "display": null,
            "flex": null,
            "flex_flow": null,
            "grid_area": null,
            "grid_auto_columns": null,
            "grid_auto_flow": null,
            "grid_auto_rows": null,
            "grid_column": null,
            "grid_gap": null,
            "grid_row": null,
            "grid_template_areas": null,
            "grid_template_columns": null,
            "grid_template_rows": null,
            "height": null,
            "justify_content": null,
            "justify_items": null,
            "left": null,
            "margin": null,
            "max_height": null,
            "max_width": null,
            "min_height": null,
            "min_width": null,
            "object_fit": null,
            "object_position": null,
            "order": null,
            "overflow": null,
            "overflow_x": null,
            "overflow_y": null,
            "padding": null,
            "right": null,
            "top": null,
            "visibility": null,
            "width": null
          }
        },
        "42b2e75f4cce41fba268cd33523ab298": {
          "model_module": "@jupyter-widgets/controls",
          "model_name": "DescriptionStyleModel",
          "model_module_version": "1.5.0",
          "state": {
            "_model_module": "@jupyter-widgets/controls",
            "_model_module_version": "1.5.0",
            "_model_name": "DescriptionStyleModel",
            "_view_count": null,
            "_view_module": "@jupyter-widgets/base",
            "_view_module_version": "1.2.0",
            "_view_name": "StyleView",
            "description_width": ""
          }
        },
        "563c9dfd102042d0816f21890f9e1e89": {
          "model_module": "@jupyter-widgets/base",
          "model_name": "LayoutModel",
          "model_module_version": "1.2.0",
          "state": {
            "_model_module": "@jupyter-widgets/base",
            "_model_module_version": "1.2.0",
            "_model_name": "LayoutModel",
            "_view_count": null,
            "_view_module": "@jupyter-widgets/base",
            "_view_module_version": "1.2.0",
            "_view_name": "LayoutView",
            "align_content": null,
            "align_items": null,
            "align_self": null,
            "border": null,
            "bottom": null,
            "display": null,
            "flex": null,
            "flex_flow": null,
            "grid_area": null,
            "grid_auto_columns": null,
            "grid_auto_flow": null,
            "grid_auto_rows": null,
            "grid_column": null,
            "grid_gap": null,
            "grid_row": null,
            "grid_template_areas": null,
            "grid_template_columns": null,
            "grid_template_rows": null,
            "height": null,
            "justify_content": null,
            "justify_items": null,
            "left": null,
            "margin": null,
            "max_height": null,
            "max_width": null,
            "min_height": null,
            "min_width": null,
            "object_fit": null,
            "object_position": null,
            "order": null,
            "overflow": null,
            "overflow_x": null,
            "overflow_y": null,
            "padding": null,
            "right": null,
            "top": null,
            "visibility": null,
            "width": null
          }
        },
        "b606c622e515412b95823b8aef6807be": {
          "model_module": "@jupyter-widgets/controls",
          "model_name": "ProgressStyleModel",
          "model_module_version": "1.5.0",
          "state": {
            "_model_module": "@jupyter-widgets/controls",
            "_model_module_version": "1.5.0",
            "_model_name": "ProgressStyleModel",
            "_view_count": null,
            "_view_module": "@jupyter-widgets/base",
            "_view_module_version": "1.2.0",
            "_view_name": "StyleView",
            "bar_color": null,
            "description_width": ""
          }
        },
        "7d56e37d2a284c7f93e5aab74209a409": {
          "model_module": "@jupyter-widgets/base",
          "model_name": "LayoutModel",
          "model_module_version": "1.2.0",
          "state": {
            "_model_module": "@jupyter-widgets/base",
            "_model_module_version": "1.2.0",
            "_model_name": "LayoutModel",
            "_view_count": null,
            "_view_module": "@jupyter-widgets/base",
            "_view_module_version": "1.2.0",
            "_view_name": "LayoutView",
            "align_content": null,
            "align_items": null,
            "align_self": null,
            "border": null,
            "bottom": null,
            "display": null,
            "flex": null,
            "flex_flow": null,
            "grid_area": null,
            "grid_auto_columns": null,
            "grid_auto_flow": null,
            "grid_auto_rows": null,
            "grid_column": null,
            "grid_gap": null,
            "grid_row": null,
            "grid_template_areas": null,
            "grid_template_columns": null,
            "grid_template_rows": null,
            "height": null,
            "justify_content": null,
            "justify_items": null,
            "left": null,
            "margin": null,
            "max_height": null,
            "max_width": null,
            "min_height": null,
            "min_width": null,
            "object_fit": null,
            "object_position": null,
            "order": null,
            "overflow": null,
            "overflow_x": null,
            "overflow_y": null,
            "padding": null,
            "right": null,
            "top": null,
            "visibility": null,
            "width": null
          }
        },
        "6c7d3f0393a840c2b5cd472a43fb62db": {
          "model_module": "@jupyter-widgets/controls",
          "model_name": "DescriptionStyleModel",
          "model_module_version": "1.5.0",
          "state": {
            "_model_module": "@jupyter-widgets/controls",
            "_model_module_version": "1.5.0",
            "_model_name": "DescriptionStyleModel",
            "_view_count": null,
            "_view_module": "@jupyter-widgets/base",
            "_view_module_version": "1.2.0",
            "_view_name": "StyleView",
            "description_width": ""
          }
        },
        "66aae0650b7f409e94b9ddbca1619725": {
          "model_module": "@jupyter-widgets/controls",
          "model_name": "HBoxModel",
          "model_module_version": "1.5.0",
          "state": {
            "_dom_classes": [],
            "_model_module": "@jupyter-widgets/controls",
            "_model_module_version": "1.5.0",
            "_model_name": "HBoxModel",
            "_view_count": null,
            "_view_module": "@jupyter-widgets/controls",
            "_view_module_version": "1.5.0",
            "_view_name": "HBoxView",
            "box_style": "",
            "children": [
              "IPY_MODEL_aa4c7358ed0d4a95abe72df808d36c70",
              "IPY_MODEL_ad2cf186ddfe4ddf8bce57d9a9681a99",
              "IPY_MODEL_33f76edd501a4d43862c27a68623f027"
            ],
            "layout": "IPY_MODEL_7b4e6136d51e4119856d4982807cbc94"
          }
        },
        "aa4c7358ed0d4a95abe72df808d36c70": {
          "model_module": "@jupyter-widgets/controls",
          "model_name": "HTMLModel",
          "model_module_version": "1.5.0",
          "state": {
            "_dom_classes": [],
            "_model_module": "@jupyter-widgets/controls",
            "_model_module_version": "1.5.0",
            "_model_name": "HTMLModel",
            "_view_count": null,
            "_view_module": "@jupyter-widgets/controls",
            "_view_module_version": "1.5.0",
            "_view_name": "HTMLView",
            "description": "",
            "description_tooltip": null,
            "layout": "IPY_MODEL_555fae6386ff45168b1eb4e5ddb27752",
            "placeholder": "​",
            "style": "IPY_MODEL_0e5f477ae7304293a8ca10ab05a53a60",
            "value": "100%"
          }
        },
        "ad2cf186ddfe4ddf8bce57d9a9681a99": {
          "model_module": "@jupyter-widgets/controls",
          "model_name": "FloatProgressModel",
          "model_module_version": "1.5.0",
          "state": {
            "_dom_classes": [],
            "_model_module": "@jupyter-widgets/controls",
            "_model_module_version": "1.5.0",
            "_model_name": "FloatProgressModel",
            "_view_count": null,
            "_view_module": "@jupyter-widgets/controls",
            "_view_module_version": "1.5.0",
            "_view_name": "ProgressView",
            "bar_style": "success",
            "description": "",
            "description_tooltip": null,
            "layout": "IPY_MODEL_e75b35008eab4f5ebcfb24d77158d0bb",
            "max": 12120,
            "min": 0,
            "orientation": "horizontal",
            "style": "IPY_MODEL_2c744935d7c14614a98954a305bbb8c7",
            "value": 12120
          }
        },
        "33f76edd501a4d43862c27a68623f027": {
          "model_module": "@jupyter-widgets/controls",
          "model_name": "HTMLModel",
          "model_module_version": "1.5.0",
          "state": {
            "_dom_classes": [],
            "_model_module": "@jupyter-widgets/controls",
            "_model_module_version": "1.5.0",
            "_model_name": "HTMLModel",
            "_view_count": null,
            "_view_module": "@jupyter-widgets/controls",
            "_view_module_version": "1.5.0",
            "_view_name": "HTMLView",
            "description": "",
            "description_tooltip": null,
            "layout": "IPY_MODEL_714f3962021949faa7e35b3bfb55bba9",
            "placeholder": "​",
            "style": "IPY_MODEL_d7b3f74885264e18a189352d4576281e",
            "value": " 12120/12120 [39:28&lt;00:00, 21.28it/s]"
          }
        },
        "7b4e6136d51e4119856d4982807cbc94": {
          "model_module": "@jupyter-widgets/base",
          "model_name": "LayoutModel",
          "model_module_version": "1.2.0",
          "state": {
            "_model_module": "@jupyter-widgets/base",
            "_model_module_version": "1.2.0",
            "_model_name": "LayoutModel",
            "_view_count": null,
            "_view_module": "@jupyter-widgets/base",
            "_view_module_version": "1.2.0",
            "_view_name": "LayoutView",
            "align_content": null,
            "align_items": null,
            "align_self": null,
            "border": null,
            "bottom": null,
            "display": null,
            "flex": null,
            "flex_flow": null,
            "grid_area": null,
            "grid_auto_columns": null,
            "grid_auto_flow": null,
            "grid_auto_rows": null,
            "grid_column": null,
            "grid_gap": null,
            "grid_row": null,
            "grid_template_areas": null,
            "grid_template_columns": null,
            "grid_template_rows": null,
            "height": null,
            "justify_content": null,
            "justify_items": null,
            "left": null,
            "margin": null,
            "max_height": null,
            "max_width": null,
            "min_height": null,
            "min_width": null,
            "object_fit": null,
            "object_position": null,
            "order": null,
            "overflow": null,
            "overflow_x": null,
            "overflow_y": null,
            "padding": null,
            "right": null,
            "top": null,
            "visibility": null,
            "width": null
          }
        },
        "555fae6386ff45168b1eb4e5ddb27752": {
          "model_module": "@jupyter-widgets/base",
          "model_name": "LayoutModel",
          "model_module_version": "1.2.0",
          "state": {
            "_model_module": "@jupyter-widgets/base",
            "_model_module_version": "1.2.0",
            "_model_name": "LayoutModel",
            "_view_count": null,
            "_view_module": "@jupyter-widgets/base",
            "_view_module_version": "1.2.0",
            "_view_name": "LayoutView",
            "align_content": null,
            "align_items": null,
            "align_self": null,
            "border": null,
            "bottom": null,
            "display": null,
            "flex": null,
            "flex_flow": null,
            "grid_area": null,
            "grid_auto_columns": null,
            "grid_auto_flow": null,
            "grid_auto_rows": null,
            "grid_column": null,
            "grid_gap": null,
            "grid_row": null,
            "grid_template_areas": null,
            "grid_template_columns": null,
            "grid_template_rows": null,
            "height": null,
            "justify_content": null,
            "justify_items": null,
            "left": null,
            "margin": null,
            "max_height": null,
            "max_width": null,
            "min_height": null,
            "min_width": null,
            "object_fit": null,
            "object_position": null,
            "order": null,
            "overflow": null,
            "overflow_x": null,
            "overflow_y": null,
            "padding": null,
            "right": null,
            "top": null,
            "visibility": null,
            "width": null
          }
        },
        "0e5f477ae7304293a8ca10ab05a53a60": {
          "model_module": "@jupyter-widgets/controls",
          "model_name": "DescriptionStyleModel",
          "model_module_version": "1.5.0",
          "state": {
            "_model_module": "@jupyter-widgets/controls",
            "_model_module_version": "1.5.0",
            "_model_name": "DescriptionStyleModel",
            "_view_count": null,
            "_view_module": "@jupyter-widgets/base",
            "_view_module_version": "1.2.0",
            "_view_name": "StyleView",
            "description_width": ""
          }
        },
        "e75b35008eab4f5ebcfb24d77158d0bb": {
          "model_module": "@jupyter-widgets/base",
          "model_name": "LayoutModel",
          "model_module_version": "1.2.0",
          "state": {
            "_model_module": "@jupyter-widgets/base",
            "_model_module_version": "1.2.0",
            "_model_name": "LayoutModel",
            "_view_count": null,
            "_view_module": "@jupyter-widgets/base",
            "_view_module_version": "1.2.0",
            "_view_name": "LayoutView",
            "align_content": null,
            "align_items": null,
            "align_self": null,
            "border": null,
            "bottom": null,
            "display": null,
            "flex": null,
            "flex_flow": null,
            "grid_area": null,
            "grid_auto_columns": null,
            "grid_auto_flow": null,
            "grid_auto_rows": null,
            "grid_column": null,
            "grid_gap": null,
            "grid_row": null,
            "grid_template_areas": null,
            "grid_template_columns": null,
            "grid_template_rows": null,
            "height": null,
            "justify_content": null,
            "justify_items": null,
            "left": null,
            "margin": null,
            "max_height": null,
            "max_width": null,
            "min_height": null,
            "min_width": null,
            "object_fit": null,
            "object_position": null,
            "order": null,
            "overflow": null,
            "overflow_x": null,
            "overflow_y": null,
            "padding": null,
            "right": null,
            "top": null,
            "visibility": null,
            "width": null
          }
        },
        "2c744935d7c14614a98954a305bbb8c7": {
          "model_module": "@jupyter-widgets/controls",
          "model_name": "ProgressStyleModel",
          "model_module_version": "1.5.0",
          "state": {
            "_model_module": "@jupyter-widgets/controls",
            "_model_module_version": "1.5.0",
            "_model_name": "ProgressStyleModel",
            "_view_count": null,
            "_view_module": "@jupyter-widgets/base",
            "_view_module_version": "1.2.0",
            "_view_name": "StyleView",
            "bar_color": null,
            "description_width": ""
          }
        },
        "714f3962021949faa7e35b3bfb55bba9": {
          "model_module": "@jupyter-widgets/base",
          "model_name": "LayoutModel",
          "model_module_version": "1.2.0",
          "state": {
            "_model_module": "@jupyter-widgets/base",
            "_model_module_version": "1.2.0",
            "_model_name": "LayoutModel",
            "_view_count": null,
            "_view_module": "@jupyter-widgets/base",
            "_view_module_version": "1.2.0",
            "_view_name": "LayoutView",
            "align_content": null,
            "align_items": null,
            "align_self": null,
            "border": null,
            "bottom": null,
            "display": null,
            "flex": null,
            "flex_flow": null,
            "grid_area": null,
            "grid_auto_columns": null,
            "grid_auto_flow": null,
            "grid_auto_rows": null,
            "grid_column": null,
            "grid_gap": null,
            "grid_row": null,
            "grid_template_areas": null,
            "grid_template_columns": null,
            "grid_template_rows": null,
            "height": null,
            "justify_content": null,
            "justify_items": null,
            "left": null,
            "margin": null,
            "max_height": null,
            "max_width": null,
            "min_height": null,
            "min_width": null,
            "object_fit": null,
            "object_position": null,
            "order": null,
            "overflow": null,
            "overflow_x": null,
            "overflow_y": null,
            "padding": null,
            "right": null,
            "top": null,
            "visibility": null,
            "width": null
          }
        },
        "d7b3f74885264e18a189352d4576281e": {
          "model_module": "@jupyter-widgets/controls",
          "model_name": "DescriptionStyleModel",
          "model_module_version": "1.5.0",
          "state": {
            "_model_module": "@jupyter-widgets/controls",
            "_model_module_version": "1.5.0",
            "_model_name": "DescriptionStyleModel",
            "_view_count": null,
            "_view_module": "@jupyter-widgets/base",
            "_view_module_version": "1.2.0",
            "_view_name": "StyleView",
            "description_width": ""
          }
        },
        "24c6d5fa06bf4751b977fcdde9d439a4": {
          "model_module": "@jupyter-widgets/controls",
          "model_name": "HBoxModel",
          "model_module_version": "1.5.0",
          "state": {
            "_dom_classes": [],
            "_model_module": "@jupyter-widgets/controls",
            "_model_module_version": "1.5.0",
            "_model_name": "HBoxModel",
            "_view_count": null,
            "_view_module": "@jupyter-widgets/controls",
            "_view_module_version": "1.5.0",
            "_view_name": "HBoxView",
            "box_style": "",
            "children": [
              "IPY_MODEL_6f37213ba40248339c9ec526d40e727e",
              "IPY_MODEL_47aa4663930045e1800cd4e8b45ab7d0",
              "IPY_MODEL_19b98d2ea2364f71ad25989e5ce5c7d2"
            ],
            "layout": "IPY_MODEL_8ca81c54b6be4740a8adc368e5d6a41f"
          }
        },
        "6f37213ba40248339c9ec526d40e727e": {
          "model_module": "@jupyter-widgets/controls",
          "model_name": "HTMLModel",
          "model_module_version": "1.5.0",
          "state": {
            "_dom_classes": [],
            "_model_module": "@jupyter-widgets/controls",
            "_model_module_version": "1.5.0",
            "_model_name": "HTMLModel",
            "_view_count": null,
            "_view_module": "@jupyter-widgets/controls",
            "_view_module_version": "1.5.0",
            "_view_name": "HTMLView",
            "description": "",
            "description_tooltip": null,
            "layout": "IPY_MODEL_1e263ce3f4a04323a4fa612a77d1f853",
            "placeholder": "​",
            "style": "IPY_MODEL_79d96a47bbcf43108a9fabbf1482d59a",
            "value": "100%"
          }
        },
        "47aa4663930045e1800cd4e8b45ab7d0": {
          "model_module": "@jupyter-widgets/controls",
          "model_name": "FloatProgressModel",
          "model_module_version": "1.5.0",
          "state": {
            "_dom_classes": [],
            "_model_module": "@jupyter-widgets/controls",
            "_model_module_version": "1.5.0",
            "_model_name": "FloatProgressModel",
            "_view_count": null,
            "_view_module": "@jupyter-widgets/controls",
            "_view_module_version": "1.5.0",
            "_view_name": "ProgressView",
            "bar_style": "success",
            "description": "",
            "description_tooltip": null,
            "layout": "IPY_MODEL_0496c7932b2a43b09a72bb9e53e13034",
            "max": 12299,
            "min": 0,
            "orientation": "horizontal",
            "style": "IPY_MODEL_39b576e96da84ff885e2d16994d4166f",
            "value": 12299
          }
        },
        "19b98d2ea2364f71ad25989e5ce5c7d2": {
          "model_module": "@jupyter-widgets/controls",
          "model_name": "HTMLModel",
          "model_module_version": "1.5.0",
          "state": {
            "_dom_classes": [],
            "_model_module": "@jupyter-widgets/controls",
            "_model_module_version": "1.5.0",
            "_model_name": "HTMLModel",
            "_view_count": null,
            "_view_module": "@jupyter-widgets/controls",
            "_view_module_version": "1.5.0",
            "_view_name": "HTMLView",
            "description": "",
            "description_tooltip": null,
            "layout": "IPY_MODEL_cb19f9f8fb434a578a51c111ddc30d62",
            "placeholder": "​",
            "style": "IPY_MODEL_8737277df2714b0bbad4a8cfaee25d43",
            "value": " 12299/12299 [17:26&lt;00:00,  9.97it/s]"
          }
        },
        "8ca81c54b6be4740a8adc368e5d6a41f": {
          "model_module": "@jupyter-widgets/base",
          "model_name": "LayoutModel",
          "model_module_version": "1.2.0",
          "state": {
            "_model_module": "@jupyter-widgets/base",
            "_model_module_version": "1.2.0",
            "_model_name": "LayoutModel",
            "_view_count": null,
            "_view_module": "@jupyter-widgets/base",
            "_view_module_version": "1.2.0",
            "_view_name": "LayoutView",
            "align_content": null,
            "align_items": null,
            "align_self": null,
            "border": null,
            "bottom": null,
            "display": null,
            "flex": null,
            "flex_flow": null,
            "grid_area": null,
            "grid_auto_columns": null,
            "grid_auto_flow": null,
            "grid_auto_rows": null,
            "grid_column": null,
            "grid_gap": null,
            "grid_row": null,
            "grid_template_areas": null,
            "grid_template_columns": null,
            "grid_template_rows": null,
            "height": null,
            "justify_content": null,
            "justify_items": null,
            "left": null,
            "margin": null,
            "max_height": null,
            "max_width": null,
            "min_height": null,
            "min_width": null,
            "object_fit": null,
            "object_position": null,
            "order": null,
            "overflow": null,
            "overflow_x": null,
            "overflow_y": null,
            "padding": null,
            "right": null,
            "top": null,
            "visibility": null,
            "width": null
          }
        },
        "1e263ce3f4a04323a4fa612a77d1f853": {
          "model_module": "@jupyter-widgets/base",
          "model_name": "LayoutModel",
          "model_module_version": "1.2.0",
          "state": {
            "_model_module": "@jupyter-widgets/base",
            "_model_module_version": "1.2.0",
            "_model_name": "LayoutModel",
            "_view_count": null,
            "_view_module": "@jupyter-widgets/base",
            "_view_module_version": "1.2.0",
            "_view_name": "LayoutView",
            "align_content": null,
            "align_items": null,
            "align_self": null,
            "border": null,
            "bottom": null,
            "display": null,
            "flex": null,
            "flex_flow": null,
            "grid_area": null,
            "grid_auto_columns": null,
            "grid_auto_flow": null,
            "grid_auto_rows": null,
            "grid_column": null,
            "grid_gap": null,
            "grid_row": null,
            "grid_template_areas": null,
            "grid_template_columns": null,
            "grid_template_rows": null,
            "height": null,
            "justify_content": null,
            "justify_items": null,
            "left": null,
            "margin": null,
            "max_height": null,
            "max_width": null,
            "min_height": null,
            "min_width": null,
            "object_fit": null,
            "object_position": null,
            "order": null,
            "overflow": null,
            "overflow_x": null,
            "overflow_y": null,
            "padding": null,
            "right": null,
            "top": null,
            "visibility": null,
            "width": null
          }
        },
        "79d96a47bbcf43108a9fabbf1482d59a": {
          "model_module": "@jupyter-widgets/controls",
          "model_name": "DescriptionStyleModel",
          "model_module_version": "1.5.0",
          "state": {
            "_model_module": "@jupyter-widgets/controls",
            "_model_module_version": "1.5.0",
            "_model_name": "DescriptionStyleModel",
            "_view_count": null,
            "_view_module": "@jupyter-widgets/base",
            "_view_module_version": "1.2.0",
            "_view_name": "StyleView",
            "description_width": ""
          }
        },
        "0496c7932b2a43b09a72bb9e53e13034": {
          "model_module": "@jupyter-widgets/base",
          "model_name": "LayoutModel",
          "model_module_version": "1.2.0",
          "state": {
            "_model_module": "@jupyter-widgets/base",
            "_model_module_version": "1.2.0",
            "_model_name": "LayoutModel",
            "_view_count": null,
            "_view_module": "@jupyter-widgets/base",
            "_view_module_version": "1.2.0",
            "_view_name": "LayoutView",
            "align_content": null,
            "align_items": null,
            "align_self": null,
            "border": null,
            "bottom": null,
            "display": null,
            "flex": null,
            "flex_flow": null,
            "grid_area": null,
            "grid_auto_columns": null,
            "grid_auto_flow": null,
            "grid_auto_rows": null,
            "grid_column": null,
            "grid_gap": null,
            "grid_row": null,
            "grid_template_areas": null,
            "grid_template_columns": null,
            "grid_template_rows": null,
            "height": null,
            "justify_content": null,
            "justify_items": null,
            "left": null,
            "margin": null,
            "max_height": null,
            "max_width": null,
            "min_height": null,
            "min_width": null,
            "object_fit": null,
            "object_position": null,
            "order": null,
            "overflow": null,
            "overflow_x": null,
            "overflow_y": null,
            "padding": null,
            "right": null,
            "top": null,
            "visibility": null,
            "width": null
          }
        },
        "39b576e96da84ff885e2d16994d4166f": {
          "model_module": "@jupyter-widgets/controls",
          "model_name": "ProgressStyleModel",
          "model_module_version": "1.5.0",
          "state": {
            "_model_module": "@jupyter-widgets/controls",
            "_model_module_version": "1.5.0",
            "_model_name": "ProgressStyleModel",
            "_view_count": null,
            "_view_module": "@jupyter-widgets/base",
            "_view_module_version": "1.2.0",
            "_view_name": "StyleView",
            "bar_color": null,
            "description_width": ""
          }
        },
        "cb19f9f8fb434a578a51c111ddc30d62": {
          "model_module": "@jupyter-widgets/base",
          "model_name": "LayoutModel",
          "model_module_version": "1.2.0",
          "state": {
            "_model_module": "@jupyter-widgets/base",
            "_model_module_version": "1.2.0",
            "_model_name": "LayoutModel",
            "_view_count": null,
            "_view_module": "@jupyter-widgets/base",
            "_view_module_version": "1.2.0",
            "_view_name": "LayoutView",
            "align_content": null,
            "align_items": null,
            "align_self": null,
            "border": null,
            "bottom": null,
            "display": null,
            "flex": null,
            "flex_flow": null,
            "grid_area": null,
            "grid_auto_columns": null,
            "grid_auto_flow": null,
            "grid_auto_rows": null,
            "grid_column": null,
            "grid_gap": null,
            "grid_row": null,
            "grid_template_areas": null,
            "grid_template_columns": null,
            "grid_template_rows": null,
            "height": null,
            "justify_content": null,
            "justify_items": null,
            "left": null,
            "margin": null,
            "max_height": null,
            "max_width": null,
            "min_height": null,
            "min_width": null,
            "object_fit": null,
            "object_position": null,
            "order": null,
            "overflow": null,
            "overflow_x": null,
            "overflow_y": null,
            "padding": null,
            "right": null,
            "top": null,
            "visibility": null,
            "width": null
          }
        },
        "8737277df2714b0bbad4a8cfaee25d43": {
          "model_module": "@jupyter-widgets/controls",
          "model_name": "DescriptionStyleModel",
          "model_module_version": "1.5.0",
          "state": {
            "_model_module": "@jupyter-widgets/controls",
            "_model_module_version": "1.5.0",
            "_model_name": "DescriptionStyleModel",
            "_view_count": null,
            "_view_module": "@jupyter-widgets/base",
            "_view_module_version": "1.2.0",
            "_view_name": "StyleView",
            "description_width": ""
          }
        },
        "2ad99a061e5047eaaa574b857b957044": {
          "model_module": "@jupyter-widgets/controls",
          "model_name": "HBoxModel",
          "model_module_version": "1.5.0",
          "state": {
            "_dom_classes": [],
            "_model_module": "@jupyter-widgets/controls",
            "_model_module_version": "1.5.0",
            "_model_name": "HBoxModel",
            "_view_count": null,
            "_view_module": "@jupyter-widgets/controls",
            "_view_module_version": "1.5.0",
            "_view_name": "HBoxView",
            "box_style": "",
            "children": [
              "IPY_MODEL_720d40f79fab4c5db259147b6b1b2743",
              "IPY_MODEL_ad77937932874f1e90baab9a930c67e0",
              "IPY_MODEL_5f3ef4c89736444497bd6124f6798756"
            ],
            "layout": "IPY_MODEL_733a48f5f53147a1801a2e59675f52fd"
          }
        },
        "720d40f79fab4c5db259147b6b1b2743": {
          "model_module": "@jupyter-widgets/controls",
          "model_name": "HTMLModel",
          "model_module_version": "1.5.0",
          "state": {
            "_dom_classes": [],
            "_model_module": "@jupyter-widgets/controls",
            "_model_module_version": "1.5.0",
            "_model_name": "HTMLModel",
            "_view_count": null,
            "_view_module": "@jupyter-widgets/controls",
            "_view_module_version": "1.5.0",
            "_view_name": "HTMLView",
            "description": "",
            "description_tooltip": null,
            "layout": "IPY_MODEL_88bcb2627630493583c2532d4ac966ec",
            "placeholder": "​",
            "style": "IPY_MODEL_12ac5266e93546feb9c0f0802260eed1",
            "value": "100%"
          }
        },
        "ad77937932874f1e90baab9a930c67e0": {
          "model_module": "@jupyter-widgets/controls",
          "model_name": "FloatProgressModel",
          "model_module_version": "1.5.0",
          "state": {
            "_dom_classes": [],
            "_model_module": "@jupyter-widgets/controls",
            "_model_module_version": "1.5.0",
            "_model_name": "FloatProgressModel",
            "_view_count": null,
            "_view_module": "@jupyter-widgets/controls",
            "_view_module_version": "1.5.0",
            "_view_name": "ProgressView",
            "bar_style": "success",
            "description": "",
            "description_tooltip": null,
            "layout": "IPY_MODEL_3ed28d71e89f49fdbb1f139b116af9a7",
            "max": 574628,
            "min": 0,
            "orientation": "horizontal",
            "style": "IPY_MODEL_5839c215c1f24ead9d0e6ad10fa13e76",
            "value": 574628
          }
        },
        "5f3ef4c89736444497bd6124f6798756": {
          "model_module": "@jupyter-widgets/controls",
          "model_name": "HTMLModel",
          "model_module_version": "1.5.0",
          "state": {
            "_dom_classes": [],
            "_model_module": "@jupyter-widgets/controls",
            "_model_module_version": "1.5.0",
            "_model_name": "HTMLModel",
            "_view_count": null,
            "_view_module": "@jupyter-widgets/controls",
            "_view_module_version": "1.5.0",
            "_view_name": "HTMLView",
            "description": "",
            "description_tooltip": null,
            "layout": "IPY_MODEL_11165f61a7b94201bf7480e2ea7cc717",
            "placeholder": "​",
            "style": "IPY_MODEL_e6e79fa1fb05474a9a0b5bde67a7a342",
            "value": " 574628/574628 [1:31:41&lt;00:00, 132.56it/s]"
          }
        },
        "733a48f5f53147a1801a2e59675f52fd": {
          "model_module": "@jupyter-widgets/base",
          "model_name": "LayoutModel",
          "model_module_version": "1.2.0",
          "state": {
            "_model_module": "@jupyter-widgets/base",
            "_model_module_version": "1.2.0",
            "_model_name": "LayoutModel",
            "_view_count": null,
            "_view_module": "@jupyter-widgets/base",
            "_view_module_version": "1.2.0",
            "_view_name": "LayoutView",
            "align_content": null,
            "align_items": null,
            "align_self": null,
            "border": null,
            "bottom": null,
            "display": null,
            "flex": null,
            "flex_flow": null,
            "grid_area": null,
            "grid_auto_columns": null,
            "grid_auto_flow": null,
            "grid_auto_rows": null,
            "grid_column": null,
            "grid_gap": null,
            "grid_row": null,
            "grid_template_areas": null,
            "grid_template_columns": null,
            "grid_template_rows": null,
            "height": null,
            "justify_content": null,
            "justify_items": null,
            "left": null,
            "margin": null,
            "max_height": null,
            "max_width": null,
            "min_height": null,
            "min_width": null,
            "object_fit": null,
            "object_position": null,
            "order": null,
            "overflow": null,
            "overflow_x": null,
            "overflow_y": null,
            "padding": null,
            "right": null,
            "top": null,
            "visibility": null,
            "width": null
          }
        },
        "88bcb2627630493583c2532d4ac966ec": {
          "model_module": "@jupyter-widgets/base",
          "model_name": "LayoutModel",
          "model_module_version": "1.2.0",
          "state": {
            "_model_module": "@jupyter-widgets/base",
            "_model_module_version": "1.2.0",
            "_model_name": "LayoutModel",
            "_view_count": null,
            "_view_module": "@jupyter-widgets/base",
            "_view_module_version": "1.2.0",
            "_view_name": "LayoutView",
            "align_content": null,
            "align_items": null,
            "align_self": null,
            "border": null,
            "bottom": null,
            "display": null,
            "flex": null,
            "flex_flow": null,
            "grid_area": null,
            "grid_auto_columns": null,
            "grid_auto_flow": null,
            "grid_auto_rows": null,
            "grid_column": null,
            "grid_gap": null,
            "grid_row": null,
            "grid_template_areas": null,
            "grid_template_columns": null,
            "grid_template_rows": null,
            "height": null,
            "justify_content": null,
            "justify_items": null,
            "left": null,
            "margin": null,
            "max_height": null,
            "max_width": null,
            "min_height": null,
            "min_width": null,
            "object_fit": null,
            "object_position": null,
            "order": null,
            "overflow": null,
            "overflow_x": null,
            "overflow_y": null,
            "padding": null,
            "right": null,
            "top": null,
            "visibility": null,
            "width": null
          }
        },
        "12ac5266e93546feb9c0f0802260eed1": {
          "model_module": "@jupyter-widgets/controls",
          "model_name": "DescriptionStyleModel",
          "model_module_version": "1.5.0",
          "state": {
            "_model_module": "@jupyter-widgets/controls",
            "_model_module_version": "1.5.0",
            "_model_name": "DescriptionStyleModel",
            "_view_count": null,
            "_view_module": "@jupyter-widgets/base",
            "_view_module_version": "1.2.0",
            "_view_name": "StyleView",
            "description_width": ""
          }
        },
        "3ed28d71e89f49fdbb1f139b116af9a7": {
          "model_module": "@jupyter-widgets/base",
          "model_name": "LayoutModel",
          "model_module_version": "1.2.0",
          "state": {
            "_model_module": "@jupyter-widgets/base",
            "_model_module_version": "1.2.0",
            "_model_name": "LayoutModel",
            "_view_count": null,
            "_view_module": "@jupyter-widgets/base",
            "_view_module_version": "1.2.0",
            "_view_name": "LayoutView",
            "align_content": null,
            "align_items": null,
            "align_self": null,
            "border": null,
            "bottom": null,
            "display": null,
            "flex": null,
            "flex_flow": null,
            "grid_area": null,
            "grid_auto_columns": null,
            "grid_auto_flow": null,
            "grid_auto_rows": null,
            "grid_column": null,
            "grid_gap": null,
            "grid_row": null,
            "grid_template_areas": null,
            "grid_template_columns": null,
            "grid_template_rows": null,
            "height": null,
            "justify_content": null,
            "justify_items": null,
            "left": null,
            "margin": null,
            "max_height": null,
            "max_width": null,
            "min_height": null,
            "min_width": null,
            "object_fit": null,
            "object_position": null,
            "order": null,
            "overflow": null,
            "overflow_x": null,
            "overflow_y": null,
            "padding": null,
            "right": null,
            "top": null,
            "visibility": null,
            "width": null
          }
        },
        "5839c215c1f24ead9d0e6ad10fa13e76": {
          "model_module": "@jupyter-widgets/controls",
          "model_name": "ProgressStyleModel",
          "model_module_version": "1.5.0",
          "state": {
            "_model_module": "@jupyter-widgets/controls",
            "_model_module_version": "1.5.0",
            "_model_name": "ProgressStyleModel",
            "_view_count": null,
            "_view_module": "@jupyter-widgets/base",
            "_view_module_version": "1.2.0",
            "_view_name": "StyleView",
            "bar_color": null,
            "description_width": ""
          }
        },
        "11165f61a7b94201bf7480e2ea7cc717": {
          "model_module": "@jupyter-widgets/base",
          "model_name": "LayoutModel",
          "model_module_version": "1.2.0",
          "state": {
            "_model_module": "@jupyter-widgets/base",
            "_model_module_version": "1.2.0",
            "_model_name": "LayoutModel",
            "_view_count": null,
            "_view_module": "@jupyter-widgets/base",
            "_view_module_version": "1.2.0",
            "_view_name": "LayoutView",
            "align_content": null,
            "align_items": null,
            "align_self": null,
            "border": null,
            "bottom": null,
            "display": null,
            "flex": null,
            "flex_flow": null,
            "grid_area": null,
            "grid_auto_columns": null,
            "grid_auto_flow": null,
            "grid_auto_rows": null,
            "grid_column": null,
            "grid_gap": null,
            "grid_row": null,
            "grid_template_areas": null,
            "grid_template_columns": null,
            "grid_template_rows": null,
            "height": null,
            "justify_content": null,
            "justify_items": null,
            "left": null,
            "margin": null,
            "max_height": null,
            "max_width": null,
            "min_height": null,
            "min_width": null,
            "object_fit": null,
            "object_position": null,
            "order": null,
            "overflow": null,
            "overflow_x": null,
            "overflow_y": null,
            "padding": null,
            "right": null,
            "top": null,
            "visibility": null,
            "width": null
          }
        },
        "e6e79fa1fb05474a9a0b5bde67a7a342": {
          "model_module": "@jupyter-widgets/controls",
          "model_name": "DescriptionStyleModel",
          "model_module_version": "1.5.0",
          "state": {
            "_model_module": "@jupyter-widgets/controls",
            "_model_module_version": "1.5.0",
            "_model_name": "DescriptionStyleModel",
            "_view_count": null,
            "_view_module": "@jupyter-widgets/base",
            "_view_module_version": "1.2.0",
            "_view_name": "StyleView",
            "description_width": ""
          }
        }
      }
    }
  },
  "nbformat": 4,
  "nbformat_minor": 0
}