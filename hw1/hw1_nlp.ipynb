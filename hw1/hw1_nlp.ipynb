{
  "nbformat": 4,
  "nbformat_minor": 0,
  "metadata": {
    "colab": {
      "provenance": []
    },
    "kernelspec": {
      "name": "python3",
      "display_name": "Python 3"
    },
    "language_info": {
      "name": "python"
    },
    "widgets": {
      "application/vnd.jupyter.widget-state+json": {
        "02d2fb689c7e45218e92c217f8449a20": {
          "model_module": "@jupyter-widgets/controls",
          "model_name": "HBoxModel",
          "model_module_version": "1.5.0",
          "state": {
            "_dom_classes": [],
            "_model_module": "@jupyter-widgets/controls",
            "_model_module_version": "1.5.0",
            "_model_name": "HBoxModel",
            "_view_count": null,
            "_view_module": "@jupyter-widgets/controls",
            "_view_module_version": "1.5.0",
            "_view_name": "HBoxView",
            "box_style": "",
            "children": [
              "IPY_MODEL_d2356b00d51a4517b9a13dd2ab44fdcf",
              "IPY_MODEL_5b0b8c0cb3c44ac68045077cdb8f6477",
              "IPY_MODEL_0d6228d875d941f99e0055416753b004"
            ],
            "layout": "IPY_MODEL_395eb39e9d7346ada18ed4981ede1d2c"
          }
        },
        "d2356b00d51a4517b9a13dd2ab44fdcf": {
          "model_module": "@jupyter-widgets/controls",
          "model_name": "HTMLModel",
          "model_module_version": "1.5.0",
          "state": {
            "_dom_classes": [],
            "_model_module": "@jupyter-widgets/controls",
            "_model_module_version": "1.5.0",
            "_model_name": "HTMLModel",
            "_view_count": null,
            "_view_module": "@jupyter-widgets/controls",
            "_view_module_version": "1.5.0",
            "_view_name": "HTMLView",
            "description": "",
            "description_tooltip": null,
            "layout": "IPY_MODEL_bcdb8f35a5534dbe92da532a16a1c3dc",
            "placeholder": "​",
            "style": "IPY_MODEL_b7afc2bcd9a847b2a0f43d9bb37b6454",
            "value": "100%"
          }
        },
        "5b0b8c0cb3c44ac68045077cdb8f6477": {
          "model_module": "@jupyter-widgets/controls",
          "model_name": "FloatProgressModel",
          "model_module_version": "1.5.0",
          "state": {
            "_dom_classes": [],
            "_model_module": "@jupyter-widgets/controls",
            "_model_module_version": "1.5.0",
            "_model_name": "FloatProgressModel",
            "_view_count": null,
            "_view_module": "@jupyter-widgets/controls",
            "_view_module_version": "1.5.0",
            "_view_name": "ProgressView",
            "bar_style": "success",
            "description": "",
            "description_tooltip": null,
            "layout": "IPY_MODEL_82e0028d6bae41f68c19e6fa327c8e71",
            "max": 27,
            "min": 0,
            "orientation": "horizontal",
            "style": "IPY_MODEL_7ab52796ea9a4bc09e81736d9aff1ded",
            "value": 27
          }
        },
        "0d6228d875d941f99e0055416753b004": {
          "model_module": "@jupyter-widgets/controls",
          "model_name": "HTMLModel",
          "model_module_version": "1.5.0",
          "state": {
            "_dom_classes": [],
            "_model_module": "@jupyter-widgets/controls",
            "_model_module_version": "1.5.0",
            "_model_name": "HTMLModel",
            "_view_count": null,
            "_view_module": "@jupyter-widgets/controls",
            "_view_module_version": "1.5.0",
            "_view_name": "HTMLView",
            "description": "",
            "description_tooltip": null,
            "layout": "IPY_MODEL_3a73a7905ad74edea2cddfb7af01d823",
            "placeholder": "​",
            "style": "IPY_MODEL_3af64306672148909f8278ee31eae6e8",
            "value": " 27/27 [00:00&lt;00:00, 353.01it/s]"
          }
        },
        "395eb39e9d7346ada18ed4981ede1d2c": {
          "model_module": "@jupyter-widgets/base",
          "model_name": "LayoutModel",
          "model_module_version": "1.2.0",
          "state": {
            "_model_module": "@jupyter-widgets/base",
            "_model_module_version": "1.2.0",
            "_model_name": "LayoutModel",
            "_view_count": null,
            "_view_module": "@jupyter-widgets/base",
            "_view_module_version": "1.2.0",
            "_view_name": "LayoutView",
            "align_content": null,
            "align_items": null,
            "align_self": null,
            "border": null,
            "bottom": null,
            "display": null,
            "flex": null,
            "flex_flow": null,
            "grid_area": null,
            "grid_auto_columns": null,
            "grid_auto_flow": null,
            "grid_auto_rows": null,
            "grid_column": null,
            "grid_gap": null,
            "grid_row": null,
            "grid_template_areas": null,
            "grid_template_columns": null,
            "grid_template_rows": null,
            "height": null,
            "justify_content": null,
            "justify_items": null,
            "left": null,
            "margin": null,
            "max_height": null,
            "max_width": null,
            "min_height": null,
            "min_width": null,
            "object_fit": null,
            "object_position": null,
            "order": null,
            "overflow": null,
            "overflow_x": null,
            "overflow_y": null,
            "padding": null,
            "right": null,
            "top": null,
            "visibility": null,
            "width": null
          }
        },
        "bcdb8f35a5534dbe92da532a16a1c3dc": {
          "model_module": "@jupyter-widgets/base",
          "model_name": "LayoutModel",
          "model_module_version": "1.2.0",
          "state": {
            "_model_module": "@jupyter-widgets/base",
            "_model_module_version": "1.2.0",
            "_model_name": "LayoutModel",
            "_view_count": null,
            "_view_module": "@jupyter-widgets/base",
            "_view_module_version": "1.2.0",
            "_view_name": "LayoutView",
            "align_content": null,
            "align_items": null,
            "align_self": null,
            "border": null,
            "bottom": null,
            "display": null,
            "flex": null,
            "flex_flow": null,
            "grid_area": null,
            "grid_auto_columns": null,
            "grid_auto_flow": null,
            "grid_auto_rows": null,
            "grid_column": null,
            "grid_gap": null,
            "grid_row": null,
            "grid_template_areas": null,
            "grid_template_columns": null,
            "grid_template_rows": null,
            "height": null,
            "justify_content": null,
            "justify_items": null,
            "left": null,
            "margin": null,
            "max_height": null,
            "max_width": null,
            "min_height": null,
            "min_width": null,
            "object_fit": null,
            "object_position": null,
            "order": null,
            "overflow": null,
            "overflow_x": null,
            "overflow_y": null,
            "padding": null,
            "right": null,
            "top": null,
            "visibility": null,
            "width": null
          }
        },
        "b7afc2bcd9a847b2a0f43d9bb37b6454": {
          "model_module": "@jupyter-widgets/controls",
          "model_name": "DescriptionStyleModel",
          "model_module_version": "1.5.0",
          "state": {
            "_model_module": "@jupyter-widgets/controls",
            "_model_module_version": "1.5.0",
            "_model_name": "DescriptionStyleModel",
            "_view_count": null,
            "_view_module": "@jupyter-widgets/base",
            "_view_module_version": "1.2.0",
            "_view_name": "StyleView",
            "description_width": ""
          }
        },
        "82e0028d6bae41f68c19e6fa327c8e71": {
          "model_module": "@jupyter-widgets/base",
          "model_name": "LayoutModel",
          "model_module_version": "1.2.0",
          "state": {
            "_model_module": "@jupyter-widgets/base",
            "_model_module_version": "1.2.0",
            "_model_name": "LayoutModel",
            "_view_count": null,
            "_view_module": "@jupyter-widgets/base",
            "_view_module_version": "1.2.0",
            "_view_name": "LayoutView",
            "align_content": null,
            "align_items": null,
            "align_self": null,
            "border": null,
            "bottom": null,
            "display": null,
            "flex": null,
            "flex_flow": null,
            "grid_area": null,
            "grid_auto_columns": null,
            "grid_auto_flow": null,
            "grid_auto_rows": null,
            "grid_column": null,
            "grid_gap": null,
            "grid_row": null,
            "grid_template_areas": null,
            "grid_template_columns": null,
            "grid_template_rows": null,
            "height": null,
            "justify_content": null,
            "justify_items": null,
            "left": null,
            "margin": null,
            "max_height": null,
            "max_width": null,
            "min_height": null,
            "min_width": null,
            "object_fit": null,
            "object_position": null,
            "order": null,
            "overflow": null,
            "overflow_x": null,
            "overflow_y": null,
            "padding": null,
            "right": null,
            "top": null,
            "visibility": null,
            "width": null
          }
        },
        "7ab52796ea9a4bc09e81736d9aff1ded": {
          "model_module": "@jupyter-widgets/controls",
          "model_name": "ProgressStyleModel",
          "model_module_version": "1.5.0",
          "state": {
            "_model_module": "@jupyter-widgets/controls",
            "_model_module_version": "1.5.0",
            "_model_name": "ProgressStyleModel",
            "_view_count": null,
            "_view_module": "@jupyter-widgets/base",
            "_view_module_version": "1.2.0",
            "_view_name": "StyleView",
            "bar_color": null,
            "description_width": ""
          }
        },
        "3a73a7905ad74edea2cddfb7af01d823": {
          "model_module": "@jupyter-widgets/base",
          "model_name": "LayoutModel",
          "model_module_version": "1.2.0",
          "state": {
            "_model_module": "@jupyter-widgets/base",
            "_model_module_version": "1.2.0",
            "_model_name": "LayoutModel",
            "_view_count": null,
            "_view_module": "@jupyter-widgets/base",
            "_view_module_version": "1.2.0",
            "_view_name": "LayoutView",
            "align_content": null,
            "align_items": null,
            "align_self": null,
            "border": null,
            "bottom": null,
            "display": null,
            "flex": null,
            "flex_flow": null,
            "grid_area": null,
            "grid_auto_columns": null,
            "grid_auto_flow": null,
            "grid_auto_rows": null,
            "grid_column": null,
            "grid_gap": null,
            "grid_row": null,
            "grid_template_areas": null,
            "grid_template_columns": null,
            "grid_template_rows": null,
            "height": null,
            "justify_content": null,
            "justify_items": null,
            "left": null,
            "margin": null,
            "max_height": null,
            "max_width": null,
            "min_height": null,
            "min_width": null,
            "object_fit": null,
            "object_position": null,
            "order": null,
            "overflow": null,
            "overflow_x": null,
            "overflow_y": null,
            "padding": null,
            "right": null,
            "top": null,
            "visibility": null,
            "width": null
          }
        },
        "3af64306672148909f8278ee31eae6e8": {
          "model_module": "@jupyter-widgets/controls",
          "model_name": "DescriptionStyleModel",
          "model_module_version": "1.5.0",
          "state": {
            "_model_module": "@jupyter-widgets/controls",
            "_model_module_version": "1.5.0",
            "_model_name": "DescriptionStyleModel",
            "_view_count": null,
            "_view_module": "@jupyter-widgets/base",
            "_view_module_version": "1.2.0",
            "_view_name": "StyleView",
            "description_width": ""
          }
        },
        "4b45386edb454f1fa21849978c228394": {
          "model_module": "@jupyter-widgets/controls",
          "model_name": "HBoxModel",
          "model_module_version": "1.5.0",
          "state": {
            "_dom_classes": [],
            "_model_module": "@jupyter-widgets/controls",
            "_model_module_version": "1.5.0",
            "_model_name": "HBoxModel",
            "_view_count": null,
            "_view_module": "@jupyter-widgets/controls",
            "_view_module_version": "1.5.0",
            "_view_name": "HBoxView",
            "box_style": "",
            "children": [
              "IPY_MODEL_03dd9b1a38de4bfbba451c1c6f3a57c2",
              "IPY_MODEL_6330757767e44f35a2f65a4ffe409797",
              "IPY_MODEL_5fe74f7bfaf04c9b9af14d0d8fba7550"
            ],
            "layout": "IPY_MODEL_f8ecb87fe44144d2b18a42df4c7f8f7d"
          }
        },
        "03dd9b1a38de4bfbba451c1c6f3a57c2": {
          "model_module": "@jupyter-widgets/controls",
          "model_name": "HTMLModel",
          "model_module_version": "1.5.0",
          "state": {
            "_dom_classes": [],
            "_model_module": "@jupyter-widgets/controls",
            "_model_module_version": "1.5.0",
            "_model_name": "HTMLModel",
            "_view_count": null,
            "_view_module": "@jupyter-widgets/controls",
            "_view_module_version": "1.5.0",
            "_view_name": "HTMLView",
            "description": "",
            "description_tooltip": null,
            "layout": "IPY_MODEL_97f2f010b9da4d27adcf691686f9b265",
            "placeholder": "​",
            "style": "IPY_MODEL_3a18154519cd4282baa465c04665d894",
            "value": "100%"
          }
        },
        "6330757767e44f35a2f65a4ffe409797": {
          "model_module": "@jupyter-widgets/controls",
          "model_name": "FloatProgressModel",
          "model_module_version": "1.5.0",
          "state": {
            "_dom_classes": [],
            "_model_module": "@jupyter-widgets/controls",
            "_model_module_version": "1.5.0",
            "_model_name": "FloatProgressModel",
            "_view_count": null,
            "_view_module": "@jupyter-widgets/controls",
            "_view_module_version": "1.5.0",
            "_view_name": "ProgressView",
            "bar_style": "success",
            "description": "",
            "description_tooltip": null,
            "layout": "IPY_MODEL_ef5c28cabd6c48bdb33797d62cc461a4",
            "max": 27,
            "min": 0,
            "orientation": "horizontal",
            "style": "IPY_MODEL_137c2b23ac1e4daa9f099294b61418f8",
            "value": 27
          }
        },
        "5fe74f7bfaf04c9b9af14d0d8fba7550": {
          "model_module": "@jupyter-widgets/controls",
          "model_name": "HTMLModel",
          "model_module_version": "1.5.0",
          "state": {
            "_dom_classes": [],
            "_model_module": "@jupyter-widgets/controls",
            "_model_module_version": "1.5.0",
            "_model_name": "HTMLModel",
            "_view_count": null,
            "_view_module": "@jupyter-widgets/controls",
            "_view_module_version": "1.5.0",
            "_view_name": "HTMLView",
            "description": "",
            "description_tooltip": null,
            "layout": "IPY_MODEL_3cd58bb5396143d7b0345cdd293019ca",
            "placeholder": "​",
            "style": "IPY_MODEL_ae81f5eaede7486f9b2464dd408a2385",
            "value": " 27/27 [00:00&lt;00:00, 460.49it/s]"
          }
        },
        "f8ecb87fe44144d2b18a42df4c7f8f7d": {
          "model_module": "@jupyter-widgets/base",
          "model_name": "LayoutModel",
          "model_module_version": "1.2.0",
          "state": {
            "_model_module": "@jupyter-widgets/base",
            "_model_module_version": "1.2.0",
            "_model_name": "LayoutModel",
            "_view_count": null,
            "_view_module": "@jupyter-widgets/base",
            "_view_module_version": "1.2.0",
            "_view_name": "LayoutView",
            "align_content": null,
            "align_items": null,
            "align_self": null,
            "border": null,
            "bottom": null,
            "display": null,
            "flex": null,
            "flex_flow": null,
            "grid_area": null,
            "grid_auto_columns": null,
            "grid_auto_flow": null,
            "grid_auto_rows": null,
            "grid_column": null,
            "grid_gap": null,
            "grid_row": null,
            "grid_template_areas": null,
            "grid_template_columns": null,
            "grid_template_rows": null,
            "height": null,
            "justify_content": null,
            "justify_items": null,
            "left": null,
            "margin": null,
            "max_height": null,
            "max_width": null,
            "min_height": null,
            "min_width": null,
            "object_fit": null,
            "object_position": null,
            "order": null,
            "overflow": null,
            "overflow_x": null,
            "overflow_y": null,
            "padding": null,
            "right": null,
            "top": null,
            "visibility": null,
            "width": null
          }
        },
        "97f2f010b9da4d27adcf691686f9b265": {
          "model_module": "@jupyter-widgets/base",
          "model_name": "LayoutModel",
          "model_module_version": "1.2.0",
          "state": {
            "_model_module": "@jupyter-widgets/base",
            "_model_module_version": "1.2.0",
            "_model_name": "LayoutModel",
            "_view_count": null,
            "_view_module": "@jupyter-widgets/base",
            "_view_module_version": "1.2.0",
            "_view_name": "LayoutView",
            "align_content": null,
            "align_items": null,
            "align_self": null,
            "border": null,
            "bottom": null,
            "display": null,
            "flex": null,
            "flex_flow": null,
            "grid_area": null,
            "grid_auto_columns": null,
            "grid_auto_flow": null,
            "grid_auto_rows": null,
            "grid_column": null,
            "grid_gap": null,
            "grid_row": null,
            "grid_template_areas": null,
            "grid_template_columns": null,
            "grid_template_rows": null,
            "height": null,
            "justify_content": null,
            "justify_items": null,
            "left": null,
            "margin": null,
            "max_height": null,
            "max_width": null,
            "min_height": null,
            "min_width": null,
            "object_fit": null,
            "object_position": null,
            "order": null,
            "overflow": null,
            "overflow_x": null,
            "overflow_y": null,
            "padding": null,
            "right": null,
            "top": null,
            "visibility": null,
            "width": null
          }
        },
        "3a18154519cd4282baa465c04665d894": {
          "model_module": "@jupyter-widgets/controls",
          "model_name": "DescriptionStyleModel",
          "model_module_version": "1.5.0",
          "state": {
            "_model_module": "@jupyter-widgets/controls",
            "_model_module_version": "1.5.0",
            "_model_name": "DescriptionStyleModel",
            "_view_count": null,
            "_view_module": "@jupyter-widgets/base",
            "_view_module_version": "1.2.0",
            "_view_name": "StyleView",
            "description_width": ""
          }
        },
        "ef5c28cabd6c48bdb33797d62cc461a4": {
          "model_module": "@jupyter-widgets/base",
          "model_name": "LayoutModel",
          "model_module_version": "1.2.0",
          "state": {
            "_model_module": "@jupyter-widgets/base",
            "_model_module_version": "1.2.0",
            "_model_name": "LayoutModel",
            "_view_count": null,
            "_view_module": "@jupyter-widgets/base",
            "_view_module_version": "1.2.0",
            "_view_name": "LayoutView",
            "align_content": null,
            "align_items": null,
            "align_self": null,
            "border": null,
            "bottom": null,
            "display": null,
            "flex": null,
            "flex_flow": null,
            "grid_area": null,
            "grid_auto_columns": null,
            "grid_auto_flow": null,
            "grid_auto_rows": null,
            "grid_column": null,
            "grid_gap": null,
            "grid_row": null,
            "grid_template_areas": null,
            "grid_template_columns": null,
            "grid_template_rows": null,
            "height": null,
            "justify_content": null,
            "justify_items": null,
            "left": null,
            "margin": null,
            "max_height": null,
            "max_width": null,
            "min_height": null,
            "min_width": null,
            "object_fit": null,
            "object_position": null,
            "order": null,
            "overflow": null,
            "overflow_x": null,
            "overflow_y": null,
            "padding": null,
            "right": null,
            "top": null,
            "visibility": null,
            "width": null
          }
        },
        "137c2b23ac1e4daa9f099294b61418f8": {
          "model_module": "@jupyter-widgets/controls",
          "model_name": "ProgressStyleModel",
          "model_module_version": "1.5.0",
          "state": {
            "_model_module": "@jupyter-widgets/controls",
            "_model_module_version": "1.5.0",
            "_model_name": "ProgressStyleModel",
            "_view_count": null,
            "_view_module": "@jupyter-widgets/base",
            "_view_module_version": "1.2.0",
            "_view_name": "StyleView",
            "bar_color": null,
            "description_width": ""
          }
        },
        "3cd58bb5396143d7b0345cdd293019ca": {
          "model_module": "@jupyter-widgets/base",
          "model_name": "LayoutModel",
          "model_module_version": "1.2.0",
          "state": {
            "_model_module": "@jupyter-widgets/base",
            "_model_module_version": "1.2.0",
            "_model_name": "LayoutModel",
            "_view_count": null,
            "_view_module": "@jupyter-widgets/base",
            "_view_module_version": "1.2.0",
            "_view_name": "LayoutView",
            "align_content": null,
            "align_items": null,
            "align_self": null,
            "border": null,
            "bottom": null,
            "display": null,
            "flex": null,
            "flex_flow": null,
            "grid_area": null,
            "grid_auto_columns": null,
            "grid_auto_flow": null,
            "grid_auto_rows": null,
            "grid_column": null,
            "grid_gap": null,
            "grid_row": null,
            "grid_template_areas": null,
            "grid_template_columns": null,
            "grid_template_rows": null,
            "height": null,
            "justify_content": null,
            "justify_items": null,
            "left": null,
            "margin": null,
            "max_height": null,
            "max_width": null,
            "min_height": null,
            "min_width": null,
            "object_fit": null,
            "object_position": null,
            "order": null,
            "overflow": null,
            "overflow_x": null,
            "overflow_y": null,
            "padding": null,
            "right": null,
            "top": null,
            "visibility": null,
            "width": null
          }
        },
        "ae81f5eaede7486f9b2464dd408a2385": {
          "model_module": "@jupyter-widgets/controls",
          "model_name": "DescriptionStyleModel",
          "model_module_version": "1.5.0",
          "state": {
            "_model_module": "@jupyter-widgets/controls",
            "_model_module_version": "1.5.0",
            "_model_name": "DescriptionStyleModel",
            "_view_count": null,
            "_view_module": "@jupyter-widgets/base",
            "_view_module_version": "1.2.0",
            "_view_name": "StyleView",
            "description_width": ""
          }
        },
        "7f66734eb01746bab58c46220453fba7": {
          "model_module": "@jupyter-widgets/controls",
          "model_name": "HBoxModel",
          "model_module_version": "1.5.0",
          "state": {
            "_dom_classes": [],
            "_model_module": "@jupyter-widgets/controls",
            "_model_module_version": "1.5.0",
            "_model_name": "HBoxModel",
            "_view_count": null,
            "_view_module": "@jupyter-widgets/controls",
            "_view_module_version": "1.5.0",
            "_view_name": "HBoxView",
            "box_style": "",
            "children": [
              "IPY_MODEL_ee6236b5785b48dd96f1d774a420e755",
              "IPY_MODEL_51f612aec70143ee8afcdd3516c78bd9",
              "IPY_MODEL_826cb0153ac448e981f41cbe6fc4f06f"
            ],
            "layout": "IPY_MODEL_61a6efaa3f99422ba235174694b01e6b"
          }
        },
        "ee6236b5785b48dd96f1d774a420e755": {
          "model_module": "@jupyter-widgets/controls",
          "model_name": "HTMLModel",
          "model_module_version": "1.5.0",
          "state": {
            "_dom_classes": [],
            "_model_module": "@jupyter-widgets/controls",
            "_model_module_version": "1.5.0",
            "_model_name": "HTMLModel",
            "_view_count": null,
            "_view_module": "@jupyter-widgets/controls",
            "_view_module_version": "1.5.0",
            "_view_name": "HTMLView",
            "description": "",
            "description_tooltip": null,
            "layout": "IPY_MODEL_af69195fa47a401d8ac783128c15f309",
            "placeholder": "​",
            "style": "IPY_MODEL_38e9456ff97947378f03a8cf5f5bd130",
            "value": "100%"
          }
        },
        "51f612aec70143ee8afcdd3516c78bd9": {
          "model_module": "@jupyter-widgets/controls",
          "model_name": "FloatProgressModel",
          "model_module_version": "1.5.0",
          "state": {
            "_dom_classes": [],
            "_model_module": "@jupyter-widgets/controls",
            "_model_module_version": "1.5.0",
            "_model_name": "FloatProgressModel",
            "_view_count": null,
            "_view_module": "@jupyter-widgets/controls",
            "_view_module_version": "1.5.0",
            "_view_name": "ProgressView",
            "bar_style": "success",
            "description": "",
            "description_tooltip": null,
            "layout": "IPY_MODEL_e0598486e81e466aaa9cd18ec0ef7917",
            "max": 27,
            "min": 0,
            "orientation": "horizontal",
            "style": "IPY_MODEL_ea9f0b947ace4c9898f54fdead1ad8b6",
            "value": 27
          }
        },
        "826cb0153ac448e981f41cbe6fc4f06f": {
          "model_module": "@jupyter-widgets/controls",
          "model_name": "HTMLModel",
          "model_module_version": "1.5.0",
          "state": {
            "_dom_classes": [],
            "_model_module": "@jupyter-widgets/controls",
            "_model_module_version": "1.5.0",
            "_model_name": "HTMLModel",
            "_view_count": null,
            "_view_module": "@jupyter-widgets/controls",
            "_view_module_version": "1.5.0",
            "_view_name": "HTMLView",
            "description": "",
            "description_tooltip": null,
            "layout": "IPY_MODEL_1df926e462b24a52b8e3d071fc1bb4ae",
            "placeholder": "​",
            "style": "IPY_MODEL_5b7e572e5b964768a742a0005f7611e1",
            "value": " 27/27 [00:01&lt;00:00, 26.86it/s]"
          }
        },
        "61a6efaa3f99422ba235174694b01e6b": {
          "model_module": "@jupyter-widgets/base",
          "model_name": "LayoutModel",
          "model_module_version": "1.2.0",
          "state": {
            "_model_module": "@jupyter-widgets/base",
            "_model_module_version": "1.2.0",
            "_model_name": "LayoutModel",
            "_view_count": null,
            "_view_module": "@jupyter-widgets/base",
            "_view_module_version": "1.2.0",
            "_view_name": "LayoutView",
            "align_content": null,
            "align_items": null,
            "align_self": null,
            "border": null,
            "bottom": null,
            "display": null,
            "flex": null,
            "flex_flow": null,
            "grid_area": null,
            "grid_auto_columns": null,
            "grid_auto_flow": null,
            "grid_auto_rows": null,
            "grid_column": null,
            "grid_gap": null,
            "grid_row": null,
            "grid_template_areas": null,
            "grid_template_columns": null,
            "grid_template_rows": null,
            "height": null,
            "justify_content": null,
            "justify_items": null,
            "left": null,
            "margin": null,
            "max_height": null,
            "max_width": null,
            "min_height": null,
            "min_width": null,
            "object_fit": null,
            "object_position": null,
            "order": null,
            "overflow": null,
            "overflow_x": null,
            "overflow_y": null,
            "padding": null,
            "right": null,
            "top": null,
            "visibility": null,
            "width": null
          }
        },
        "af69195fa47a401d8ac783128c15f309": {
          "model_module": "@jupyter-widgets/base",
          "model_name": "LayoutModel",
          "model_module_version": "1.2.0",
          "state": {
            "_model_module": "@jupyter-widgets/base",
            "_model_module_version": "1.2.0",
            "_model_name": "LayoutModel",
            "_view_count": null,
            "_view_module": "@jupyter-widgets/base",
            "_view_module_version": "1.2.0",
            "_view_name": "LayoutView",
            "align_content": null,
            "align_items": null,
            "align_self": null,
            "border": null,
            "bottom": null,
            "display": null,
            "flex": null,
            "flex_flow": null,
            "grid_area": null,
            "grid_auto_columns": null,
            "grid_auto_flow": null,
            "grid_auto_rows": null,
            "grid_column": null,
            "grid_gap": null,
            "grid_row": null,
            "grid_template_areas": null,
            "grid_template_columns": null,
            "grid_template_rows": null,
            "height": null,
            "justify_content": null,
            "justify_items": null,
            "left": null,
            "margin": null,
            "max_height": null,
            "max_width": null,
            "min_height": null,
            "min_width": null,
            "object_fit": null,
            "object_position": null,
            "order": null,
            "overflow": null,
            "overflow_x": null,
            "overflow_y": null,
            "padding": null,
            "right": null,
            "top": null,
            "visibility": null,
            "width": null
          }
        },
        "38e9456ff97947378f03a8cf5f5bd130": {
          "model_module": "@jupyter-widgets/controls",
          "model_name": "DescriptionStyleModel",
          "model_module_version": "1.5.0",
          "state": {
            "_model_module": "@jupyter-widgets/controls",
            "_model_module_version": "1.5.0",
            "_model_name": "DescriptionStyleModel",
            "_view_count": null,
            "_view_module": "@jupyter-widgets/base",
            "_view_module_version": "1.2.0",
            "_view_name": "StyleView",
            "description_width": ""
          }
        },
        "e0598486e81e466aaa9cd18ec0ef7917": {
          "model_module": "@jupyter-widgets/base",
          "model_name": "LayoutModel",
          "model_module_version": "1.2.0",
          "state": {
            "_model_module": "@jupyter-widgets/base",
            "_model_module_version": "1.2.0",
            "_model_name": "LayoutModel",
            "_view_count": null,
            "_view_module": "@jupyter-widgets/base",
            "_view_module_version": "1.2.0",
            "_view_name": "LayoutView",
            "align_content": null,
            "align_items": null,
            "align_self": null,
            "border": null,
            "bottom": null,
            "display": null,
            "flex": null,
            "flex_flow": null,
            "grid_area": null,
            "grid_auto_columns": null,
            "grid_auto_flow": null,
            "grid_auto_rows": null,
            "grid_column": null,
            "grid_gap": null,
            "grid_row": null,
            "grid_template_areas": null,
            "grid_template_columns": null,
            "grid_template_rows": null,
            "height": null,
            "justify_content": null,
            "justify_items": null,
            "left": null,
            "margin": null,
            "max_height": null,
            "max_width": null,
            "min_height": null,
            "min_width": null,
            "object_fit": null,
            "object_position": null,
            "order": null,
            "overflow": null,
            "overflow_x": null,
            "overflow_y": null,
            "padding": null,
            "right": null,
            "top": null,
            "visibility": null,
            "width": null
          }
        },
        "ea9f0b947ace4c9898f54fdead1ad8b6": {
          "model_module": "@jupyter-widgets/controls",
          "model_name": "ProgressStyleModel",
          "model_module_version": "1.5.0",
          "state": {
            "_model_module": "@jupyter-widgets/controls",
            "_model_module_version": "1.5.0",
            "_model_name": "ProgressStyleModel",
            "_view_count": null,
            "_view_module": "@jupyter-widgets/base",
            "_view_module_version": "1.2.0",
            "_view_name": "StyleView",
            "bar_color": null,
            "description_width": ""
          }
        },
        "1df926e462b24a52b8e3d071fc1bb4ae": {
          "model_module": "@jupyter-widgets/base",
          "model_name": "LayoutModel",
          "model_module_version": "1.2.0",
          "state": {
            "_model_module": "@jupyter-widgets/base",
            "_model_module_version": "1.2.0",
            "_model_name": "LayoutModel",
            "_view_count": null,
            "_view_module": "@jupyter-widgets/base",
            "_view_module_version": "1.2.0",
            "_view_name": "LayoutView",
            "align_content": null,
            "align_items": null,
            "align_self": null,
            "border": null,
            "bottom": null,
            "display": null,
            "flex": null,
            "flex_flow": null,
            "grid_area": null,
            "grid_auto_columns": null,
            "grid_auto_flow": null,
            "grid_auto_rows": null,
            "grid_column": null,
            "grid_gap": null,
            "grid_row": null,
            "grid_template_areas": null,
            "grid_template_columns": null,
            "grid_template_rows": null,
            "height": null,
            "justify_content": null,
            "justify_items": null,
            "left": null,
            "margin": null,
            "max_height": null,
            "max_width": null,
            "min_height": null,
            "min_width": null,
            "object_fit": null,
            "object_position": null,
            "order": null,
            "overflow": null,
            "overflow_x": null,
            "overflow_y": null,
            "padding": null,
            "right": null,
            "top": null,
            "visibility": null,
            "width": null
          }
        },
        "5b7e572e5b964768a742a0005f7611e1": {
          "model_module": "@jupyter-widgets/controls",
          "model_name": "DescriptionStyleModel",
          "model_module_version": "1.5.0",
          "state": {
            "_model_module": "@jupyter-widgets/controls",
            "_model_module_version": "1.5.0",
            "_model_name": "DescriptionStyleModel",
            "_view_count": null,
            "_view_module": "@jupyter-widgets/base",
            "_view_module_version": "1.2.0",
            "_view_name": "StyleView",
            "description_width": ""
          }
        }
      }
    }
  },
  "cells": [
    {
      "cell_type": "code",
      "source": [
        "!pip install python-rake"
      ],
      "metadata": {
        "colab": {
          "base_uri": "https://localhost:8080/"
        },
        "id": "9Jr6ogP_PvZE",
        "outputId": "6523eada-05db-45c3-93a2-40d3f545a5d9"
      },
      "execution_count": 104,
      "outputs": [
        {
          "output_type": "stream",
          "name": "stdout",
          "text": [
            "Looking in indexes: https://pypi.org/simple, https://us-python.pkg.dev/colab-wheels/public/simple/\n",
            "Requirement already satisfied: python-rake in /usr/local/lib/python3.7/dist-packages (1.5.0)\n"
          ]
        }
      ]
    },
    {
      "cell_type": "code",
      "source": [
        "!pip install summa"
      ],
      "metadata": {
        "id": "vZ6WQgPPbXnN"
      },
      "execution_count": null,
      "outputs": []
    },
    {
      "cell_type": "code",
      "source": [
        "import re\n",
        "import os\n",
        "from nltk import pos_tag\n",
        "from tqdm.auto import tqdm\n",
        "import RAKE\n",
        "import nltk\n",
        "nltk.download('stopwords')\n",
        "nltk.download('punkt')\n",
        "from nltk.corpus import stopwords\n",
        "stop = stopwords.words('english')\n",
        "from textblob import TextBlob, Word\n",
        "nltk.download('averaged_perceptron_tagger')\n",
        "nltk.download('wordnet')\n",
        "nltk.download('omw-1.4')\n",
        "from summa import keywords\n",
        "import spacy\n",
        "nlp = spacy.load('en_core_web_sm')\n",
        "from sklearn.metrics import f1_score, precision_score,recall_score\n",
        "from sklearn.preprocessing import MultiLabelBinarizer"
      ],
      "metadata": {
        "colab": {
          "base_uri": "https://localhost:8080/"
        },
        "id": "oe2XCGtADfMV",
        "outputId": "7f5ecd15-d77b-456d-a0b5-123bfedf3de2"
      },
      "execution_count": 287,
      "outputs": [
        {
          "output_type": "stream",
          "name": "stderr",
          "text": [
            "[nltk_data] Downloading package stopwords to /root/nltk_data...\n",
            "[nltk_data]   Package stopwords is already up-to-date!\n",
            "[nltk_data] Downloading package punkt to /root/nltk_data...\n",
            "[nltk_data]   Package punkt is already up-to-date!\n",
            "[nltk_data] Downloading package averaged_perceptron_tagger to\n",
            "[nltk_data]     /root/nltk_data...\n",
            "[nltk_data]   Package averaged_perceptron_tagger is already up-to-\n",
            "[nltk_data]       date!\n",
            "[nltk_data] Downloading package wordnet to /root/nltk_data...\n",
            "[nltk_data]   Package wordnet is already up-to-date!\n",
            "[nltk_data] Downloading package omw-1.4 to /root/nltk_data...\n",
            "[nltk_data]   Package omw-1.4 is already up-to-date!\n"
          ]
        }
      ]
    },
    {
      "cell_type": "markdown",
      "source": [
        "## 1-2. Описание корпуса, загрузка данных, ручная разметка ключевых слов"
      ],
      "metadata": {
        "id": "kVYSpKcvMOp7"
      }
    },
    {
      "cell_type": "markdown",
      "source": [
        "Я использовала корпус [Inspec](https://github.com/LIAAD/KeywordExtractor-Datasets/blob/master/datasets/Inspec.zip)\n",
        "\n",
        "\n",
        "Description: Inspec consists of 2,000 abstracts of scientific journal papers from Computer Science collected between the years 1998 and 2002. Each document has two sets of keywords assigned: the controlled keywords, which are manually controlled assigned keywords that appear in the Inspec thesaurus but may not appear in the document, and the uncontrolled keywords which are freely assigned by the editors, i.e., are not restricted to the thesaurus or to the document. In our repository, we consider a union of both sets as the ground-truth."
      ],
      "metadata": {
        "id": "wktltRpkLUa1"
      }
    },
    {
      "cell_type": "markdown",
      "source": [
        "Для задания я взяла 27 текстов - abstracts из научных журналов. Средний размер каждого текста 128 токенов, поэтому для получения корпуса из 3-5 тысяч токенов я использовала 30 текстов. Данные в корпусе представлены в виде набора файлов с расширениями .key и .txt\n",
        "\n",
        "Для каждого abstract, то есть для каждого файла .txt есть свой файл .key с таким же названием."
      ],
      "metadata": {
        "id": "1Zlq4E9yLonY"
      }
    },
    {
      "cell_type": "markdown",
      "source": [
        "Помимо этого, для каждого .key файла после эталонной разметки я составила свою.\n",
        "\n",
        "Пример:\n",
        "\n",
        "эталонное_слово_1\n",
        "\n",
        "эталонное_слово_2\n",
        "\n",
        "эталонное_слово_3\n",
        "\n",
        "эталонное_слово_4\n",
        "\n",
        "##\n",
        "\n",
        "мое_слово_1\n",
        "\n",
        "мое_слово_2\n",
        "\n",
        "мое_слово_3"
      ],
      "metadata": {
        "id": "vZJTyNU8uxcO"
      }
    },
    {
      "cell_type": "code",
      "execution_count": 208,
      "metadata": {
        "id": "BoiFX2ZXBjsa"
      },
      "outputs": [],
      "source": [
        "txt_files = []\n",
        "key_files = []\n",
        "def go_through_files(curr_dir):  # функция для сбора всех файлов в один список\n",
        "    for root, dirs, files in os.walk(curr_dir):\n",
        "        for name in files:\n",
        "            if re.match(r'.*\\.key', name):\n",
        "                key_files.append(os.path.join(root, name))\n",
        "            if re.match(r'.*\\.txt', name):\n",
        "                txt_files.append(os.path.join(root, name))\n",
        "    return sorted(txt_files), sorted(key_files)\n"
      ]
    },
    {
      "cell_type": "code",
      "source": [
        "txt_files, key_files = go_through_files('corpus')"
      ],
      "metadata": {
        "id": "gWFxZY83DeCm"
      },
      "execution_count": 209,
      "outputs": []
    },
    {
      "cell_type": "code",
      "source": [
        "txt_files"
      ],
      "metadata": {
        "colab": {
          "base_uri": "https://localhost:8080/"
        },
        "id": "IzZONhJaFZxu",
        "outputId": "2386f084-889e-4caf-be69-219e5a2282ec"
      },
      "execution_count": 210,
      "outputs": [
        {
          "output_type": "execute_result",
          "data": {
            "text/plain": [
              "['corpus/11.txt',\n",
              " 'corpus/12.txt',\n",
              " 'corpus/13.txt',\n",
              " 'corpus/14.txt',\n",
              " 'corpus/15.txt',\n",
              " 'corpus/16.txt',\n",
              " 'corpus/17.txt',\n",
              " 'corpus/18.txt',\n",
              " 'corpus/19.txt',\n",
              " 'corpus/2.txt',\n",
              " 'corpus/20.txt',\n",
              " 'corpus/21.txt',\n",
              " 'corpus/22.txt',\n",
              " 'corpus/23.txt',\n",
              " 'corpus/24.txt',\n",
              " 'corpus/25.txt',\n",
              " 'corpus/26.txt',\n",
              " 'corpus/27.txt',\n",
              " 'corpus/28.txt',\n",
              " 'corpus/29.txt',\n",
              " 'corpus/3.txt',\n",
              " 'corpus/30.txt',\n",
              " 'corpus/4.txt',\n",
              " 'corpus/6.txt',\n",
              " 'corpus/7.txt',\n",
              " 'corpus/8.txt',\n",
              " 'corpus/9.txt']"
            ]
          },
          "metadata": {},
          "execution_count": 210
        }
      ]
    },
    {
      "cell_type": "code",
      "source": [
        "key_files"
      ],
      "metadata": {
        "colab": {
          "base_uri": "https://localhost:8080/"
        },
        "id": "bDNFGNTQFcHp",
        "outputId": "fbb90ba3-a2b2-48af-b2bd-3a880020b747"
      },
      "execution_count": 211,
      "outputs": [
        {
          "output_type": "execute_result",
          "data": {
            "text/plain": [
              "['corpus/11.key',\n",
              " 'corpus/12.key',\n",
              " 'corpus/13.key',\n",
              " 'corpus/14.key',\n",
              " 'corpus/15.key',\n",
              " 'corpus/16.key',\n",
              " 'corpus/17.key',\n",
              " 'corpus/18.key',\n",
              " 'corpus/19.key',\n",
              " 'corpus/2.key',\n",
              " 'corpus/20.key',\n",
              " 'corpus/21.key',\n",
              " 'corpus/22.key',\n",
              " 'corpus/23.key',\n",
              " 'corpus/24.key',\n",
              " 'corpus/25.key',\n",
              " 'corpus/26.key',\n",
              " 'corpus/27.key',\n",
              " 'corpus/28.key',\n",
              " 'corpus/29.key',\n",
              " 'corpus/3.key',\n",
              " 'corpus/30.key',\n",
              " 'corpus/4.key',\n",
              " 'corpus/6.key',\n",
              " 'corpus/7.key',\n",
              " 'corpus/8.key',\n",
              " 'corpus/9.key']"
            ]
          },
          "metadata": {},
          "execution_count": 211
        }
      ]
    },
    {
      "cell_type": "code",
      "source": [
        "def read(txt_files, sep = '$'): # функция препроцессинга (для вызова модуля из пакета), на выходе - список строк после препроцессинга\n",
        "    preproc = []\n",
        "    read = []\n",
        "    for file in tqdm(txt_files):\n",
        "        with open(file) as f:\n",
        "            readd =  ''.join(f.read().split('\\t'))\n",
        "            \n",
        "            read.append(readd.replace('\\n', sep))\n",
        "            \n",
        "    return read"
      ],
      "metadata": {
        "id": "LeTU358HHE5_"
      },
      "execution_count": 212,
      "outputs": []
    },
    {
      "cell_type": "code",
      "source": [
        "read_txt = read(txt_files, sep = ' ')"
      ],
      "metadata": {
        "colab": {
          "base_uri": "https://localhost:8080/",
          "height": 49,
          "referenced_widgets": [
            "02d2fb689c7e45218e92c217f8449a20",
            "d2356b00d51a4517b9a13dd2ab44fdcf",
            "5b0b8c0cb3c44ac68045077cdb8f6477",
            "0d6228d875d941f99e0055416753b004",
            "395eb39e9d7346ada18ed4981ede1d2c",
            "bcdb8f35a5534dbe92da532a16a1c3dc",
            "b7afc2bcd9a847b2a0f43d9bb37b6454",
            "82e0028d6bae41f68c19e6fa327c8e71",
            "7ab52796ea9a4bc09e81736d9aff1ded",
            "3a73a7905ad74edea2cddfb7af01d823",
            "3af64306672148909f8278ee31eae6e8"
          ]
        },
        "id": "rzO3uloKJuT_",
        "outputId": "17ccd0ad-9a8c-42ec-959b-710e329a6fb4"
      },
      "execution_count": 213,
      "outputs": [
        {
          "output_type": "display_data",
          "data": {
            "text/plain": [
              "  0%|          | 0/27 [00:00<?, ?it/s]"
            ],
            "application/vnd.jupyter.widget-view+json": {
              "version_major": 2,
              "version_minor": 0,
              "model_id": "02d2fb689c7e45218e92c217f8449a20"
            }
          },
          "metadata": {}
        }
      ]
    },
    {
      "cell_type": "code",
      "source": [
        "read_txt[0]"
      ],
      "metadata": {
        "colab": {
          "base_uri": "https://localhost:8080/",
          "height": 195
        },
        "id": "djHgNL4AM7P3",
        "outputId": "2ae1a0e0-5883-461d-cb73-bd42dfb5a2de"
      },
      "execution_count": 214,
      "outputs": [
        {
          "output_type": "execute_result",
          "data": {
            "text/plain": [
              "'Does social capital determine innovation? To what extent? This paper deals with two questions: Does social capital determine innovation in manufacturing firms? If it is the case, to what extent? To deal with these questions, we review the literature on innovation in order to see how social capital came to be added to the other forms of capital as an explanatory variable of innovation. In doing so, we have been led to follow the dominating view of the literature on social capital and innovation which claims that social capital cannot be captured through a single indicator, but that it actually takes many different forms that must be accounted for. Therefore, to the traditional explanatory variables of innovation, we have added five forms of structural social capital (business network assets, information network assets, research network assets, participation assets, and relational assets) and one form of cognitive social capital (reciprocal trust). In a context where empirical investigations regarding the relations between social capital and innovation are still scanty, this paper makes contributions to the advancement of knowledge in providing new evidence regarding the impact and the extent of social capital on innovation at the two decisionmaking stages considered in this study '"
            ],
            "application/vnd.google.colaboratory.intrinsic+json": {
              "type": "string"
            }
          },
          "metadata": {},
          "execution_count": 214
        }
      ]
    },
    {
      "cell_type": "code",
      "source": [
        "read_key = read(key_files)"
      ],
      "metadata": {
        "colab": {
          "base_uri": "https://localhost:8080/",
          "height": 49,
          "referenced_widgets": [
            "4b45386edb454f1fa21849978c228394",
            "03dd9b1a38de4bfbba451c1c6f3a57c2",
            "6330757767e44f35a2f65a4ffe409797",
            "5fe74f7bfaf04c9b9af14d0d8fba7550",
            "f8ecb87fe44144d2b18a42df4c7f8f7d",
            "97f2f010b9da4d27adcf691686f9b265",
            "3a18154519cd4282baa465c04665d894",
            "ef5c28cabd6c48bdb33797d62cc461a4",
            "137c2b23ac1e4daa9f099294b61418f8",
            "3cd58bb5396143d7b0345cdd293019ca",
            "ae81f5eaede7486f9b2464dd408a2385"
          ]
        },
        "id": "35v311ZZMVXf",
        "outputId": "445ba87f-37b8-4722-8e17-1b58b0069097"
      },
      "execution_count": 215,
      "outputs": [
        {
          "output_type": "display_data",
          "data": {
            "text/plain": [
              "  0%|          | 0/27 [00:00<?, ?it/s]"
            ],
            "application/vnd.jupyter.widget-view+json": {
              "version_major": 2,
              "version_minor": 0,
              "model_id": "4b45386edb454f1fa21849978c228394"
            }
          },
          "metadata": {}
        }
      ]
    },
    {
      "cell_type": "code",
      "source": [
        "read_key[0]"
      ],
      "metadata": {
        "colab": {
          "base_uri": "https://localhost:8080/",
          "height": 89
        },
        "id": "agjNLRoQMorp",
        "outputId": "e1b9e964-02fd-4666-9cb1-10b4483fc9b2"
      },
      "execution_count": 216,
      "outputs": [
        {
          "output_type": "execute_result",
          "data": {
            "text/plain": [
              "'innovation$manufacturing firms$business network assets$information network assets$research network assets$participation assets$relational assets$cognitive social capital$structural social capital$reciprocal trust$two-stage decision-making process$degree of radicalness$corporate modelling$decision theory$manufacturing industries$technological forecasting$$##$$social capital$innovation$questions$network assets$'"
            ],
            "application/vnd.google.colaboratory.intrinsic+json": {
              "type": "string"
            }
          },
          "metadata": {},
          "execution_count": 216
        }
      ]
    },
    {
      "cell_type": "code",
      "source": [
        "read_key_new = [el.split('#') for el in read_key]"
      ],
      "metadata": {
        "id": "soiakKI7U3jV"
      },
      "execution_count": 222,
      "outputs": []
    },
    {
      "cell_type": "code",
      "source": [],
      "metadata": {
        "id": "7RhzzZA6vjFC"
      },
      "execution_count": null,
      "outputs": []
    },
    {
      "cell_type": "code",
      "source": [
        "read_key_new[0]"
      ],
      "metadata": {
        "colab": {
          "base_uri": "https://localhost:8080/"
        },
        "id": "XTWNeUf2VBoD",
        "outputId": "b5d9072b-b52e-47bc-90b6-af3a90c51cd1"
      },
      "execution_count": 223,
      "outputs": [
        {
          "output_type": "execute_result",
          "data": {
            "text/plain": [
              "['innovation$manufacturing firms$business network assets$information network assets$research network assets$participation assets$relational assets$cognitive social capital$structural social capital$reciprocal trust$two-stage decision-making process$degree of radicalness$corporate modelling$decision theory$manufacturing industries$technological forecasting$$',\n",
              " '',\n",
              " '$$social capital$innovation$questions$network assets$']"
            ]
          },
          "metadata": {},
          "execution_count": 223
        }
      ]
    },
    {
      "cell_type": "code",
      "source": [
        "read_key_act = []\n",
        "read_key_my = []\n",
        "read_key_true = []\n",
        "for read_k in read_key_new:\n",
        "    act = read_k[0].split('$')\n",
        "    my = read_k[-1].split('$')\n",
        "    intt = set(act) & set(my)\n",
        "\n",
        "    read_key_act.append(act)\n",
        "    read_key_my.append(my)\n",
        "    read_key_true.append(intt)"
      ],
      "metadata": {
        "id": "KXddTjRWvqdQ"
      },
      "execution_count": 338,
      "outputs": []
    },
    {
      "cell_type": "code",
      "source": [
        " read_key_my[1]"
      ],
      "metadata": {
        "colab": {
          "base_uri": "https://localhost:8080/"
        },
        "id": "awY3Lb7KwbRp",
        "outputId": "ba7c1da5-b558-46a6-d528-03fde72cc931"
      },
      "execution_count": 341,
      "outputs": [
        {
          "output_type": "execute_result",
          "data": {
            "text/plain": [
              "['',\n",
              " '',\n",
              " 'National learning systems',\n",
              " 'technological change',\n",
              " 'evidences',\n",
              " 'late industrializing economies',\n",
              " 'macroevidences',\n",
              " 'Brazil',\n",
              " 'South Korea',\n",
              " 'processes',\n",
              " '']"
            ]
          },
          "metadata": {},
          "execution_count": 341
        }
      ]
    },
    {
      "cell_type": "code",
      "source": [
        " read_key_act[1]"
      ],
      "metadata": {
        "colab": {
          "base_uri": "https://localhost:8080/"
        },
        "id": "fN5pPfgP_mdi",
        "outputId": "3de2d1ab-082f-46b7-d388-dfcbea423b28"
      },
      "execution_count": 342,
      "outputs": [
        {
          "output_type": "execute_result",
          "data": {
            "text/plain": [
              "['national learning systems',\n",
              " 'technological change',\n",
              " 'late industrializing economies',\n",
              " 'Brazil',\n",
              " 'South Korea',\n",
              " 'national innovation system',\n",
              " 'economic cybernetics',\n",
              " 'technological forecasting',\n",
              " '',\n",
              " '']"
            ]
          },
          "metadata": {},
          "execution_count": 342
        }
      ]
    },
    {
      "cell_type": "code",
      "source": [
        "read_key_true[1]"
      ],
      "metadata": {
        "colab": {
          "base_uri": "https://localhost:8080/"
        },
        "id": "ItuAhn1d-3en",
        "outputId": "6213bce4-22f5-46a4-bd98-c329d7e6aedb"
      },
      "execution_count": 343,
      "outputs": [
        {
          "output_type": "execute_result",
          "data": {
            "text/plain": [
              "{'',\n",
              " 'Brazil',\n",
              " 'South Korea',\n",
              " 'late industrializing economies',\n",
              " 'technological change'}"
            ]
          },
          "metadata": {},
          "execution_count": 343
        }
      ]
    },
    {
      "cell_type": "markdown",
      "source": [
        "Кол-во токенов в корпусе"
      ],
      "metadata": {
        "id": "fcMDR0KG_J8X"
      }
    },
    {
      "cell_type": "code",
      "source": [
        "lenn = 0\n",
        "for elem in read_txt:\n",
        "    lenn += len(elem.split(' '))\n",
        "print(lenn)"
      ],
      "metadata": {
        "colab": {
          "base_uri": "https://localhost:8080/"
        },
        "id": "6mx-g76uJzxb",
        "outputId": "268566b9-1937-4bd7-b053-db134813e0e5"
      },
      "execution_count": 237,
      "outputs": [
        {
          "output_type": "stream",
          "name": "stdout",
          "text": [
            "3362\n"
          ]
        }
      ]
    },
    {
      "cell_type": "markdown",
      "source": [
        "## 3.0 Лемматизация и токенизация"
      ],
      "metadata": {
        "id": "71xHcaEDRgcJ"
      }
    },
    {
      "cell_type": "code",
      "source": [
        "def lemmatize_with_postag(sentence):\n",
        "    sent = TextBlob(sentence)\n",
        "    tag_dict = {\"J\": 'a', \n",
        "                \"N\": 'n', \n",
        "                \"V\": 'v', \n",
        "                \"R\": 'r'}\n",
        "    words_and_tags = [(w, tag_dict.get(pos[0], 'n')) for w, pos in sent.tags]    \n",
        "    lemmatized_list = [wd.lemmatize(tag).lower() for wd, tag in words_and_tags]\n",
        "    return \" \".join(lemmatized_list)\n",
        "\n",
        "# Lemmatize\n",
        "text_lemm = []\n",
        "key_lemm_my = []\n",
        "key_lemm = []\n",
        "key_lemm_intt = []\n",
        "for i in tqdm(range(len(read_txt))):\n",
        "    new_lem = []\n",
        "    new_lem2 = []\n",
        "    text_lemm.append(lemmatize_with_postag(read_txt[i]))\n",
        "    for el in read_key_act[i]:\n",
        "        new_lem.append(lemmatize_with_postag(el))\n",
        "    for el2 in read_key_my[i]:\n",
        "        new_lem2.append(lemmatize_with_postag(el2))\n",
        "    new_lemm_intt = set(new_lem) & set(new_lem2)\n",
        "    key_lemm.append(new_lem)\n",
        "    key_lemm_my.append(new_lem2)\n",
        "    key_lemm_intt.append(new_lemm_intt)"
      ],
      "metadata": {
        "colab": {
          "base_uri": "https://localhost:8080/",
          "height": 49,
          "referenced_widgets": [
            "7f66734eb01746bab58c46220453fba7",
            "ee6236b5785b48dd96f1d774a420e755",
            "51f612aec70143ee8afcdd3516c78bd9",
            "826cb0153ac448e981f41cbe6fc4f06f",
            "61a6efaa3f99422ba235174694b01e6b",
            "af69195fa47a401d8ac783128c15f309",
            "38e9456ff97947378f03a8cf5f5bd130",
            "e0598486e81e466aaa9cd18ec0ef7917",
            "ea9f0b947ace4c9898f54fdead1ad8b6",
            "1df926e462b24a52b8e3d071fc1bb4ae",
            "5b7e572e5b964768a742a0005f7611e1"
          ]
        },
        "id": "2rpie7O4Rl47",
        "outputId": "f689904f-2df0-440d-c7dd-f70c4ab9e4ed"
      },
      "execution_count": 346,
      "outputs": [
        {
          "output_type": "display_data",
          "data": {
            "text/plain": [
              "  0%|          | 0/27 [00:00<?, ?it/s]"
            ],
            "application/vnd.jupyter.widget-view+json": {
              "version_major": 2,
              "version_minor": 0,
              "model_id": "7f66734eb01746bab58c46220453fba7"
            }
          },
          "metadata": {}
        }
      ]
    },
    {
      "cell_type": "code",
      "source": [
        "text_lemm[0]"
      ],
      "metadata": {
        "colab": {
          "base_uri": "https://localhost:8080/",
          "height": 195
        },
        "id": "CHm6Kl7QRwxg",
        "outputId": "a2598b56-38ff-4cf0-cc47-2cb99b89b882"
      },
      "execution_count": 244,
      "outputs": [
        {
          "output_type": "execute_result",
          "data": {
            "text/plain": [
              "'does social capital determine innovation to what extent this paper deal with two question does social capital determine innovation in manufacturing firm if it be the case to what extent to deal with these question we review the literature on innovation in order to see how social capital come to be add to the other form of capital a an explanatory variable of innovation in do so we have be lead to follow the dominate view of the literature on social capital and innovation which claim that social capital can not be capture through a single indicator but that it actually take many different form that must be account for therefore to the traditional explanatory variable of innovation we have add five form of structural social capital business network asset information network asset research network asset participation asset and relational asset and one form of cognitive social capital reciprocal trust in a context where empirical investigation regard the relation between social capital and innovation be still scanty this paper make contribution to the advancement of knowledge in provide new evidence regard the impact and the extent of social capital on innovation at the two decisionmaking stage consider in this study'"
            ],
            "application/vnd.google.colaboratory.intrinsic+json": {
              "type": "string"
            }
          },
          "metadata": {},
          "execution_count": 244
        }
      ]
    },
    {
      "cell_type": "code",
      "source": [
        "key_lemm[0]"
      ],
      "metadata": {
        "colab": {
          "base_uri": "https://localhost:8080/"
        },
        "id": "PBP-d_sKTkh-",
        "outputId": "f3527632-0ce1-4219-cde2-7bdea6de5bf8"
      },
      "execution_count": 245,
      "outputs": [
        {
          "output_type": "execute_result",
          "data": {
            "text/plain": [
              "['innovation',\n",
              " 'manufacturing firm',\n",
              " 'business network asset',\n",
              " 'information network asset',\n",
              " 'research network asset',\n",
              " 'participation asset',\n",
              " 'relational asset',\n",
              " 'cognitive social capital',\n",
              " 'structural social capital',\n",
              " 'reciprocal trust',\n",
              " 'two-stage decision-making process',\n",
              " 'degree of radicalness',\n",
              " 'corporate modelling',\n",
              " 'decision theory',\n",
              " 'manufacturing industry',\n",
              " 'technological forecasting',\n",
              " '',\n",
              " '']"
            ]
          },
          "metadata": {},
          "execution_count": 245
        }
      ]
    },
    {
      "cell_type": "code",
      "source": [
        "key_lemm_my[0]"
      ],
      "metadata": {
        "colab": {
          "base_uri": "https://localhost:8080/"
        },
        "id": "Dq3Ip4WkxUR6",
        "outputId": "494a3a22-2356-45ff-ea97-9176708b77f6"
      },
      "execution_count": 246,
      "outputs": [
        {
          "output_type": "execute_result",
          "data": {
            "text/plain": [
              "['', '', 'social capital', 'innovation', 'question', 'network asset', '']"
            ]
          },
          "metadata": {},
          "execution_count": 246
        }
      ]
    },
    {
      "cell_type": "code",
      "source": [
        "key_lemm_intt[1]"
      ],
      "metadata": {
        "colab": {
          "base_uri": "https://localhost:8080/"
        },
        "id": "PvIZMdhABs0c",
        "outputId": "632865bb-49da-4e82-8010-ed93660a3655"
      },
      "execution_count": 348,
      "outputs": [
        {
          "output_type": "execute_result",
          "data": {
            "text/plain": [
              "{'',\n",
              " 'brazil',\n",
              " 'late industrializing economy',\n",
              " 'national learning system',\n",
              " 'south korea',\n",
              " 'technological change'}"
            ]
          },
          "metadata": {},
          "execution_count": 348
        }
      ]
    },
    {
      "cell_type": "code",
      "source": [
        "lenn = 0\n",
        "for key in key_lemm:\n",
        "    for elem in key:\n",
        "        if len(elem.split())>lenn:\n",
        "            lenn = len(elem.split())"
      ],
      "metadata": {
        "id": "CUGLqCoAXXAP"
      },
      "execution_count": 247,
      "outputs": []
    },
    {
      "cell_type": "code",
      "source": [
        "lenn"
      ],
      "metadata": {
        "colab": {
          "base_uri": "https://localhost:8080/"
        },
        "id": "k-_SuxbZXpM0",
        "outputId": "80cc08a6-c05d-4d03-c117-b58e391ab2b1"
      },
      "execution_count": 248,
      "outputs": [
        {
          "output_type": "execute_result",
          "data": {
            "text/plain": [
              "5"
            ]
          },
          "metadata": {},
          "execution_count": 248
        }
      ]
    },
    {
      "cell_type": "markdown",
      "source": [
        "## 3. Извлечение ключевых слов"
      ],
      "metadata": {
        "id": "zCrZrwl_RVhX"
      }
    },
    {
      "cell_type": "markdown",
      "source": [
        "#### RAKE"
      ],
      "metadata": {
        "id": "dVZtjRciT2OG"
      }
    },
    {
      "cell_type": "code",
      "source": [
        "rake = RAKE.Rake(stop)"
      ],
      "metadata": {
        "id": "jR-BfDanPRsB"
      },
      "execution_count": 135,
      "outputs": []
    },
    {
      "cell_type": "code",
      "source": [
        "rake_list = []\n",
        "for t in text_lemm:\n",
        "  \n",
        "    run=[elem[0] for elem in rake.run(t, maxWords=5, minFrequency=2)]\n",
        "    rake_list.append(run)"
      ],
      "metadata": {
        "id": "c3LVhiXSUD4H"
      },
      "execution_count": 301,
      "outputs": []
    },
    {
      "cell_type": "code",
      "source": [
        "rake_list[0]"
      ],
      "metadata": {
        "colab": {
          "base_uri": "https://localhost:8080/"
        },
        "id": "RiZ61j36XtYp",
        "outputId": "b2540668-9877-4a03-8a2f-a0aa0917af12"
      },
      "execution_count": 302,
      "outputs": [
        {
          "output_type": "execute_result",
          "data": {
            "text/plain": [
              "['social capital determine innovation',\n",
              " 'social capital',\n",
              " 'innovation',\n",
              " 'extent',\n",
              " 'literature']"
            ]
          },
          "metadata": {},
          "execution_count": 302
        }
      ]
    },
    {
      "cell_type": "code",
      "source": [
        "!pip install rake-nltk"
      ],
      "metadata": {
        "colab": {
          "base_uri": "https://localhost:8080/"
        },
        "id": "hg2YAk8LZzP_",
        "outputId": "76484b81-b250-4380-e829-4ff0292a286f"
      },
      "execution_count": 176,
      "outputs": [
        {
          "output_type": "stream",
          "name": "stdout",
          "text": [
            "Looking in indexes: https://pypi.org/simple, https://us-python.pkg.dev/colab-wheels/public/simple/\n",
            "Collecting rake-nltk\n",
            "  Downloading rake_nltk-1.0.6-py3-none-any.whl (9.1 kB)\n",
            "Requirement already satisfied: nltk<4.0.0,>=3.6.2 in /usr/local/lib/python3.7/dist-packages (from rake-nltk) (3.7)\n",
            "Requirement already satisfied: click in /usr/local/lib/python3.7/dist-packages (from nltk<4.0.0,>=3.6.2->rake-nltk) (7.1.2)\n",
            "Requirement already satisfied: regex>=2021.8.3 in /usr/local/lib/python3.7/dist-packages (from nltk<4.0.0,>=3.6.2->rake-nltk) (2022.6.2)\n",
            "Requirement already satisfied: joblib in /usr/local/lib/python3.7/dist-packages (from nltk<4.0.0,>=3.6.2->rake-nltk) (1.2.0)\n",
            "Requirement already satisfied: tqdm in /usr/local/lib/python3.7/dist-packages (from nltk<4.0.0,>=3.6.2->rake-nltk) (4.64.1)\n",
            "Installing collected packages: rake-nltk\n",
            "Successfully installed rake-nltk-1.0.6\n"
          ]
        }
      ]
    },
    {
      "cell_type": "code",
      "source": [
        "from rake_nltk import Rake\n",
        "rake_nltk_var = Rake()"
      ],
      "metadata": {
        "id": "E8w2-pv6Znsz"
      },
      "execution_count": 177,
      "outputs": []
    },
    {
      "cell_type": "code",
      "source": [
        "rake_nltk_list = []\n",
        "for t in read_txt:\n",
        "    rake_nltk_var.extract_keywords_from_text(t)\n",
        "    keyword_extracted = rake_nltk_var.get_ranked_phrases()[:5]\n",
        "    rake_nltk_list.append(keyword_extracted )"
      ],
      "metadata": {
        "id": "ln8b2uURZ37m"
      },
      "execution_count": 303,
      "outputs": []
    },
    {
      "cell_type": "code",
      "source": [
        "rake_nltk_list[0]"
      ],
      "metadata": {
        "colab": {
          "base_uri": "https://localhost:8080/"
        },
        "id": "HD0Qa_XVaP44",
        "outputId": "95020b6d-540b-462a-f970-2673e0264113"
      },
      "execution_count": 304,
      "outputs": [
        {
          "output_type": "execute_result",
          "data": {
            "text/plain": [
              "['actually takes many different forms',\n",
              " 'providing new evidence regarding',\n",
              " 'two decisionmaking stages considered',\n",
              " 'social capital determine innovation',\n",
              " 'social capital determine innovation']"
            ]
          },
          "metadata": {},
          "execution_count": 304
        }
      ]
    },
    {
      "cell_type": "markdown",
      "source": [
        "возьмем это тоже"
      ],
      "metadata": {
        "id": "625_UD6P3Fhu"
      }
    },
    {
      "cell_type": "markdown",
      "source": [
        "#### Text Rank"
      ],
      "metadata": {
        "id": "7ujvMZJHZJJG"
      }
    },
    {
      "cell_type": "code",
      "source": [
        "text_rank_list = []\n",
        "text_rank_list_new = []\n",
        "for t in text_lemm:\n",
        "    run = [elem[0] for elem in keywords.keywords(t, language='english', additional_stopwords=stop, scores=True)]\n",
        "    text_rank_list.append(run)"
      ],
      "metadata": {
        "id": "jJ01oXMDbdOB"
      },
      "execution_count": 313,
      "outputs": []
    },
    {
      "cell_type": "code",
      "source": [
        "text_rank_list[0]"
      ],
      "metadata": {
        "colab": {
          "base_uri": "https://localhost:8080/"
        },
        "id": "-GG9UlY1bmDG",
        "outputId": "c3c73cf8-f057-45dd-9eaa-a6af87438fa7"
      },
      "execution_count": 314,
      "outputs": [
        {
          "output_type": "execute_result",
          "data": {
            "text/plain": [
              "['social capital', 'network asset', 'explanatory', 'stage', 'paper', 'make']"
            ]
          },
          "metadata": {},
          "execution_count": 314
        }
      ]
    },
    {
      "cell_type": "code",
      "source": [
        "text_rank_list_new = []\n",
        "for t in read_txt:\n",
        "    run = [elem[0] for elem in keywords.keywords(t, language='english', additional_stopwords=stop, scores=True)]\n",
        "    text_rank_list_new.append(run)"
      ],
      "metadata": {
        "id": "BcxW7scXcGaG"
      },
      "execution_count": 315,
      "outputs": []
    },
    {
      "cell_type": "code",
      "source": [
        "text_rank_list_new[0]"
      ],
      "metadata": {
        "colab": {
          "base_uri": "https://localhost:8080/"
        },
        "id": "q6HexapucOWW",
        "outputId": "b44c168c-6bd0-40fd-9018-2a317abc0fc1"
      },
      "execution_count": 316,
      "outputs": [
        {
          "output_type": "execute_result",
          "data": {
            "text/plain": [
              "['assets',\n",
              " 'social capital',\n",
              " 'network',\n",
              " 'new',\n",
              " 'stages',\n",
              " 'explanatory',\n",
              " 'makes']"
            ]
          },
          "metadata": {},
          "execution_count": 316
        }
      ]
    },
    {
      "cell_type": "markdown",
      "source": [
        "#### YAKE!\n",
        "\n",
        "Чем меньше скор, тем лучше"
      ],
      "metadata": {
        "id": "geIuQ-C2cSzV"
      }
    },
    {
      "cell_type": "code",
      "source": [
        "!pip install git+https://github.com/LIAAD/yake\n",
        "import yake"
      ],
      "metadata": {
        "colab": {
          "base_uri": "https://localhost:8080/"
        },
        "id": "6VZaSSj8dYbK",
        "outputId": "1e64c0a9-8652-460f-e1f9-153810ecec72"
      },
      "execution_count": 194,
      "outputs": [
        {
          "output_type": "stream",
          "name": "stdout",
          "text": [
            "Looking in indexes: https://pypi.org/simple, https://us-python.pkg.dev/colab-wheels/public/simple/\n",
            "Collecting git+https://github.com/LIAAD/yake\n",
            "  Cloning https://github.com/LIAAD/yake to /tmp/pip-req-build-8_pmij7_\n",
            "  Running command git clone -q https://github.com/LIAAD/yake /tmp/pip-req-build-8_pmij7_\n",
            "Requirement already satisfied: tabulate in /usr/local/lib/python3.7/dist-packages (from yake==0.4.8) (0.8.10)\n",
            "Requirement already satisfied: click>=6.0 in /usr/local/lib/python3.7/dist-packages (from yake==0.4.8) (7.1.2)\n",
            "Requirement already satisfied: numpy in /usr/local/lib/python3.7/dist-packages (from yake==0.4.8) (1.21.6)\n",
            "Collecting segtok\n",
            "  Downloading segtok-1.5.11-py3-none-any.whl (24 kB)\n",
            "Requirement already satisfied: networkx in /usr/local/lib/python3.7/dist-packages (from yake==0.4.8) (2.6.3)\n",
            "Collecting jellyfish\n",
            "  Downloading jellyfish-0.9.0.tar.gz (132 kB)\n",
            "\u001b[K     |████████████████████████████████| 132 kB 7.6 MB/s \n",
            "\u001b[?25hRequirement already satisfied: regex in /usr/local/lib/python3.7/dist-packages (from segtok->yake==0.4.8) (2022.6.2)\n",
            "Building wheels for collected packages: yake, jellyfish\n",
            "  Building wheel for yake (setup.py) ... \u001b[?25l\u001b[?25hdone\n",
            "  Created wheel for yake: filename=yake-0.4.8-py2.py3-none-any.whl size=62599 sha256=99f0e22092117000ca0939cde55387ede8a33b63305ff2a1afd7b4e3e8f0fddb\n",
            "  Stored in directory: /tmp/pip-ephem-wheel-cache-6dq64gj5/wheels/52/79/f4/dae9309f60266aa3767a4381405002b6f2955fbcf038d804da\n",
            "  Building wheel for jellyfish (setup.py) ... \u001b[?25l\u001b[?25hdone\n",
            "  Created wheel for jellyfish: filename=jellyfish-0.9.0-cp37-cp37m-linux_x86_64.whl size=73983 sha256=b1c7cbbfec30fb0a207ed127410a8df02ec368997d67b2c90fc3ded0521b7554\n",
            "  Stored in directory: /root/.cache/pip/wheels/fe/99/4e/646ce766df0d070b0ef04db27aa11543e2767fda3075aec31b\n",
            "Successfully built yake jellyfish\n",
            "Installing collected packages: segtok, jellyfish, yake\n",
            "Successfully installed jellyfish-0.9.0 segtok-1.5.11 yake-0.4.8\n"
          ]
        }
      ]
    },
    {
      "cell_type": "code",
      "source": [
        "yake_li = []\n",
        "kw_extractor = yake.KeywordExtractor(top=5, stopwords=stop)\n",
        "for t in text_lemm:\n",
        "    keywords = [el[0] for el in kw_extractor.extract_keywords(t)]\n",
        "    yake_li.append(keywords)\n"
      ],
      "metadata": {
        "id": "XIgetl1Lde4E"
      },
      "execution_count": 317,
      "outputs": []
    },
    {
      "cell_type": "code",
      "source": [
        "yake_li[0]"
      ],
      "metadata": {
        "colab": {
          "base_uri": "https://localhost:8080/"
        },
        "id": "f3tf7UUvepGK",
        "outputId": "e930da79-0afc-49fe-cc10-ddbf0644df57"
      },
      "execution_count": 318,
      "outputs": [
        {
          "output_type": "execute_result",
          "data": {
            "text/plain": [
              "['social capital determine',\n",
              " 'capital determine innovation',\n",
              " 'structural social capital',\n",
              " 'cognitive social capital',\n",
              " 'social capital come']"
            ]
          },
          "metadata": {},
          "execution_count": 318
        }
      ]
    },
    {
      "cell_type": "code",
      "source": [
        "yake_li_new=[]\n",
        "for t in read_txt:\n",
        "    keywords = kw_extractor.extract_keywords(t)\n",
        "    yake_li_new.append(keywords)"
      ],
      "metadata": {
        "id": "zdHdxhnpevSE"
      },
      "execution_count": 319,
      "outputs": []
    },
    {
      "cell_type": "code",
      "source": [
        "yake_li_new[0]"
      ],
      "metadata": {
        "colab": {
          "base_uri": "https://localhost:8080/"
        },
        "id": "oBkwY8_Me6m5",
        "outputId": "430c0b5c-56fe-4c18-e027-66619a76380b"
      },
      "execution_count": 320,
      "outputs": [
        {
          "output_type": "execute_result",
          "data": {
            "text/plain": [
              "[('social capital', 0.0210969612352439),\n",
              " ('capital', 0.03954309252718451),\n",
              " ('social capital determine', 0.041654726023696485),\n",
              " ('social', 0.044838264177201305),\n",
              " ('capital determine innovation', 0.04927598777265478)]"
            ]
          },
          "metadata": {},
          "execution_count": 320
        }
      ]
    },
    {
      "cell_type": "markdown",
      "source": [
        "Без лемматизации значения хуже, поэтому оставляем ее"
      ],
      "metadata": {
        "id": "BGj-O_Uh2pT0"
      }
    },
    {
      "cell_type": "markdown",
      "source": [
        "## 4. Морфологические/синтаксические шаблоны"
      ],
      "metadata": {
        "id": "UXkOVgurfTre"
      }
    },
    {
      "cell_type": "code",
      "source": [
        "def find_pos(word):\n",
        "    return nltk.pos_tag(word)"
      ],
      "metadata": {
        "id": "AkOLOBwSzOm9"
      },
      "execution_count": 321,
      "outputs": []
    },
    {
      "cell_type": "code",
      "source": [
        "def filter_keywords(keywords):\n",
        "    patterns = ['NOUN NOUN', 'ADJ NOUN', 'NOUN ADP NOUN', \"NOUN\", 'PROPN PROPN']\n",
        "    pos_tags = []\n",
        "    for i in keywords:\n",
        "        filtered = []\n",
        "        for key in i:\n",
        "  \n",
        "            doc = nlp(key)\n",
        "            pos = ' '.join([word.pos_ for word in doc])\n",
        "      \n",
        "            if pos in patterns:\n",
        "                filtered.append(key)\n",
        "        pos_tags.append(filtered)\n",
        "    return pos_tags\n"
      ],
      "metadata": {
        "id": "DvV8PoJxftln"
      },
      "execution_count": 322,
      "outputs": []
    },
    {
      "cell_type": "code",
      "source": [
        "filt_rake = filter_keywords(rake_list)\n",
        "filt_rake_nltk = filter_keywords(rake_nltk_list)\n",
        "filt_rank = filter_keywords(text_rank_list)\n",
        "filt_rank_nolem = filter_keywords(text_rank_list_new)\n",
        "filt_yake = filter_keywords(yake_li)"
      ],
      "metadata": {
        "id": "SiDYucXJ0y7K"
      },
      "execution_count": 323,
      "outputs": []
    },
    {
      "cell_type": "markdown",
      "source": [
        "## Оценить точность, полноту, F-меру"
      ],
      "metadata": {
        "id": "8UoG6Wul36D-"
      }
    },
    {
      "cell_type": "code",
      "source": [
        "mlb = MultiLabelBinarizer()"
      ],
      "metadata": {
        "id": "yMlCRTBg7HwM"
      },
      "execution_count": 289,
      "outputs": []
    },
    {
      "cell_type": "code",
      "source": [
        "def count_metrics(true, pred, filtered = 0):\n",
        "    pred = mlb.transform(pred)\n",
        "    f1 =  f1_score(true, pred, average='micro')\n",
        "    prec = precision_score(true,pred, average='micro')\n",
        "    rec = recall_score(true, pred, average='micro')\n",
        "    return f1, prec, rec"
      ],
      "metadata": {
        "id": "K2NILq_53Ueq"
      },
      "execution_count": 329,
      "outputs": []
    },
    {
      "cell_type": "code",
      "source": [
        "true_keys = list(map(list,key_lemm_intt))"
      ],
      "metadata": {
        "id": "rTSFFk8_Cwyy"
      },
      "execution_count": 355,
      "outputs": []
    },
    {
      "cell_type": "code",
      "source": [
        "all_tags = true_keys + rake_list + text_rank_list + yake_li + rake_nltk_list + text_rank_list_new\n",
        "mlb.fit(all_tags)\n",
        "true = mlb.transform(true_keys)"
      ],
      "metadata": {
        "id": "P5Vb8OG57dh5"
      },
      "execution_count": 385,
      "outputs": []
    },
    {
      "cell_type": "code",
      "source": [
        "count_metrics(true, rake_nltk_list)"
      ],
      "metadata": {
        "colab": {
          "base_uri": "https://localhost:8080/"
        },
        "id": "YAP_Wc926pVN",
        "outputId": "ffeeb6ff-8f0e-48a2-f63a-9fc058a23ad3"
      },
      "execution_count": 386,
      "outputs": [
        {
          "output_type": "execute_result",
          "data": {
            "text/plain": [
              "(0.01639344262295082, 0.015625, 0.017241379310344827)"
            ]
          },
          "metadata": {},
          "execution_count": 386
        }
      ]
    },
    {
      "cell_type": "code",
      "source": [
        "count_metrics(true, rake_list)"
      ],
      "metadata": {
        "colab": {
          "base_uri": "https://localhost:8080/"
        },
        "id": "M3gvPsLPCJLg",
        "outputId": "99310d05-484b-41a5-8668-899e409be5d3"
      },
      "execution_count": 361,
      "outputs": [
        {
          "output_type": "execute_result",
          "data": {
            "text/plain": [
              "(0.11235955056179776, 0.16129032258064516, 0.08620689655172414)"
            ]
          },
          "metadata": {},
          "execution_count": 361
        }
      ]
    },
    {
      "cell_type": "code",
      "source": [
        "import pandas as pd\n",
        "\n",
        "filtered = [filt_rake, filt_rake_nltk, filt_rank, filt_rank_nolem, filt_yake]\n",
        "index = ['F1-score', 'Precision', 'Recall']\n",
        "columns = ['rake', 'rake_nltk', 'rank', 'rank_nolem', 'yake']\n",
        "df = pd.DataFrame( index = index,\n",
        "               columns =columns)\n",
        "filt_vals = []\n",
        "print(\"FILTERED\")\n",
        "def show_metrics(filtered):\n",
        "    for i  in range(len(filtered)):\n",
        "        f1, prec, rec = count_metrics(true, filtered[i])\n",
        "        print(columns[i], ':')\n",
        "        print('F1-score:', f1)\n",
        "        print('Precision:', prec)\n",
        "        print('Recall:', rec)\n",
        "\n",
        "unfilt = [rake_list, rake_nltk_list, text_rank_list, text_rank_list_new, yake_li]\n",
        "show_metrics(filtered)\n",
        "print('-'*30)\n",
        "print('NOT FILTERED')\n",
        "show_metrics(unfilt)\n",
        "\n"
      ],
      "metadata": {
        "colab": {
          "base_uri": "https://localhost:8080/"
        },
        "id": "8G5i4yLI-VEB",
        "outputId": "c1786f42-b7d3-4a3f-9380-d82a538e91b7"
      },
      "execution_count": 388,
      "outputs": [
        {
          "output_type": "stream",
          "name": "stdout",
          "text": [
            "FILTERED\n",
            "rake :\n",
            "F1-score: 0.06756756756756757\n",
            "Precision: 0.15625\n",
            "Recall: 0.04310344827586207\n",
            "rake_nltk :\n",
            "F1-score: 0.0\n",
            "Precision: 0.0\n",
            "Recall: 0.0\n",
            "rank :\n",
            "F1-score: 0.04278074866310161\n",
            "Precision: 0.056338028169014086\n",
            "Recall: 0.034482758620689655\n",
            "rank_nolem :\n",
            "F1-score: 0.01015228426395939\n",
            "Precision: 0.012345679012345678\n",
            "Recall: 0.008620689655172414\n",
            "yake :\n",
            "F1-score: 0.017094017094017096\n",
            "Precision: 1.0\n",
            "Recall: 0.008620689655172414\n",
            "------------------------------\n",
            "NOT FILTERED\n",
            "rake :\n",
            "F1-score: 0.11235955056179776\n",
            "Precision: 0.16129032258064516\n",
            "Recall: 0.08620689655172414\n",
            "rake_nltk :\n",
            "F1-score: 0.01639344262295082\n",
            "Precision: 0.015625\n",
            "Recall: 0.017241379310344827\n",
            "rank :\n",
            "F1-score: 0.03861003861003861\n",
            "Precision: 0.03496503496503497\n",
            "Recall: 0.04310344827586207\n",
            "rank_nolem :\n",
            "F1-score: 0.007168458781362007\n",
            "Precision: 0.006134969325153374\n",
            "Recall: 0.008620689655172414\n",
            "yake :\n",
            "F1-score: 0.0796812749003984\n",
            "Precision: 0.07407407407407407\n",
            "Recall: 0.08620689655172414\n"
          ]
        }
      ]
    },
    {
      "cell_type": "markdown",
      "source": [
        "##  ошибки автоматического выделения ключевых слов"
      ],
      "metadata": {
        "id": "147SRV73JUHj"
      }
    },
    {
      "cell_type": "markdown",
      "source": [
        "Можно заметить, что все не очень хорошо справились. Лучше всего был для не отфильтрованный yake (причем он хорошо отработал для f-score и recall, а для precision в отфильтрованных данных показал 1), для отфильтрованных данных rank и rake относительно неплохие. Удивительно, что yake фильтрация данных не помогла, а наоборот, помешала. "
      ],
      "metadata": {
        "id": "kaigYLO7Jk5w"
      }
    }
  ]
}
